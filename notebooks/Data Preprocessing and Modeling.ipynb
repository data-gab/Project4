{
 "cells": [
  {
   "cell_type": "markdown",
   "metadata": {},
   "source": [
    "# Data Preprocessing and Modeling"
   ]
  },
  {
   "cell_type": "code",
   "execution_count": 1,
   "metadata": {},
   "outputs": [],
   "source": [
    "# Import necessary libraries\n",
    "import pandas as pd\n",
    "import numpy as np\n",
    "import matplotlib.pyplot as plt\n",
    "%matplotlib inline\n",
    "\n",
    "import warnings\n",
    "warnings.filterwarnings('ignore')\n",
    "\n",
    "from sklearn.model_selection import train_test_split\n",
    "from sklearn.metrics import mean_squared_error\n",
    "from sklearn.model_selection import cross_val_predict\n",
    "from sklearn.metrics import classification_report\n",
    "from sklearn.metrics import confusion_matrix\n",
    "\n",
    "import itertools\n",
    "\n",
    "import keras\n",
    "from keras import layers\n",
    "from keras.models import Sequential\n",
    "from keras.layers import Dense\n",
    "\n",
    "from keras.preprocessing.image import ImageDataGenerator, array_to_img, img_to_array, load_img\n",
    "from keras import regularizers\n",
    "from keras.wrappers.scikit_learn import KerasRegressor\n",
    "from keras.layers import Convolution2D\n",
    "from keras.layers import MaxPooling2D\n",
    "from keras.layers import Flatten\n",
    "from keras.layers import Dense\n",
    "from keras.callbacks import EarlyStopping, ModelCheckpoint\n",
    "from keras import regularizers\n",
    "\n",
    "from keras.applications.vgg16 import preprocess_input\n",
    "from keras.applications.vgg16 import VGG16\n",
    "from keras.optimizers import Adam, Adadelta, Adagrad, SGD, RMSprop\n",
    "\n",
    "import os"
   ]
  },
  {
   "cell_type": "markdown",
   "metadata": {},
   "source": [
    "***\n",
    "## Preprocessing"
   ]
  },
  {
   "cell_type": "markdown",
   "metadata": {},
   "source": [
    "### Create directory paths for image data"
   ]
  },
  {
   "cell_type": "code",
   "execution_count": 2,
   "metadata": {},
   "outputs": [],
   "source": [
    "data_train_dir = '../chest_xray/train/'\n",
    "data_test_dir = '../chest_xray/test/'\n",
    "data_val_dir = '../chest_xray/val/'"
   ]
  },
  {
   "cell_type": "code",
   "execution_count": 3,
   "metadata": {},
   "outputs": [
    {
     "name": "stdout",
     "output_type": "stream",
     "text": [
      "Found 5216 images belonging to 2 classes.\n"
     ]
    }
   ],
   "source": [
    "# Getting data from directory and reshaping it\n",
    "train_generator = ImageDataGenerator(rescale = 1./255 ).flow_from_directory(data_train_dir, target_size=(64,64), batch_size=5216)"
   ]
  },
  {
   "cell_type": "code",
   "execution_count": 4,
   "metadata": {},
   "outputs": [
    {
     "name": "stdout",
     "output_type": "stream",
     "text": [
      "Found 624 images belonging to 2 classes.\n"
     ]
    }
   ],
   "source": [
    "# Getting data from directory and reshaping it\n",
    "test_generator = ImageDataGenerator(rescale = 1./255 ).flow_from_directory(data_test_dir, target_size=(64,64), batch_size=624)"
   ]
  },
  {
   "cell_type": "code",
   "execution_count": 5,
   "metadata": {},
   "outputs": [
    {
     "name": "stdout",
     "output_type": "stream",
     "text": [
      "Found 16 images belonging to 2 classes.\n"
     ]
    }
   ],
   "source": [
    "# Getting data from directory and reshaping it\n",
    "val_generator = ImageDataGenerator(rescale = 1./255 ).flow_from_directory(data_val_dir, target_size=(64,64), batch_size=16)"
   ]
  },
  {
   "cell_type": "markdown",
   "metadata": {},
   "source": [
    "### Review Class Indices"
   ]
  },
  {
   "cell_type": "code",
   "execution_count": 6,
   "metadata": {},
   "outputs": [
    {
     "data": {
      "text/plain": [
       "{'NORMAL': 0, 'PNEUMONIA': 1}"
      ]
     },
     "execution_count": 6,
     "metadata": {},
     "output_type": "execute_result"
    }
   ],
   "source": [
    "train_generator.class_indices"
   ]
  },
  {
   "cell_type": "code",
   "execution_count": 7,
   "metadata": {},
   "outputs": [
    {
     "data": {
      "text/plain": [
       "{'NORMAL': 0, 'PNEUMONIA': 1}"
      ]
     },
     "execution_count": 7,
     "metadata": {},
     "output_type": "execute_result"
    }
   ],
   "source": [
    "test_generator.class_indices"
   ]
  },
  {
   "cell_type": "code",
   "execution_count": 8,
   "metadata": {},
   "outputs": [
    {
     "data": {
      "text/plain": [
       "{'NORMAL': 0, 'PNEUMONIA': 1}"
      ]
     },
     "execution_count": 8,
     "metadata": {},
     "output_type": "execute_result"
    }
   ],
   "source": [
    "val_generator.class_indices"
   ]
  },
  {
   "cell_type": "markdown",
   "metadata": {},
   "source": [
    "### Create datasets"
   ]
  },
  {
   "cell_type": "code",
   "execution_count": 9,
   "metadata": {},
   "outputs": [],
   "source": [
    "train_images, train_labels = next(train_generator)"
   ]
  },
  {
   "cell_type": "code",
   "execution_count": 10,
   "metadata": {},
   "outputs": [],
   "source": [
    "test_images, test_labels = next(test_generator)"
   ]
  },
  {
   "cell_type": "code",
   "execution_count": 11,
   "metadata": {},
   "outputs": [],
   "source": [
    "val_images, val_labels = next(val_generator)"
   ]
  },
  {
   "cell_type": "markdown",
   "metadata": {},
   "source": [
    "### Preview some images"
   ]
  },
  {
   "cell_type": "code",
   "execution_count": 12,
   "metadata": {},
   "outputs": [
    {
     "data": {
      "image/png": "[encoded data removed]",
      "text/plain": [
       "<PIL.Image.Image image mode=RGB size=64x64 at 0x10C606EB8>"
      ]
     },
     "execution_count": 12,
     "metadata": {},
     "output_type": "execute_result"
    }
   ],
   "source": [
    "# Checking to see if images were properly uploaded\n",
    "array_to_img(train_images[0])"
   ]
  },
  {
   "cell_type": "code",
   "execution_count": 13,
   "metadata": {},
   "outputs": [
    {
     "data": {
      "image/png": "[encoded data removed]",
      "text/plain": [
       "<PIL.Image.Image image mode=RGB size=64x64 at 0x14E9A1B70>"
      ]
     },
     "execution_count": 13,
     "metadata": {},
     "output_type": "execute_result"
    }
   ],
   "source": [
    "array_to_img(test_images[0])"
   ]
  },
  {
   "cell_type": "code",
   "execution_count": 14,
   "metadata": {},
   "outputs": [
    {
     "data": {
      "image/png": "[encoded data removed]",
      "text/plain": [
       "<PIL.Image.Image image mode=RGB size=64x64 at 0x14E9A1BE0>"
      ]
     },
     "execution_count": 14,
     "metadata": {},
     "output_type": "execute_result"
    }
   ],
   "source": [
    "array_to_img(val_images[0])"
   ]
  },
  {
   "cell_type": "markdown",
   "metadata": {},
   "source": [
    "### Preview shape of data"
   ]
  },
  {
   "cell_type": "code",
   "execution_count": 15,
   "metadata": {},
   "outputs": [
    {
     "name": "stdout",
     "output_type": "stream",
     "text": [
      "Train Images Shape: (5216, 64, 64, 3)\n",
      "Train Labels Shape: (5216, 2)\n",
      "Test Images Shape: (624, 64, 64, 3)\n",
      "Test Labels Shape: (624, 2)\n",
      "Validation Images Shape: (16, 64, 64, 3)\n",
      "Validation Labels Shape: (16, 2)\n"
     ]
    }
   ],
   "source": [
    "print('Train Images Shape:', np.shape(train_images))\n",
    "print('Train Labels Shape:', np.shape(train_labels))\n",
    "print('Test Images Shape:' , np.shape(test_images))\n",
    "print('Test Labels Shape:' , np.shape(test_labels))\n",
    "print('Validation Images Shape:', np.shape(val_images))\n",
    "print('Validation Labels Shape:', np.shape(val_labels))"
   ]
  },
  {
   "cell_type": "markdown",
   "metadata": {},
   "source": [
    "### Transform Image and Label Matrices"
   ]
  },
  {
   "cell_type": "code",
   "execution_count": 16,
   "metadata": {},
   "outputs": [
    {
     "data": {
      "text/plain": [
       "(5216, 1)"
      ]
     },
     "execution_count": 16,
     "metadata": {},
     "output_type": "execute_result"
    }
   ],
   "source": [
    "train_y = np.reshape(train_labels[:,0], (5216,1))\n",
    "train_y.shape"
   ]
  },
  {
   "cell_type": "code",
   "execution_count": 17,
   "metadata": {},
   "outputs": [
    {
     "data": {
      "text/plain": [
       "(624, 1)"
      ]
     },
     "execution_count": 17,
     "metadata": {},
     "output_type": "execute_result"
    }
   ],
   "source": [
    "test_y = np.reshape(test_labels[:,0], (624,1))\n",
    "test_y.shape"
   ]
  },
  {
   "cell_type": "code",
   "execution_count": 18,
   "metadata": {
    "scrolled": true
   },
   "outputs": [
    {
     "data": {
      "text/plain": [
       "(16, 1)"
      ]
     },
     "execution_count": 18,
     "metadata": {},
     "output_type": "execute_result"
    }
   ],
   "source": [
    "val_y = np.reshape(val_labels[:,0], (16,1))\n",
    "val_y.shape"
   ]
  },
  {
   "cell_type": "code",
   "execution_count": 19,
   "metadata": {},
   "outputs": [],
   "source": [
    "train_img = train_images.reshape(train_images.shape[0], -1)\n",
    "test_img = test_images.reshape(test_images.shape[0], -1)\n",
    "val_img = val_images.reshape(val_images.shape[0], -1)"
   ]
  },
  {
   "cell_type": "code",
   "execution_count": 20,
   "metadata": {},
   "outputs": [
    {
     "data": {
      "text/plain": [
       "(5216, 12288)"
      ]
     },
     "execution_count": 20,
     "metadata": {},
     "output_type": "execute_result"
    }
   ],
   "source": [
    "train_img.shape"
   ]
  },
  {
   "cell_type": "code",
   "execution_count": 21,
   "metadata": {},
   "outputs": [
    {
     "data": {
      "text/plain": [
       "(624, 12288)"
      ]
     },
     "execution_count": 21,
     "metadata": {},
     "output_type": "execute_result"
    }
   ],
   "source": [
    "test_img.shape"
   ]
  },
  {
   "cell_type": "code",
   "execution_count": 22,
   "metadata": {},
   "outputs": [
    {
     "data": {
      "text/plain": [
       "(16, 12288)"
      ]
     },
     "execution_count": 22,
     "metadata": {},
     "output_type": "execute_result"
    }
   ],
   "source": [
    "val_img.shape"
   ]
  },
  {
   "cell_type": "markdown",
   "metadata": {},
   "source": [
    "***\n",
    "## Modeling"
   ]
  },
  {
   "cell_type": "markdown",
   "metadata": {},
   "source": [
    "### Build a baseline fully connected model"
   ]
  },
  {
   "cell_type": "code",
   "execution_count": 23,
   "metadata": {},
   "outputs": [],
   "source": [
    "from keras import models\n",
    "np.random.seed(123)\n",
    "baseline_model = models.Sequential()\n",
    "baseline_model.add(layers.Dense(20, activation='relu', input_shape=(12288,))) # 2 hidden layers\n",
    "baseline_model.add(layers.Dense(7, activation='relu'))\n",
    "baseline_model.add(layers.Dense(5, activation='relu'))\n",
    "baseline_model.add(layers.Dense(1, activation='sigmoid'))"
   ]
  },
  {
   "cell_type": "code",
   "execution_count": 24,
   "metadata": {},
   "outputs": [
    {
     "name": "stdout",
     "output_type": "stream",
     "text": [
      "Epoch 1/50\n",
      "163/163 [==============================] - 1s 6ms/step - loss: 0.4811 - accuracy: 0.7594 - val_loss: 0.6061 - val_accuracy: 0.7500\n",
      "Epoch 2/50\n",
      "163/163 [==============================] - 1s 4ms/step - loss: 0.3276 - accuracy: 0.8675 - val_loss: 0.9453 - val_accuracy: 0.6250\n",
      "Epoch 3/50\n",
      "163/163 [==============================] - 1s 4ms/step - loss: 0.2833 - accuracy: 0.8792 - val_loss: 0.4024 - val_accuracy: 0.8750\n",
      "Epoch 4/50\n",
      "163/163 [==============================] - 1s 4ms/step - loss: 0.2340 - accuracy: 0.9036 - val_loss: 0.4326 - val_accuracy: 0.8750\n",
      "Epoch 5/50\n",
      "163/163 [==============================] - 1s 4ms/step - loss: 0.2029 - accuracy: 0.9185 - val_loss: 0.3074 - val_accuracy: 0.9375\n",
      "Epoch 6/50\n",
      "163/163 [==============================] - 1s 4ms/step - loss: 0.1726 - accuracy: 0.9317 - val_loss: 0.2988 - val_accuracy: 0.8125\n",
      "Epoch 7/50\n",
      "163/163 [==============================] - 1s 4ms/step - loss: 0.1680 - accuracy: 0.9317 - val_loss: 0.3959 - val_accuracy: 0.8125\n",
      "Epoch 8/50\n",
      "163/163 [==============================] - 1s 6ms/step - loss: 0.1593 - accuracy: 0.9363 - val_loss: 0.2774 - val_accuracy: 0.9375\n",
      "Epoch 9/50\n",
      "163/163 [==============================] - 1s 5ms/step - loss: 0.1551 - accuracy: 0.9379 - val_loss: 0.8648 - val_accuracy: 0.6250\n",
      "Epoch 10/50\n",
      "163/163 [==============================] - 1s 5ms/step - loss: 0.1510 - accuracy: 0.9400 - val_loss: 0.2284 - val_accuracy: 0.9375\n",
      "Epoch 11/50\n",
      "163/163 [==============================] - 1s 4ms/step - loss: 0.1366 - accuracy: 0.9463 - val_loss: 0.3056 - val_accuracy: 0.9375\n",
      "Epoch 12/50\n",
      "163/163 [==============================] - 1s 4ms/step - loss: 0.1387 - accuracy: 0.9465 - val_loss: 0.3674 - val_accuracy: 0.8750\n",
      "Epoch 13/50\n",
      "163/163 [==============================] - 1s 4ms/step - loss: 0.1363 - accuracy: 0.9494 - val_loss: 0.5912 - val_accuracy: 0.8125\n",
      "Epoch 14/50\n",
      "163/163 [==============================] - 1s 4ms/step - loss: 0.1291 - accuracy: 0.9509 - val_loss: 0.2161 - val_accuracy: 0.9375\n",
      "Epoch 15/50\n",
      "163/163 [==============================] - 1s 4ms/step - loss: 0.1287 - accuracy: 0.9496 - val_loss: 0.3003 - val_accuracy: 0.9375\n",
      "Epoch 16/50\n",
      "163/163 [==============================] - 1s 4ms/step - loss: 0.1237 - accuracy: 0.9532 - val_loss: 0.4037 - val_accuracy: 0.8125\n",
      "Epoch 17/50\n",
      "163/163 [==============================] - 1s 4ms/step - loss: 0.1236 - accuracy: 0.9515 - val_loss: 0.2831 - val_accuracy: 0.9375\n",
      "Epoch 18/50\n",
      "163/163 [==============================] - 1s 5ms/step - loss: 0.1240 - accuracy: 0.9536 - val_loss: 0.2574 - val_accuracy: 0.9375\n",
      "Epoch 19/50\n",
      "163/163 [==============================] - 1s 5ms/step - loss: 0.1276 - accuracy: 0.9509 - val_loss: 0.4029 - val_accuracy: 0.8125\n",
      "Epoch 20/50\n",
      "163/163 [==============================] - 1s 4ms/step - loss: 0.1183 - accuracy: 0.9555 - val_loss: 0.5391 - val_accuracy: 0.8125\n",
      "Epoch 21/50\n",
      "163/163 [==============================] - 1s 4ms/step - loss: 0.1165 - accuracy: 0.9536 - val_loss: 0.4796 - val_accuracy: 0.8125\n",
      "Epoch 22/50\n",
      "163/163 [==============================] - 1s 4ms/step - loss: 0.1136 - accuracy: 0.9551 - val_loss: 0.3349 - val_accuracy: 0.9375\n",
      "Epoch 23/50\n",
      "163/163 [==============================] - 1s 4ms/step - loss: 0.1135 - accuracy: 0.9551 - val_loss: 0.3016 - val_accuracy: 0.9375\n",
      "Epoch 24/50\n",
      "163/163 [==============================] - 1s 4ms/step - loss: 0.1114 - accuracy: 0.9586 - val_loss: 0.2432 - val_accuracy: 0.9375\n",
      "Epoch 25/50\n",
      "163/163 [==============================] - 1s 4ms/step - loss: 0.1154 - accuracy: 0.9563 - val_loss: 0.5035 - val_accuracy: 0.8125\n",
      "Epoch 26/50\n",
      "163/163 [==============================] - 1s 4ms/step - loss: 0.1137 - accuracy: 0.9594 - val_loss: 0.2880 - val_accuracy: 0.9375\n",
      "Epoch 27/50\n",
      "163/163 [==============================] - 1s 4ms/step - loss: 0.1083 - accuracy: 0.9601 - val_loss: 0.6953 - val_accuracy: 0.6875\n",
      "Epoch 28/50\n",
      "163/163 [==============================] - 1s 4ms/step - loss: 0.1082 - accuracy: 0.9595 - val_loss: 0.4185 - val_accuracy: 0.8125\n",
      "Epoch 29/50\n",
      "163/163 [==============================] - 1s 4ms/step - loss: 0.1095 - accuracy: 0.9584 - val_loss: 0.3082 - val_accuracy: 0.9375\n",
      "Epoch 30/50\n",
      "163/163 [==============================] - 1s 5ms/step - loss: 0.1123 - accuracy: 0.9571 - val_loss: 0.3061 - val_accuracy: 0.8750\n",
      "Epoch 31/50\n",
      "163/163 [==============================] - 1s 4ms/step - loss: 0.1016 - accuracy: 0.9634 - val_loss: 0.3822 - val_accuracy: 0.8125\n",
      "Epoch 32/50\n",
      "163/163 [==============================] - 1s 4ms/step - loss: 0.1100 - accuracy: 0.9571 - val_loss: 0.5854 - val_accuracy: 0.7500\n",
      "Epoch 33/50\n",
      "163/163 [==============================] - 1s 4ms/step - loss: 0.0984 - accuracy: 0.9630 - val_loss: 0.2107 - val_accuracy: 0.9375\n",
      "Epoch 34/50\n",
      "163/163 [==============================] - 1s 4ms/step - loss: 0.1059 - accuracy: 0.9595 - val_loss: 0.2811 - val_accuracy: 0.8750\n",
      "Epoch 35/50\n",
      "163/163 [==============================] - 1s 4ms/step - loss: 0.1015 - accuracy: 0.9603 - val_loss: 0.3615 - val_accuracy: 0.8125\n",
      "Epoch 36/50\n",
      "163/163 [==============================] - 1s 4ms/step - loss: 0.1002 - accuracy: 0.9634 - val_loss: 0.5108 - val_accuracy: 0.8125\n",
      "Epoch 37/50\n",
      "163/163 [==============================] - 1s 4ms/step - loss: 0.0990 - accuracy: 0.9599 - val_loss: 0.5431 - val_accuracy: 0.8125\n",
      "Epoch 38/50\n",
      "163/163 [==============================] - 1s 4ms/step - loss: 0.0965 - accuracy: 0.9617 - val_loss: 0.3675 - val_accuracy: 0.8750\n",
      "Epoch 39/50\n",
      "163/163 [==============================] - 1s 4ms/step - loss: 0.1007 - accuracy: 0.9622 - val_loss: 0.3044 - val_accuracy: 0.9375\n",
      "Epoch 40/50\n",
      "163/163 [==============================] - 1s 4ms/step - loss: 0.0948 - accuracy: 0.9641 - val_loss: 0.5060 - val_accuracy: 0.8125\n",
      "Epoch 41/50\n",
      "163/163 [==============================] - 1s 5ms/step - loss: 0.0982 - accuracy: 0.9617 - val_loss: 0.2332 - val_accuracy: 0.9375\n",
      "Epoch 42/50\n",
      "163/163 [==============================] - 1s 4ms/step - loss: 0.0967 - accuracy: 0.9630 - val_loss: 0.1799 - val_accuracy: 0.9375\n",
      "Epoch 43/50\n",
      "163/163 [==============================] - 1s 4ms/step - loss: 0.0978 - accuracy: 0.9634 - val_loss: 0.4048 - val_accuracy: 0.8125\n",
      "Epoch 44/50\n",
      "163/163 [==============================] - 1s 4ms/step - loss: 0.0999 - accuracy: 0.9634 - val_loss: 0.3007 - val_accuracy: 0.8750\n",
      "Epoch 45/50\n",
      "163/163 [==============================] - 1s 4ms/step - loss: 0.0916 - accuracy: 0.9645 - val_loss: 0.3122 - val_accuracy: 0.8750\n",
      "Epoch 46/50\n",
      "163/163 [==============================] - 1s 4ms/step - loss: 0.0903 - accuracy: 0.9670 - val_loss: 0.3045 - val_accuracy: 0.9375\n",
      "Epoch 47/50\n",
      "163/163 [==============================] - 1s 4ms/step - loss: 0.0902 - accuracy: 0.9655 - val_loss: 0.2438 - val_accuracy: 0.9375\n",
      "Epoch 48/50\n",
      "163/163 [==============================] - 1s 4ms/step - loss: 0.0914 - accuracy: 0.9641 - val_loss: 0.2960 - val_accuracy: 0.9375\n",
      "Epoch 49/50\n",
      "163/163 [==============================] - 1s 5ms/step - loss: 0.0994 - accuracy: 0.9641 - val_loss: 0.6476 - val_accuracy: 0.6875\n",
      "Epoch 50/50\n",
      "163/163 [==============================] - 1s 4ms/step - loss: 0.0890 - accuracy: 0.9670 - val_loss: 0.2868 - val_accuracy: 0.9375\n"
     ]
    }
   ],
   "source": [
    "baseline_model.compile(optimizer='sgd',\n",
    "              loss='binary_crossentropy',\n",
    "              metrics=['accuracy'])\n",
    "\n",
    "history_1 = baseline_model.fit(train_img,\n",
    "                    train_y,\n",
    "                    epochs=50,\n",
    "                    batch_size=32,\n",
    "                    validation_data=(val_img, val_y))"
   ]
  },
  {
   "cell_type": "code",
   "execution_count": 25,
   "metadata": {},
   "outputs": [
    {
     "name": "stdout",
     "output_type": "stream",
     "text": [
      "163/163 [==============================] - 0s 3ms/step - loss: 0.0725 - accuracy: 0.9735\n"
     ]
    }
   ],
   "source": [
    "base_train_results = baseline_model.evaluate(train_img, train_y)"
   ]
  },
  {
   "cell_type": "code",
   "execution_count": 26,
   "metadata": {},
   "outputs": [
    {
     "name": "stdout",
     "output_type": "stream",
     "text": [
      "20/20 [==============================] - 0s 7ms/step - loss: 0.9244 - accuracy: 0.7580\n"
     ]
    }
   ],
   "source": [
    "base_test_results = baseline_model.evaluate(test_img, test_y)"
   ]
  },
  {
   "cell_type": "code",
   "execution_count": 27,
   "metadata": {},
   "outputs": [
    {
     "data": {
      "text/plain": [
       "[0.07251103222370148, 0.9735429286956787]"
      ]
     },
     "execution_count": 27,
     "metadata": {},
     "output_type": "execute_result"
    }
   ],
   "source": [
    "base_train_results"
   ]
  },
  {
   "cell_type": "code",
   "execution_count": 28,
   "metadata": {},
   "outputs": [
    {
     "data": {
      "text/plain": [
       "[0.9244120717048645, 0.7580128312110901]"
      ]
     },
     "execution_count": 28,
     "metadata": {},
     "output_type": "execute_result"
    }
   ],
   "source": [
    "base_test_results"
   ]
  },
  {
   "cell_type": "markdown",
   "metadata": {},
   "source": [
    "So baseline is looking pretty good. The test loss and accuracy is off which worries me, but this is just the baseline so lets see how we can improve this."
   ]
  },
  {
   "cell_type": "markdown",
   "metadata": {},
   "source": [
    "### Model 1: Use CNN with regular settings, no regularization or normalization"
   ]
  },
  {
   "cell_type": "code",
   "execution_count": 29,
   "metadata": {},
   "outputs": [],
   "source": [
    "model_1 = models.Sequential()\n",
    "model_1.add(layers.Conv2D(32, (3, 3), activation='relu',\n",
    "                        input_shape=(64 ,64,  3)))\n",
    "model_1.add(layers.MaxPooling2D((2, 2)))\n",
    "\n",
    "model_1.add(layers.Conv2D(32, (4, 4), activation='relu'))\n",
    "model_1.add(layers.MaxPooling2D((2, 2)))\n",
    "\n",
    "model_1.add(layers.Conv2D(64, (3, 3), activation='relu'))\n",
    "model_1.add(layers.MaxPooling2D((2, 2)))\n",
    "\n",
    "model_1.add(layers.Flatten())\n",
    "model_1.add(layers.Dense(64, activation='relu'))\n",
    "model_1.add(layers.Dense(1, activation='sigmoid'))"
   ]
  },
  {
   "cell_type": "code",
   "execution_count": 30,
   "metadata": {},
   "outputs": [],
   "source": [
    "# Compile model\n",
    "model_1.compile(optimizer='sgd',\n",
    "              loss='binary_crossentropy',\n",
    "              metrics=['accuracy'])"
   ]
  },
  {
   "cell_type": "code",
   "execution_count": 31,
   "metadata": {},
   "outputs": [],
   "source": [
    "# Use EarlyStopping to stop model after the validation loss ceases to improve\n",
    "early_stop = [EarlyStopping(monitor='val_loss', patience=10), \n",
    "                  ModelCheckpoint(filepath='best_model.h5', monitor='val_loss', save_best_only=True)]"
   ]
  },
  {
   "cell_type": "code",
   "execution_count": 32,
   "metadata": {},
   "outputs": [
    {
     "name": "stdout",
     "output_type": "stream",
     "text": [
      "Epoch 1/150\n",
      "11/11 [==============================] - 22s 2s/step - loss: 0.6194 - accuracy: 0.7423 - val_loss: 0.7762 - val_accuracy: 0.5000\n",
      "Epoch 2/150\n",
      "11/11 [==============================] - 21s 2s/step - loss: 0.5765 - accuracy: 0.7429 - val_loss: 0.8107 - val_accuracy: 0.5000\n",
      "Epoch 3/150\n",
      "11/11 [==============================] - 20s 2s/step - loss: 0.5724 - accuracy: 0.7429 - val_loss: 0.8280 - val_accuracy: 0.5000\n",
      "Epoch 4/150\n",
      "11/11 [==============================] - 21s 2s/step - loss: 0.5700 - accuracy: 0.7429 - val_loss: 0.8265 - val_accuracy: 0.5000\n",
      "Epoch 5/150\n",
      "11/11 [==============================] - 20s 2s/step - loss: 0.5678 - accuracy: 0.7429 - val_loss: 0.8326 - val_accuracy: 0.5000\n",
      "Epoch 6/150\n",
      "11/11 [==============================] - 22s 2s/step - loss: 0.5657 - accuracy: 0.7429 - val_loss: 0.8215 - val_accuracy: 0.5000\n",
      "Epoch 7/150\n",
      "11/11 [==============================] - 21s 2s/step - loss: 0.5634 - accuracy: 0.7429 - val_loss: 0.8096 - val_accuracy: 0.5000\n",
      "Epoch 8/150\n",
      "11/11 [==============================] - 22s 2s/step - loss: 0.5612 - accuracy: 0.7429 - val_loss: 0.8160 - val_accuracy: 0.5000\n",
      "Epoch 9/150\n",
      "11/11 [==============================] - 20s 2s/step - loss: 0.5586 - accuracy: 0.7429 - val_loss: 0.8316 - val_accuracy: 0.5000\n",
      "Epoch 10/150\n",
      "11/11 [==============================] - 19s 2s/step - loss: 0.5561 - accuracy: 0.7429 - val_loss: 0.7925 - val_accuracy: 0.5000\n",
      "Epoch 11/150\n",
      "11/11 [==============================] - 20s 2s/step - loss: 0.5531 - accuracy: 0.7429 - val_loss: 0.8261 - val_accuracy: 0.5000\n"
     ]
    }
   ],
   "source": [
    "results_1 = model_1.fit(train_images,\n",
    "                    train_y,\n",
    "                    epochs=150,\n",
    "                    callbacks=early_stop,\n",
    "                    batch_size=500,\n",
    "                    validation_data=(val_images, val_y))"
   ]
  },
  {
   "cell_type": "markdown",
   "metadata": {},
   "source": [
    "### Evaluate Models"
   ]
  },
  {
   "cell_type": "code",
   "execution_count": 33,
   "metadata": {},
   "outputs": [
    {
     "name": "stdout",
     "output_type": "stream",
     "text": [
      "163/163 [==============================] - 6s 36ms/step - loss: 0.5514 - accuracy: 0.7429\n"
     ]
    },
    {
     "data": {
      "text/plain": [
       "[0.5513514280319214, 0.7429064512252808]"
      ]
     },
     "execution_count": 33,
     "metadata": {},
     "output_type": "execute_result"
    }
   ],
   "source": [
    "mod1_results_train = model_1.evaluate(train_images, train_y)\n",
    "mod1_results_train"
   ]
  },
  {
   "cell_type": "code",
   "execution_count": 34,
   "metadata": {},
   "outputs": [
    {
     "name": "stdout",
     "output_type": "stream",
     "text": [
      "20/20 [==============================] - 1s 43ms/step - loss: 0.6793 - accuracy: 0.6250\n"
     ]
    },
    {
     "data": {
      "text/plain": [
       "[0.67933189868927, 0.625]"
      ]
     },
     "execution_count": 34,
     "metadata": {},
     "output_type": "execute_result"
    }
   ],
   "source": [
    "mod1_results_test = model_1.evaluate(test_images, test_y)\n",
    "mod1_results_test"
   ]
  },
  {
   "cell_type": "markdown",
   "metadata": {},
   "source": [
    "### Create Function to plot Loss and Accuracy of Model"
   ]
  },
  {
   "cell_type": "code",
   "execution_count": 37,
   "metadata": {},
   "outputs": [],
   "source": [
    "def visualize_training_results(results):\n",
    "    history = results.history\n",
    "    plt.figure()\n",
    "    plt.plot(history['val_loss'])\n",
    "    plt.plot(history['loss'])\n",
    "    plt.legend(['val_loss', 'loss'])\n",
    "    plt.title('Loss')\n",
    "    plt.xlabel('Epochs')\n",
    "    plt.ylabel('Loss')\n",
    "    plt.show()\n",
    "    \n",
    "    plt.figure()\n",
    "    plt.plot(history['val_accuracy'])\n",
    "    plt.plot(history['accuracy'])\n",
    "    plt.legend(['val_acc', 'accuracy'])\n",
    "    plt.title('Accuracy')\n",
    "    plt.xlabel('Epochs')\n",
    "    plt.ylabel('Accuracy')\n",
    "    plt.show()"
   ]
  },
  {
   "cell_type": "code",
   "execution_count": 38,
   "metadata": {},
   "outputs": [
    {
     "data": {
      "image/png": "[encoded data removed]",
      "text/plain": [
       "<Figure size 432x288 with 1 Axes>"
      ]
     },
     "metadata": {
      "needs_background": "light"
     },
     "output_type": "display_data"
    },
    {
     "data": {
      "image/png": "[encoded data removed]",
      "text/plain": [
       "<Figure size 432x288 with 1 Axes>"
      ]
     },
     "metadata": {
      "needs_background": "light"
     },
     "output_type": "display_data"
    }
   ],
   "source": [
    "visualize_training_results(results_1)"
   ]
  },
  {
   "cell_type": "markdown",
   "metadata": {},
   "source": [
    "### Confusion Matrix, Classification Report"
   ]
  },
  {
   "cell_type": "code",
   "execution_count": 39,
   "metadata": {},
   "outputs": [],
   "source": [
    "# Create a function to plot confusion matrices\n",
    "def plot_confusion_matrix(labels, preds):\n",
    "    cnf_matrix = confusion_matrix(labels, preds)\n",
    "    plt.imshow(cnf_matrix,  cmap=plt.cm.Blues) \n",
    "    plt.title('Confusion Matrix')\n",
    "    plt.ylabel('True label')\n",
    "    plt.xlabel('Predicted label')\n",
    "    y = train_generator.class_indices\n",
    "    class_names = set(y) \n",
    "    tick_marks = np.arange(len(class_names))\n",
    "    plt.xticks(tick_marks, class_names, rotation=45)\n",
    "    plt.yticks(tick_marks, class_names)\n",
    "    thresh = cnf_matrix.max() / 2. #\n",
    "    for i, j in itertools.product(range(cnf_matrix.shape[0]), range(cnf_matrix.shape[1])):\n",
    "            plt.text(j, i, cnf_matrix[i, j],\n",
    "                     horizontalalignment='center',\n",
    "                     color='white' if cnf_matrix[i, j] > thresh else 'black')\n",
    "    plt.colorbar()\n",
    "    plt.show()"
   ]
  },
  {
   "cell_type": "code",
   "execution_count": 40,
   "metadata": {},
   "outputs": [
    {
     "data": {
      "image/png": "[encoded data removed]",
      "text/plain": [
       "<PIL.Image.Image image mode=RGB size=64x64 at 0x14F67A470>"
      ]
     },
     "execution_count": 40,
     "metadata": {},
     "output_type": "execute_result"
    }
   ],
   "source": [
    "# Use sample image to test model predictions\n",
    "sample_image = array_to_img(train_images[100])\n",
    "sample_image"
   ]
  },
  {
   "cell_type": "code",
   "execution_count": 41,
   "metadata": {},
   "outputs": [],
   "source": [
    "pred_1 = model_1.predict(val_images)"
   ]
  },
  {
   "cell_type": "code",
   "execution_count": 46,
   "metadata": {},
   "outputs": [
    {
     "name": "stdout",
     "output_type": "stream",
     "text": [
      "              precision    recall  f1-score   support\n",
      "\n",
      "         0.0       0.50      1.00      0.67         8\n",
      "         1.0       0.00      0.00      0.00         8\n",
      "\n",
      "    accuracy                           0.50        16\n",
      "   macro avg       0.25      0.50      0.33        16\n",
      "weighted avg       0.25      0.50      0.33        16\n",
      "\n"
     ]
    }
   ],
   "source": [
    "# Classification report\n",
    "class_report_1 = classification_report(val_y, pred_1.round())\n",
    "print(class_report_1)"
   ]
  },
  {
   "cell_type": "code",
   "execution_count": 48,
   "metadata": {},
   "outputs": [
    {
     "data": {
      "image/png": "[encoded data removed]",
      "text/plain": [
       "<Figure size 432x288 with 2 Axes>"
      ]
     },
     "metadata": {
      "needs_background": "light"
     },
     "output_type": "display_data"
    }
   ],
   "source": [
    "plot_confusion_matrix(val_y, pred_1.round())"
   ]
  },
  {
   "cell_type": "code",
   "execution_count": 49,
   "metadata": {},
   "outputs": [
    {
     "data": {
      "text/plain": [
       "0"
      ]
     },
     "execution_count": 49,
     "metadata": {},
     "output_type": "execute_result"
    }
   ],
   "source": [
    "np.argmax(pred_1[0])"
   ]
  },
  {
   "cell_type": "code",
   "execution_count": 50,
   "metadata": {},
   "outputs": [
    {
     "data": {
      "text/plain": [
       "array([1.], dtype=float32)"
      ]
     },
     "execution_count": 50,
     "metadata": {},
     "output_type": "execute_result"
    }
   ],
   "source": [
    "val_y[0]"
   ]
  },
  {
   "cell_type": "markdown",
   "metadata": {},
   "source": [
    "## Model 2: Tuning and Optimizing "
   ]
  },
  {
   "cell_type": "code",
   "execution_count": 51,
   "metadata": {},
   "outputs": [],
   "source": [
    "# First create a dictionary of optimizers \n",
    "optimizers = {\"RMSprop\": {\"optimizer\": RMSprop(), \"color\":\"blue\"},\n",
    "                  \"adam_01\": {\"optimizer\": Adam(lr=0.01), \"color\":\"red\"},\n",
    "                  \"sgd\": {\"optimizer\": SGD(), \"color\":\"purple\"},\n",
    "                  \"adadelta\": {\"optimizer\": Adadelta(), \"color\":\"pink\"},\n",
    "                  \"adagrad\": {\"optimizer\": Adagrad(), \"color\":\"yellow\"}}"
   ]
  },
  {
   "cell_type": "code",
   "execution_count": null,
   "metadata": {},
   "outputs": [],
   "source": [
    "# Now iterate thru the optimizer dictionary and build CNN with each optimizer\n",
    "for optimizer, x in optimizers.items():\n",
    "    print('Testing', optimizer)\n",
    "    \n",
    "    model_2 = Sequential()\n",
    "    \n",
    "    model_2.add(layers.Conv2D(32, (3, 3), activation='relu',\n",
    "                        input_shape=(64 ,64,  3)))\n",
    "    model_2.add(layers.MaxPooling2D((2, 2)))\n",
    "\n",
    "    model_2.add(layers.Conv2D(32, (4, 4), activation='relu'))\n",
    "    model_2.add(layers.MaxPooling2D((2, 2)))\n",
    "\n",
    "    model_2.add(layers.Conv2D(64, (3, 3), activation='relu'))\n",
    "    model_2.add(layers.MaxPooling2D((2, 2)))\n",
    "\n",
    "    model_2.add(layers.Flatten())\n",
    "    model_2.add(layers.Dense(64, activation='relu'))\n",
    "    model_2.add(layers.Dense(1, activation='sigmoid'))\n",
    "    \n",
    "    model_2.compile(optimizer = x['optimizer'],\n",
    "              loss='binary_crossentropy',\n",
    "              metrics=['accuracy'])\n",
    "    \n",
    "    results_2 = model_2.fit(train_images,\n",
    "                    train_y,\n",
    "                    epochs=20,\n",
    "                    callbacks=early_stop,\n",
    "                    batch_size=500,\n",
    "                    validation_data=(val_images, val_y))"
   ]
  },
  {
   "cell_type": "code",
   "execution_count": null,
   "metadata": {},
   "outputs": [],
   "source": []
  }
 ],
 "metadata": {
  "kernelspec": {
   "display_name": "learn-env",
   "language": "python",
   "name": "learn-env"
  },
  "language_info": {
   "codemirror_mode": {
    "name": "ipython",
    "version": 3
   },
   "file_extension": ".py",
   "mimetype": "text/x-python",
   "name": "python",
   "nbconvert_exporter": "python",
   "pygments_lexer": "ipython3",
   "version": "3.6.9"
  },
  "toc": {
   "base_numbering": 1,
   "nav_menu": {},
   "number_sections": false,
   "sideBar": true,
   "skip_h1_title": false,
   "title_cell": "Table of Contents",
   "title_sidebar": "Contents",
   "toc_cell": false,
   "toc_position": {},
   "toc_section_display": true,
   "toc_window_display": false
  },
  "varInspector": {
   "cols": {
    "lenName": 16,
    "lenType": 16,
    "lenVar": 40
   },
   "kernels_config": {
    "python": {
     "delete_cmd_postfix": "",
     "delete_cmd_prefix": "del ",
     "library": "var_list.py",
     "varRefreshCmd": "print(var_dic_list())"
    },
    "r": {
     "delete_cmd_postfix": ") ",
     "delete_cmd_prefix": "rm(",
     "library": "var_list.r",
     "varRefreshCmd": "cat(var_dic_list()) "
    }
   },
   "types_to_exclude": [
    "module",
    "function",
    "builtin_function_or_method",
    "instance",
    "_Feature"
   ],
   "window_display": false
  }
 },
 "nbformat": 4,
 "nbformat_minor": 4
}
