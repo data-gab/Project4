{
 "cells": [
  {
   "cell_type": "markdown",
   "metadata": {},
   "source": [
    "# Data Preprocessing and Modeling"
   ]
  },
  {
   "cell_type": "code",
   "execution_count": 1,
   "metadata": {},
   "outputs": [],
   "source": [
    "# Import necessary libraries\n",
    "import pandas as pd\n",
    "import numpy as np\n",
    "import matplotlib.pyplot as plt\n",
    "%matplotlib inline\n",
    "\n",
    "import warnings\n",
    "warnings.filterwarnings('ignore')\n",
    "\n",
    "from sklearn.model_selection import train_test_split\n",
    "from sklearn.metrics import mean_squared_error\n",
    "from sklearn.model_selection import cross_val_predict\n",
    "from sklearn.metrics import classification_report\n",
    "from sklearn.metrics import confusion_matrix\n",
    "\n",
    "import itertools\n",
    "\n",
    "import keras\n",
    "from keras import layers\n",
    "from keras.models import Sequential\n",
    "from keras.layers import Dense\n",
    "\n",
    "from keras.preprocessing.image import ImageDataGenerator, array_to_img, img_to_array, load_img\n",
    "from keras import regularizers\n",
    "from keras.wrappers.scikit_learn import KerasRegressor\n",
    "from keras.layers import Convolution2D\n",
    "from keras.layers import MaxPooling2D\n",
    "from keras.layers import Flatten\n",
    "from keras.layers import Dense\n",
    "from keras.callbacks import EarlyStopping, ModelCheckpoint\n",
    "from keras import regularizers\n",
    "\n",
    "from keras.applications.vgg16 import preprocess_input\n",
    "from keras.applications.vgg16 import VGG16\n",
    "from keras.optimizers import Adam, Adadelta, Adagrad, SGD, RMSprop\n",
    "\n",
    "import os"
   ]
  },
  {
   "cell_type": "code",
   "execution_count": 2,
   "metadata": {},
   "outputs": [],
   "source": [
    "from tensorflow.random import set_seed\n",
    "set_seed(321)\n",
    "\n",
    "import numpy as np\n",
    "np.random.seed(123)"
   ]
  },
  {
   "cell_type": "markdown",
   "metadata": {},
   "source": [
    "***\n",
    "## Preprocessing"
   ]
  },
  {
   "cell_type": "markdown",
   "metadata": {},
   "source": [
    "### Create directory paths for image data"
   ]
  },
  {
   "cell_type": "code",
   "execution_count": 3,
   "metadata": {},
   "outputs": [],
   "source": [
    "data_train_dir = '../chest_xray/train/'\n",
    "data_test_dir = '../chest_xray/test/'\n",
    "data_val_dir = '../chest_xray/val/'"
   ]
  },
  {
   "cell_type": "code",
   "execution_count": 4,
   "metadata": {},
   "outputs": [],
   "source": [
    "train_dir_pneumonia = '../chest_xray/train/PNEUMONIA'\n",
    "train_dir_normal = '../chest_xray/train/NORMAL'\n",
    "test_dir_pneumonia = '../chest_xray/test/PNEUMONIA'\n",
    "test_dir_normal = '../chest_xray/test/NORMAL'\n",
    "val_dir_pneumonia = '../chest_xray/val/PNEUMONIA'\n",
    "val_dir_normal = '../chest_xray/val/NORMAL'"
   ]
  },
  {
   "cell_type": "code",
   "execution_count": 5,
   "metadata": {},
   "outputs": [
    {
     "name": "stdout",
     "output_type": "stream",
     "text": [
      "Train Pneumonia:  3875\n",
      "Train Normal:  1341\n",
      "Test Pneumonia:  390\n",
      "Test Normal:  234\n",
      "Val Pneumonia:  8\n",
      "Val Normal:  8\n"
     ]
    }
   ],
   "source": [
    "# Review image count\n",
    "print('Train Pneumonia: ', len(os.listdir(train_dir_pneumonia)))\n",
    "print('Train Normal: ', len(os.listdir(train_dir_normal)))\n",
    "print('Test Pneumonia: ', len(os.listdir(test_dir_pneumonia)))\n",
    "print('Test Normal: ', len(os.listdir(test_dir_normal)))\n",
    "print('Val Pneumonia: ', len(os.listdir(val_dir_pneumonia)))\n",
    "print('Val Normal: ', len(os.listdir(val_dir_normal)))"
   ]
  },
  {
   "cell_type": "markdown",
   "metadata": {},
   "source": [
    "### Create data generators\n",
    "Creating data generators of training, testing, validation data. I want the pixels for each image to be 128 X 128 so I put that in target_size. The class_mode is binary since this is a binary problem. I set the batch_size according to the image count above."
   ]
  },
  {
   "cell_type": "code",
   "execution_count": 6,
   "metadata": {},
   "outputs": [],
   "source": [
    "#img_size = (128,128)"
   ]
  },
  {
   "cell_type": "code",
   "execution_count": 7,
   "metadata": {},
   "outputs": [
    {
     "name": "stdout",
     "output_type": "stream",
     "text": [
      "Found 5216 images belonging to 2 classes.\n"
     ]
    }
   ],
   "source": [
    "train_generator = ImageDataGenerator(rescale = 1./255 ).flow_from_directory(data_train_dir,\n",
    "                                                                            target_size=(128,128),\n",
    "                                                                            batch_size=5216,\n",
    "                                                                            class_mode='binary',\n",
    "                                                                            seed=123)"
   ]
  },
  {
   "cell_type": "code",
   "execution_count": 8,
   "metadata": {},
   "outputs": [
    {
     "name": "stdout",
     "output_type": "stream",
     "text": [
      "Found 624 images belonging to 2 classes.\n"
     ]
    }
   ],
   "source": [
    "test_generator = ImageDataGenerator(rescale = 1./255 ).flow_from_directory(data_test_dir,\n",
    "                                                                            target_size=(128,128),\n",
    "                                                                            batch_size=624,\n",
    "                                                                            class_mode='binary',\n",
    "                                                                            seed=123)"
   ]
  },
  {
   "cell_type": "code",
   "execution_count": 9,
   "metadata": {},
   "outputs": [
    {
     "name": "stdout",
     "output_type": "stream",
     "text": [
      "Found 16 images belonging to 2 classes.\n"
     ]
    }
   ],
   "source": [
    "val_generator = ImageDataGenerator(rescale = 1./255 ).flow_from_directory(data_val_dir,\n",
    "                                                                            target_size=(128,128),\n",
    "                                                                            batch_size=16,\n",
    "                                                                            class_mode='binary',\n",
    "                                                                            seed=123)"
   ]
  },
  {
   "cell_type": "markdown",
   "metadata": {},
   "source": [
    "### Review Class Indices"
   ]
  },
  {
   "cell_type": "code",
   "execution_count": 10,
   "metadata": {},
   "outputs": [
    {
     "data": {
      "text/plain": [
       "{'NORMAL': 0, 'PNEUMONIA': 1}"
      ]
     },
     "execution_count": 10,
     "metadata": {},
     "output_type": "execute_result"
    }
   ],
   "source": [
    "train_generator.class_indices"
   ]
  },
  {
   "cell_type": "code",
   "execution_count": 11,
   "metadata": {},
   "outputs": [
    {
     "data": {
      "text/plain": [
       "{'NORMAL': 0, 'PNEUMONIA': 1}"
      ]
     },
     "execution_count": 11,
     "metadata": {},
     "output_type": "execute_result"
    }
   ],
   "source": [
    "test_generator.class_indices"
   ]
  },
  {
   "cell_type": "code",
   "execution_count": 12,
   "metadata": {},
   "outputs": [
    {
     "data": {
      "text/plain": [
       "{'NORMAL': 0, 'PNEUMONIA': 1}"
      ]
     },
     "execution_count": 12,
     "metadata": {},
     "output_type": "execute_result"
    }
   ],
   "source": [
    "val_generator.class_indices"
   ]
  },
  {
   "cell_type": "markdown",
   "metadata": {},
   "source": [
    "### Create datasets"
   ]
  },
  {
   "cell_type": "code",
   "execution_count": null,
   "metadata": {},
   "outputs": [],
   "source": [
    "# use train_split_test instead"
   ]
  },
  {
   "cell_type": "code",
   "execution_count": 13,
   "metadata": {},
   "outputs": [],
   "source": [
    "train_images, train_labels = next(train_generator)"
   ]
  },
  {
   "cell_type": "code",
   "execution_count": 14,
   "metadata": {},
   "outputs": [],
   "source": [
    "test_images, test_labels = next(test_generator)"
   ]
  },
  {
   "cell_type": "code",
   "execution_count": 15,
   "metadata": {},
   "outputs": [],
   "source": [
    "val_images, val_labels = next(val_generator)"
   ]
  },
  {
   "cell_type": "markdown",
   "metadata": {},
   "source": [
    "### Review image shapes "
   ]
  },
  {
   "cell_type": "code",
   "execution_count": 16,
   "metadata": {},
   "outputs": [
    {
     "name": "stdout",
     "output_type": "stream",
     "text": [
      "Train Images Shape: (5216, 128, 128, 3)\n",
      "Train Labels Shape: (5216,)\n",
      "Test Images Shape: (624, 128, 128, 3)\n",
      "Test Labels Shape: (624,)\n",
      "Validation Images Shape: (16, 128, 128, 3)\n",
      "Validation Labels Shape: (16,)\n"
     ]
    }
   ],
   "source": [
    "print('Train Images Shape:', np.shape(train_images))\n",
    "print('Train Labels Shape:', np.shape(train_labels))\n",
    "print('Test Images Shape:' , np.shape(test_images))\n",
    "print('Test Labels Shape:' , np.shape(test_labels))\n",
    "print('Validation Images Shape:', np.shape(val_images))\n",
    "print('Validation Labels Shape:', np.shape(val_labels))"
   ]
  },
  {
   "cell_type": "markdown",
   "metadata": {},
   "source": [
    "***\n",
    "## Modeling"
   ]
  },
  {
   "cell_type": "markdown",
   "metadata": {},
   "source": [
    "### Baseline model: 3 Convolution layes, 3 max pooling layers, and 1 fully connected layer"
   ]
  },
  {
   "cell_type": "code",
   "execution_count": 17,
   "metadata": {},
   "outputs": [],
   "source": [
    "input_shape = (128, 128, 3)"
   ]
  },
  {
   "cell_type": "code",
   "execution_count": 18,
   "metadata": {},
   "outputs": [],
   "source": [
    "from tensorflow.keras import models, layers, optimizers, regularizers\n",
    "from tensorflow.keras.layers import Conv2D, MaxPooling2D, Flatten, Dense, Dropout\n",
    "\n",
    "baseline_model = models.Sequential()\n",
    "\n",
    "baseline_model.add(Conv2D(32, (3, 3), activation='relu',\n",
    "                    input_shape=input_shape))\n",
    "\n",
    "baseline_model.add(MaxPooling2D((2, 2)))\n",
    "\n",
    "baseline_model.add(Conv2D(32, (3, 3), activation='relu'))\n",
    "baseline_model.add(MaxPooling2D(2, 2))\n",
    "\n",
    "baseline_model.add(Conv2D(64, (3, 3), activation='relu'))\n",
    "baseline_model.add(MaxPooling2D((2, 2)))\n",
    "\n",
    "baseline_model.add(Flatten())\n",
    "baseline_model.add(Dense(64, activation='relu'))\n",
    "baseline_model.add(Dense(1, activation='sigmoid'))"
   ]
  },
  {
   "cell_type": "code",
   "execution_count": 19,
   "metadata": {},
   "outputs": [],
   "source": [
    "baseline_model.compile(loss='binary_crossentropy',\n",
    "                optimizer='adam',\n",
    "                metrics=['acc'])"
   ]
  },
  {
   "cell_type": "code",
   "execution_count": 20,
   "metadata": {},
   "outputs": [
    {
     "name": "stdout",
     "output_type": "stream",
     "text": [
      "Model: \"sequential\"\n",
      "_________________________________________________________________\n",
      "Layer (type)                 Output Shape              Param #   \n",
      "=================================================================\n",
      "conv2d (Conv2D)              (None, 126, 126, 32)      896       \n",
      "_________________________________________________________________\n",
      "max_pooling2d (MaxPooling2D) (None, 63, 63, 32)        0         \n",
      "_________________________________________________________________\n",
      "conv2d_1 (Conv2D)            (None, 61, 61, 32)        9248      \n",
      "_________________________________________________________________\n",
      "max_pooling2d_1 (MaxPooling2 (None, 30, 30, 32)        0         \n",
      "_________________________________________________________________\n",
      "conv2d_2 (Conv2D)            (None, 28, 28, 64)        18496     \n",
      "_________________________________________________________________\n",
      "max_pooling2d_2 (MaxPooling2 (None, 14, 14, 64)        0         \n",
      "_________________________________________________________________\n",
      "flatten (Flatten)            (None, 12544)             0         \n",
      "_________________________________________________________________\n",
      "dense (Dense)                (None, 64)                802880    \n",
      "_________________________________________________________________\n",
      "dense_1 (Dense)              (None, 1)                 65        \n",
      "=================================================================\n",
      "Total params: 831,585\n",
      "Trainable params: 831,585\n",
      "Non-trainable params: 0\n",
      "_________________________________________________________________\n"
     ]
    }
   ],
   "source": [
    "baseline_model.summary()"
   ]
  },
  {
   "cell_type": "code",
   "execution_count": 21,
   "metadata": {},
   "outputs": [
    {
     "name": "stdout",
     "output_type": "stream",
     "text": [
      "Epoch 1/25\n",
      "105/105 [==============================] - 86s 821ms/step - loss: 0.3078 - acc: 0.8721 - val_loss: 0.2198 - val_acc: 0.8125\n",
      "Epoch 2/25\n",
      "105/105 [==============================] - 75s 712ms/step - loss: 0.1185 - acc: 0.9561 - val_loss: 0.4820 - val_acc: 0.6875\n",
      "Epoch 3/25\n",
      "105/105 [==============================] - 73s 691ms/step - loss: 0.0887 - acc: 0.9672 - val_loss: 0.1219 - val_acc: 0.9375\n",
      "Epoch 4/25\n",
      "105/105 [==============================] - 74s 702ms/step - loss: 0.0718 - acc: 0.9745 - val_loss: 0.1965 - val_acc: 0.8750\n",
      "Epoch 5/25\n",
      "105/105 [==============================] - 74s 705ms/step - loss: 0.0662 - acc: 0.9732 - val_loss: 0.3070 - val_acc: 0.8750\n",
      "Epoch 6/25\n",
      "105/105 [==============================] - 74s 702ms/step - loss: 0.0549 - acc: 0.9789 - val_loss: 0.2468 - val_acc: 0.9375\n",
      "Epoch 7/25\n",
      "105/105 [==============================] - 74s 702ms/step - loss: 0.0459 - acc: 0.9847 - val_loss: 0.5333 - val_acc: 0.7500\n",
      "Epoch 8/25\n",
      "105/105 [==============================] - 73s 695ms/step - loss: 0.0433 - acc: 0.9849 - val_loss: 0.1109 - val_acc: 0.9375\n",
      "Epoch 9/25\n",
      "105/105 [==============================] - 75s 714ms/step - loss: 0.0400 - acc: 0.9850 - val_loss: 0.4331 - val_acc: 0.8750\n",
      "Epoch 10/25\n",
      "105/105 [==============================] - 89s 844ms/step - loss: 0.0313 - acc: 0.9889 - val_loss: 0.1178 - val_acc: 0.9375\n",
      "Epoch 11/25\n",
      "105/105 [==============================] - 110s 1s/step - loss: 0.0216 - acc: 0.9925 - val_loss: 0.3407 - val_acc: 0.8750\n",
      "Epoch 12/25\n",
      "105/105 [==============================] - 86s 816ms/step - loss: 0.0202 - acc: 0.9941 - val_loss: 0.2800 - val_acc: 0.8125\n",
      "Epoch 13/25\n",
      "105/105 [==============================] - 75s 716ms/step - loss: 0.0154 - acc: 0.9950 - val_loss: 0.5629 - val_acc: 0.7500\n",
      "Epoch 14/25\n",
      "105/105 [==============================] - 82s 784ms/step - loss: 0.0110 - acc: 0.9965 - val_loss: 0.4762 - val_acc: 0.7500\n",
      "Epoch 15/25\n",
      "105/105 [==============================] - 91s 865ms/step - loss: 0.0057 - acc: 0.9983 - val_loss: 0.7891 - val_acc: 0.8125\n",
      "Epoch 16/25\n",
      "105/105 [==============================] - 80s 763ms/step - loss: 0.0025 - acc: 1.0000 - val_loss: 0.7483 - val_acc: 0.8125\n",
      "Epoch 17/25\n",
      "105/105 [==============================] - 81s 770ms/step - loss: 0.0015 - acc: 0.9998 - val_loss: 0.4774 - val_acc: 0.8750\n",
      "Epoch 18/25\n",
      "105/105 [==============================] - 86s 818ms/step - loss: 8.4391e-04 - acc: 1.0000 - val_loss: 0.1356 - val_acc: 0.8750\n",
      "Epoch 19/25\n",
      "105/105 [==============================] - 100s 956ms/step - loss: 0.0040 - acc: 0.9987 - val_loss: 0.6702 - val_acc: 0.7500\n",
      "Epoch 20/25\n",
      "105/105 [==============================] - 83s 786ms/step - loss: 0.0079 - acc: 0.9969 - val_loss: 1.3658 - val_acc: 0.6875\n",
      "Epoch 21/25\n",
      "105/105 [==============================] - 105s 997ms/step - loss: 0.0150 - acc: 0.9952 - val_loss: 1.2464 - val_acc: 0.6250\n",
      "Epoch 22/25\n",
      "105/105 [==============================] - 96s 918ms/step - loss: 0.0194 - acc: 0.9935 - val_loss: 0.0536 - val_acc: 1.0000\n",
      "Epoch 23/25\n",
      "105/105 [==============================] - 85s 813ms/step - loss: 0.0209 - acc: 0.9925 - val_loss: 0.3334 - val_acc: 0.8125\n",
      "Epoch 24/25\n",
      "105/105 [==============================] - 83s 789ms/step - loss: 0.0067 - acc: 0.9977 - val_loss: 0.1093 - val_acc: 0.9375\n",
      "Epoch 25/25\n",
      "105/105 [==============================] - 82s 780ms/step - loss: 0.0034 - acc: 0.9985 - val_loss: 0.4961 - val_acc: 0.8750\n"
     ]
    }
   ],
   "source": [
    "# try bumping batch size to 64\n",
    "base_history = baseline_model.fit(train_images,\n",
    "                       train_labels,\n",
    "                       epochs=25,\n",
    "                       batch_size=50,\n",
    "                       validation_data=(val_images, val_labels))"
   ]
  },
  {
   "cell_type": "code",
   "execution_count": 22,
   "metadata": {},
   "outputs": [],
   "source": [
    "import seaborn as sns\n",
    "def eval_results(results):\n",
    " '''what does the function do'''\n",
    "    history = results.history\n",
    "    plt.figure()\n",
    "    plt.plot(history['loss'])\n",
    "    plt.plot(history['val_loss'])\n",
    "    plt.legend(['loss', 'val_loss'])\n",
    "    plt.title('Loss')\n",
    "    plt.xlabel('Epochs')\n",
    "    plt.ylabel('Loss')\n",
    "    plt.show()\n",
    "\n",
    "     plt.figure()\n",
    "    plt.plot(history['acc'])\n",
    "    plt.plot(history['val_acc'])\n",
    "    plt.legend(['acc', 'val_acc'])\n",
    "    plt.title('Accuracy')\n",
    "    plt.xlabel('Epochs')\n",
    "    plt.ylabel('Accuracy')\n",
    "    plt.show()\n",
    "\n",
    "    y_hat_test = results.model.predict(test_images)\n",
    "    thresh = 0.5\n",
    "    #y_pred = y_hat_test.round()\n",
    "    y_pred = (y_hat_test < thresh).astype(np.int)\n",
    "    y_true = test_labels.astype(np.int)\n",
    "    cm = confusion_matrix(y_true, y_pred)\n",
    "    sns.heatmap(cm, annot=True, cmap='Blues', fmt='0.5g')\n",
    "    plt.xlabel('Predictions')\n",
    "    plt.ylabel('Actuals')\n",
    "    plt.title('Model Confusion Matrix')\n",
    "    plt.show()\n",
    "    print('\\n')\n",
    "\n",
    "    print(classification_report(y_true, y_pred))\n",
    "    print('\\n')\n",
    "\n",
    "    test_loss, test_acc = results.model.evaluate(test_images, test_labels)\n",
    "    print(f'Test Loss: {test_loss}')\n",
    "    print(f'Test Acc: {test_acc}')\n",
    "    "
   ]
  },
  {
   "cell_type": "code",
   "execution_count": 23,
   "metadata": {},
   "outputs": [
    {
     "data": {
      "image/png": "[encoded data removed]",
      "text/plain": [
       "<Figure size 432x288 with 1 Axes>"
      ]
     },
     "metadata": {
      "needs_background": "light"
     },
     "output_type": "display_data"
    },
    {
     "data": {
      "image/png": "[encoded data removed]",
      "text/plain": [
       "<Figure size 432x288 with 1 Axes>"
      ]
     },
     "metadata": {
      "needs_background": "light"
     },
     "output_type": "display_data"
    },
    {
     "data": {
      "image/png": "[encoded data removed]",
      "text/plain": [
       "<Figure size 432x288 with 2 Axes>"
      ]
     },
     "metadata": {
      "needs_background": "light"
     },
     "output_type": "display_data"
    },
    {
     "name": "stdout",
     "output_type": "stream",
     "text": [
      "\n",
      "\n",
      "              precision    recall  f1-score   support\n",
      "\n",
      "           0       0.31      0.74      0.44       234\n",
      "           1       0.03      0.01      0.01       390\n",
      "\n",
      "    accuracy                           0.28       624\n",
      "   macro avg       0.17      0.37      0.22       624\n",
      "weighted avg       0.14      0.28      0.17       624\n",
      "\n",
      "\n",
      "\n",
      "20/20 [==============================] - 3s 156ms/step - loss: 3.2223 - acc: 0.7179\n",
      "Test Loss: 3.2222514152526855\n",
      "Test Acc: 0.7179487347602844\n"
     ]
    }
   ],
   "source": [
    "eval_results(base_history)"
   ]
  },
  {
   "cell_type": "markdown",
   "metadata": {},
   "source": [
    "### Model 2: Looking at class imbalance, use early stopping, increase epochs"
   ]
  },
  {
   "cell_type": "code",
   "execution_count": 24,
   "metadata": {},
   "outputs": [
    {
     "data": {
      "image/png": "[encoded data removed]",
      "text/plain": [
       "<Figure size 432x288 with 1 Axes>"
      ]
     },
     "metadata": {
      "needs_background": "light"
     },
     "output_type": "display_data"
    }
   ],
   "source": [
    "# Review training data class imbalance\n",
    "#sns.countplot\n",
    "sns.distplot(train_labels)\n",
    "plt.title('Class Imbalance in Training Data')\n",
    "plt.show()"
   ]
  },
  {
   "cell_type": "code",
   "execution_count": 25,
   "metadata": {},
   "outputs": [
    {
     "data": {
      "text/plain": [
       "{0.0: 1.9448173005219984, 1.0: 0.6730322580645162}"
      ]
     },
     "execution_count": 25,
     "metadata": {},
     "output_type": "execute_result"
    }
   ],
   "source": [
    "from sklearn.utils.class_weight import compute_class_weight\n",
    "weights = compute_class_weight('balanced', np.unique(train_labels), train_labels)\n",
    "weights_dict = dict(zip(np.unique(train_labels), weights))\n",
    "weights_dict"
   ]
  },
  {
   "cell_type": "code",
   "execution_count": 26,
   "metadata": {},
   "outputs": [],
   "source": [
    "# Use early stopping and reduce learning rate \n",
    "from tensorflow.keras.callbacks import ModelCheckpoint, EarlyStopping, ReduceLROnPlateau\n",
    "early_stopping = EarlyStopping(monitor='val_loss', mode='min', patience=5)\n",
    "lr = ReduceLROnPlateau(monitor='val_loss', factor=0.5, patience=5)\n",
    "callbacks = [early_stopping, lr]"
   ]
  },
  {
   "cell_type": "code",
   "execution_count": 27,
   "metadata": {},
   "outputs": [],
   "source": [
    "model_2 = models.Sequential()\n",
    "\n",
    "model_2.add(Conv2D(32, (3, 3), activation='relu',\n",
    "                    input_shape=input_shape))\n",
    "model_2.add(MaxPooling2D((2, 2)))\n",
    "\n",
    "model_2.add(Conv2D(32, (3, 3), activation='relu'))\n",
    "model_2.add(MaxPooling2D(2, 2))\n",
    "\n",
    "model_2.add(Conv2D(64, (3, 3), activation='relu'))\n",
    "model_2.add(MaxPooling2D((2, 2)))\n",
    "\n",
    "model_2.add(Flatten())\n",
    "model_2.add(Dense(64, activation='relu'))\n",
    "model_2.add(Dense(1, activation='sigmoid'))"
   ]
  },
  {
   "cell_type": "code",
   "execution_count": 28,
   "metadata": {},
   "outputs": [],
   "source": [
    "model_2.compile(loss='binary_crossentropy',\n",
    "                optimizer='adam',\n",
    "                metrics=['acc'])"
   ]
  },
  {
   "cell_type": "code",
   "execution_count": 29,
   "metadata": {},
   "outputs": [
    {
     "name": "stdout",
     "output_type": "stream",
     "text": [
      "Model: \"sequential_1\"\n",
      "_________________________________________________________________\n",
      "Layer (type)                 Output Shape              Param #   \n",
      "=================================================================\n",
      "conv2d_3 (Conv2D)            (None, 126, 126, 32)      896       \n",
      "_________________________________________________________________\n",
      "max_pooling2d_3 (MaxPooling2 (None, 63, 63, 32)        0         \n",
      "_________________________________________________________________\n",
      "conv2d_4 (Conv2D)            (None, 61, 61, 32)        9248      \n",
      "_________________________________________________________________\n",
      "max_pooling2d_4 (MaxPooling2 (None, 30, 30, 32)        0         \n",
      "_________________________________________________________________\n",
      "conv2d_5 (Conv2D)            (None, 28, 28, 64)        18496     \n",
      "_________________________________________________________________\n",
      "max_pooling2d_5 (MaxPooling2 (None, 14, 14, 64)        0         \n",
      "_________________________________________________________________\n",
      "flatten_1 (Flatten)          (None, 12544)             0         \n",
      "_________________________________________________________________\n",
      "dense_2 (Dense)              (None, 64)                802880    \n",
      "_________________________________________________________________\n",
      "dense_3 (Dense)              (None, 1)                 65        \n",
      "=================================================================\n",
      "Total params: 831,585\n",
      "Trainable params: 831,585\n",
      "Non-trainable params: 0\n",
      "_________________________________________________________________\n"
     ]
    }
   ],
   "source": [
    "model_2.summary()"
   ]
  },
  {
   "cell_type": "code",
   "execution_count": 30,
   "metadata": {},
   "outputs": [
    {
     "name": "stdout",
     "output_type": "stream",
     "text": [
      "Epoch 1/50\n",
      "150/150 [==============================] - 82s 550ms/step - loss: 0.3474 - acc: 0.8478 - val_loss: 0.2715 - val_acc: 0.8750\n",
      "Epoch 2/50\n",
      "150/150 [==============================] - 85s 566ms/step - loss: 0.1206 - acc: 0.9546 - val_loss: 0.6423 - val_acc: 0.6250\n",
      "Epoch 3/50\n",
      "150/150 [==============================] - 78s 520ms/step - loss: 0.1133 - acc: 0.9582 - val_loss: 0.1118 - val_acc: 1.0000\n",
      "Epoch 4/50\n",
      "150/150 [==============================] - 88s 584ms/step - loss: 0.0843 - acc: 0.9680 - val_loss: 0.1059 - val_acc: 1.0000\n",
      "Epoch 5/50\n",
      "150/150 [==============================] - 80s 537ms/step - loss: 0.0811 - acc: 0.9678 - val_loss: 0.6377 - val_acc: 0.6875\n",
      "Epoch 6/50\n",
      "150/150 [==============================] - 81s 542ms/step - loss: 0.0813 - acc: 0.9703 - val_loss: 0.0895 - val_acc: 1.0000\n",
      "Epoch 7/50\n",
      "150/150 [==============================] - 73s 486ms/step - loss: 0.0698 - acc: 0.9741 - val_loss: 0.1466 - val_acc: 0.9375\n",
      "Epoch 8/50\n",
      "150/150 [==============================] - 73s 487ms/step - loss: 0.0678 - acc: 0.9772 - val_loss: 0.0654 - val_acc: 1.0000\n",
      "Epoch 9/50\n",
      "150/150 [==============================] - 2222s 15s/step - loss: 0.0496 - acc: 0.9829 - val_loss: 0.0624 - val_acc: 0.9375\n",
      "Epoch 10/50\n",
      "150/150 [==============================] - 81s 540ms/step - loss: 0.0390 - acc: 0.9845 - val_loss: 0.0560 - val_acc: 1.0000\n",
      "Epoch 11/50\n",
      "150/150 [==============================] - 79s 523ms/step - loss: 0.0386 - acc: 0.9843 - val_loss: 0.2129 - val_acc: 0.9375\n",
      "Epoch 12/50\n",
      "150/150 [==============================] - 75s 501ms/step - loss: 0.0316 - acc: 0.9873 - val_loss: 0.0956 - val_acc: 0.9375\n",
      "Epoch 13/50\n",
      "150/150 [==============================] - 77s 516ms/step - loss: 0.0261 - acc: 0.9900 - val_loss: 0.1971 - val_acc: 0.9375\n",
      "Epoch 14/50\n",
      "150/150 [==============================] - 75s 499ms/step - loss: 0.0176 - acc: 0.9935 - val_loss: 0.0757 - val_acc: 0.9375\n",
      "Epoch 15/50\n",
      "150/150 [==============================] - 76s 503ms/step - loss: 0.0211 - acc: 0.9908 - val_loss: 0.1773 - val_acc: 0.8750\n"
     ]
    }
   ],
   "source": [
    "results2 = model_2.fit(train_images,\n",
    "                   train_labels,\n",
    "                   epochs=50,\n",
    "                   batch_size=35,\n",
    "                   validation_data=(val_images, val_labels),\n",
    "                   class_weight=weights_dict,\n",
    "                   callbacks=callbacks)"
   ]
  },
  {
   "cell_type": "code",
   "execution_count": 31,
   "metadata": {},
   "outputs": [
    {
     "data": {
      "image/png": "[encoded data removed]",
      "text/plain": [
       "<Figure size 432x288 with 1 Axes>"
      ]
     },
     "metadata": {
      "needs_background": "light"
     },
     "output_type": "display_data"
    },
    {
     "data": {
      "image/png": "[encoded data removed]",
      "text/plain": [
       "<Figure size 432x288 with 1 Axes>"
      ]
     },
     "metadata": {
      "needs_background": "light"
     },
     "output_type": "display_data"
    },
    {
     "data": {
      "image/png": "[encoded data removed]",
      "text/plain": [
       "<Figure size 432x288 with 2 Axes>"
      ]
     },
     "metadata": {
      "needs_background": "light"
     },
     "output_type": "display_data"
    },
    {
     "name": "stdout",
     "output_type": "stream",
     "text": [
      "\n",
      "\n",
      "              precision    recall  f1-score   support\n",
      "\n",
      "           0       0.27      0.62      0.38       234\n",
      "           1       0.02      0.01      0.01       390\n",
      "\n",
      "    accuracy                           0.24       624\n",
      "   macro avg       0.15      0.31      0.19       624\n",
      "weighted avg       0.12      0.24      0.15       624\n",
      "\n",
      "\n",
      "\n",
      "20/20 [==============================] - 2s 110ms/step - loss: 1.9389 - acc: 0.7628\n",
      "Test Loss: 1.9389383792877197\n",
      "Test Acc: 0.7628205418586731\n"
     ]
    }
   ],
   "source": [
    "eval_results(results2)"
   ]
  },
  {
   "cell_type": "markdown",
   "metadata": {},
   "source": [
    "### Model 3: more layers"
   ]
  },
  {
   "cell_type": "code",
   "execution_count": 46,
   "metadata": {
    "scrolled": true
   },
   "outputs": [],
   "source": [
    "model_3 = models.Sequential()\n",
    "\n",
    "model_3.add(Conv2D(32, (3, 3), activation='relu', input_shape=input_shape))\n",
    "\n",
    "model_3.add(Conv2D(32, (3, 3), activation='relu'))\n",
    "model_3.add(MaxPooling2D((2, 2)))\n",
    "\n",
    "model_3.add(Conv2D(32, (3, 3), activation='relu'))\n",
    "model_3.add(Conv2D(32, (3, 3), activation='relu'))\n",
    "model_3.add(MaxPooling2D(2, 2))\n",
    "\n",
    "model_3.add(Conv2D(64, (3, 3), activation='relu'))\n",
    "model_3.add(Conv2D(64, (3, 3), activation='relu'))\n",
    "model_3.add(MaxPooling2D((2, 2)))\n",
    "\n",
    "# cut out below\n",
    "model_3.add(Conv2D(64, (3, 3), activation='relu'))\n",
    "model_3.add(Conv2D(64, (3, 3), activation='relu'))\n",
    "model_3.add(MaxPooling2D((2, 2)))\n",
    "\n",
    "#cut out below\n",
    "model_3.add(Conv2D(128, (3, 3), activation='relu'))\n",
    "model_3.add(Conv2D(128, (3, 3), activation='relu', data_format='channels_first'))\n",
    "model_3.add(MaxPooling2D((2, 2)))\n",
    "\n",
    "model_3.add(Flatten())\n",
    "model_3.add(Dense(128, activation='relu'))\n",
    "model_3.add(Dense(64, activation='relu'))\n",
    "model_3.add(Dense(1, activation='sigmoid'))"
   ]
  },
  {
   "cell_type": "code",
   "execution_count": 47,
   "metadata": {},
   "outputs": [],
   "source": [
    "model_3.compile(loss='binary_crossentropy',\n",
    "                optimizer='RMSprop',\n",
    "                metrics=['acc'])"
   ]
  },
  {
   "cell_type": "code",
   "execution_count": 52,
   "metadata": {},
   "outputs": [
    {
     "name": "stdout",
     "output_type": "stream",
     "text": [
      "Epoch 1/50\n"
     ]
    },
    {
     "ename": "TypeError",
     "evalue": "'NoneType' object is not callable",
     "output_type": "error",
     "traceback": [
      "\u001b[0;31m---------------------------------------------------------------------------\u001b[0m",
      "\u001b[0;31mTypeError\u001b[0m                                 Traceback (most recent call last)",
      "\u001b[0;32m<ipython-input-52-8faf527c124e>\u001b[0m in \u001b[0;36m<module>\u001b[0;34m()\u001b[0m\n\u001b[1;32m      5\u001b[0m                    \u001b[0mvalidation_split\u001b[0m\u001b[0;34m=\u001b[0m\u001b[0;36m0.2\u001b[0m\u001b[0;34m,\u001b[0m\u001b[0;34m\u001b[0m\u001b[0;34m\u001b[0m\u001b[0m\n\u001b[1;32m      6\u001b[0m                     \u001b[0mclass_weight\u001b[0m\u001b[0;34m=\u001b[0m\u001b[0mweights_dict\u001b[0m\u001b[0;34m,\u001b[0m\u001b[0;34m\u001b[0m\u001b[0;34m\u001b[0m\u001b[0m\n\u001b[0;32m----> 7\u001b[0;31m                    callbacks=[early_stopping])\n\u001b[0m",
      "\u001b[0;32m/Users/Gabby/opt/anaconda3/envs/learn-env/lib/python3.6/site-packages/tensorflow/python/keras/engine/training.py\u001b[0m in \u001b[0;36m_method_wrapper\u001b[0;34m(self, *args, **kwargs)\u001b[0m\n\u001b[1;32m    106\u001b[0m   \u001b[0;32mdef\u001b[0m \u001b[0m_method_wrapper\u001b[0m\u001b[0;34m(\u001b[0m\u001b[0mself\u001b[0m\u001b[0;34m,\u001b[0m \u001b[0;34m*\u001b[0m\u001b[0margs\u001b[0m\u001b[0;34m,\u001b[0m \u001b[0;34m**\u001b[0m\u001b[0mkwargs\u001b[0m\u001b[0;34m)\u001b[0m\u001b[0;34m:\u001b[0m\u001b[0;34m\u001b[0m\u001b[0;34m\u001b[0m\u001b[0m\n\u001b[1;32m    107\u001b[0m     \u001b[0;32mif\u001b[0m \u001b[0;32mnot\u001b[0m \u001b[0mself\u001b[0m\u001b[0;34m.\u001b[0m\u001b[0m_in_multi_worker_mode\u001b[0m\u001b[0;34m(\u001b[0m\u001b[0;34m)\u001b[0m\u001b[0;34m:\u001b[0m  \u001b[0;31m# pylint: disable=protected-access\u001b[0m\u001b[0;34m\u001b[0m\u001b[0;34m\u001b[0m\u001b[0m\n\u001b[0;32m--> 108\u001b[0;31m       \u001b[0;32mreturn\u001b[0m \u001b[0mmethod\u001b[0m\u001b[0;34m(\u001b[0m\u001b[0mself\u001b[0m\u001b[0;34m,\u001b[0m \u001b[0;34m*\u001b[0m\u001b[0margs\u001b[0m\u001b[0;34m,\u001b[0m \u001b[0;34m**\u001b[0m\u001b[0mkwargs\u001b[0m\u001b[0;34m)\u001b[0m\u001b[0;34m\u001b[0m\u001b[0;34m\u001b[0m\u001b[0m\n\u001b[0m\u001b[1;32m    109\u001b[0m \u001b[0;34m\u001b[0m\u001b[0m\n\u001b[1;32m    110\u001b[0m     \u001b[0;31m# Running inside `run_distribute_coordinator` already.\u001b[0m\u001b[0;34m\u001b[0m\u001b[0;34m\u001b[0m\u001b[0;34m\u001b[0m\u001b[0m\n",
      "\u001b[0;32m/Users/Gabby/opt/anaconda3/envs/learn-env/lib/python3.6/site-packages/tensorflow/python/keras/engine/training.py\u001b[0m in \u001b[0;36mfit\u001b[0;34m(self, x, y, batch_size, epochs, verbose, callbacks, validation_split, validation_data, shuffle, class_weight, sample_weight, initial_epoch, steps_per_epoch, validation_steps, validation_batch_size, validation_freq, max_queue_size, workers, use_multiprocessing)\u001b[0m\n\u001b[1;32m   1096\u001b[0m                 batch_size=batch_size):\n\u001b[1;32m   1097\u001b[0m               \u001b[0mcallbacks\u001b[0m\u001b[0;34m.\u001b[0m\u001b[0mon_train_batch_begin\u001b[0m\u001b[0;34m(\u001b[0m\u001b[0mstep\u001b[0m\u001b[0;34m)\u001b[0m\u001b[0;34m\u001b[0m\u001b[0;34m\u001b[0m\u001b[0m\n\u001b[0;32m-> 1098\u001b[0;31m               \u001b[0mtmp_logs\u001b[0m \u001b[0;34m=\u001b[0m \u001b[0mtrain_function\u001b[0m\u001b[0;34m(\u001b[0m\u001b[0miterator\u001b[0m\u001b[0;34m)\u001b[0m\u001b[0;34m\u001b[0m\u001b[0;34m\u001b[0m\u001b[0m\n\u001b[0m\u001b[1;32m   1099\u001b[0m               \u001b[0;32mif\u001b[0m \u001b[0mdata_handler\u001b[0m\u001b[0;34m.\u001b[0m\u001b[0mshould_sync\u001b[0m\u001b[0;34m:\u001b[0m\u001b[0;34m\u001b[0m\u001b[0;34m\u001b[0m\u001b[0m\n\u001b[1;32m   1100\u001b[0m                 \u001b[0mcontext\u001b[0m\u001b[0;34m.\u001b[0m\u001b[0masync_wait\u001b[0m\u001b[0;34m(\u001b[0m\u001b[0;34m)\u001b[0m\u001b[0;34m\u001b[0m\u001b[0;34m\u001b[0m\u001b[0m\n",
      "\u001b[0;32m/Users/Gabby/opt/anaconda3/envs/learn-env/lib/python3.6/site-packages/tensorflow/python/eager/def_function.py\u001b[0m in \u001b[0;36m__call__\u001b[0;34m(self, *args, **kwds)\u001b[0m\n\u001b[1;32m    778\u001b[0m       \u001b[0;32melse\u001b[0m\u001b[0;34m:\u001b[0m\u001b[0;34m\u001b[0m\u001b[0;34m\u001b[0m\u001b[0m\n\u001b[1;32m    779\u001b[0m         \u001b[0mcompiler\u001b[0m \u001b[0;34m=\u001b[0m \u001b[0;34m\"nonXla\"\u001b[0m\u001b[0;34m\u001b[0m\u001b[0;34m\u001b[0m\u001b[0m\n\u001b[0;32m--> 780\u001b[0;31m         \u001b[0mresult\u001b[0m \u001b[0;34m=\u001b[0m \u001b[0mself\u001b[0m\u001b[0;34m.\u001b[0m\u001b[0m_call\u001b[0m\u001b[0;34m(\u001b[0m\u001b[0;34m*\u001b[0m\u001b[0margs\u001b[0m\u001b[0;34m,\u001b[0m \u001b[0;34m**\u001b[0m\u001b[0mkwds\u001b[0m\u001b[0;34m)\u001b[0m\u001b[0;34m\u001b[0m\u001b[0;34m\u001b[0m\u001b[0m\n\u001b[0m\u001b[1;32m    781\u001b[0m \u001b[0;34m\u001b[0m\u001b[0m\n\u001b[1;32m    782\u001b[0m       \u001b[0mnew_tracing_count\u001b[0m \u001b[0;34m=\u001b[0m \u001b[0mself\u001b[0m\u001b[0;34m.\u001b[0m\u001b[0m_get_tracing_count\u001b[0m\u001b[0;34m(\u001b[0m\u001b[0;34m)\u001b[0m\u001b[0;34m\u001b[0m\u001b[0;34m\u001b[0m\u001b[0m\n",
      "\u001b[0;32m/Users/Gabby/opt/anaconda3/envs/learn-env/lib/python3.6/site-packages/tensorflow/python/eager/def_function.py\u001b[0m in \u001b[0;36m_call\u001b[0;34m(self, *args, **kwds)\u001b[0m\n\u001b[1;32m    805\u001b[0m       \u001b[0;31m# In this case we have created variables on the first call, so we run the\u001b[0m\u001b[0;34m\u001b[0m\u001b[0;34m\u001b[0m\u001b[0;34m\u001b[0m\u001b[0m\n\u001b[1;32m    806\u001b[0m       \u001b[0;31m# defunned version which is guaranteed to never create variables.\u001b[0m\u001b[0;34m\u001b[0m\u001b[0;34m\u001b[0m\u001b[0;34m\u001b[0m\u001b[0m\n\u001b[0;32m--> 807\u001b[0;31m       \u001b[0;32mreturn\u001b[0m \u001b[0mself\u001b[0m\u001b[0;34m.\u001b[0m\u001b[0m_stateless_fn\u001b[0m\u001b[0;34m(\u001b[0m\u001b[0;34m*\u001b[0m\u001b[0margs\u001b[0m\u001b[0;34m,\u001b[0m \u001b[0;34m**\u001b[0m\u001b[0mkwds\u001b[0m\u001b[0;34m)\u001b[0m  \u001b[0;31m# pylint: disable=not-callable\u001b[0m\u001b[0;34m\u001b[0m\u001b[0;34m\u001b[0m\u001b[0m\n\u001b[0m\u001b[1;32m    808\u001b[0m     \u001b[0;32melif\u001b[0m \u001b[0mself\u001b[0m\u001b[0;34m.\u001b[0m\u001b[0m_stateful_fn\u001b[0m \u001b[0;32mis\u001b[0m \u001b[0;32mnot\u001b[0m \u001b[0;32mNone\u001b[0m\u001b[0;34m:\u001b[0m\u001b[0;34m\u001b[0m\u001b[0;34m\u001b[0m\u001b[0m\n\u001b[1;32m    809\u001b[0m       \u001b[0;31m# Release the lock early so that multiple threads can perform the call\u001b[0m\u001b[0;34m\u001b[0m\u001b[0;34m\u001b[0m\u001b[0;34m\u001b[0m\u001b[0m\n",
      "\u001b[0;31mTypeError\u001b[0m: 'NoneType' object is not callable"
     ]
    }
   ],
   "source": [
    "results_3 = model_3.fit(train_images,\n",
    "                   train_labels,\n",
    "                   epochs=50,\n",
    "                   batch_size=32,\n",
    "                   validation_split=0.2,\n",
    "                    class_weight=weights_dict,\n",
    "                   callbacks=[early_stopping])\n"
   ]
  },
  {
   "cell_type": "code",
   "execution_count": null,
   "metadata": {},
   "outputs": [],
   "source": [
    "eval_results(results_3)"
   ]
  },
  {
   "cell_type": "markdown",
   "metadata": {},
   "source": [
    "### Model 4: deeper model"
   ]
  },
  {
   "cell_type": "code",
   "execution_count": 53,
   "metadata": {},
   "outputs": [],
   "source": [
    "model_4 = models.Sequential()\n",
    "\n",
    "model_4.add(Conv2D(32, (3, 3), activation='relu',\n",
    "                    input_shape=input_shape))\n",
    "model_4.add(Conv2D(32, (3, 3), activation='relu'))\n",
    "model_4.add(MaxPooling2D((2, 2)))\n",
    "\n",
    "model_4.add(Conv2D(32, (3, 3), activation='relu'))\n",
    "model_4.add(Conv2D(32, (3, 3), activation='relu'))\n",
    "model_4.add(MaxPooling2D(2, 2))\n",
    "\n",
    "model_4.add(Conv2D(64, (3, 3), activation='relu'))\n",
    "model_4.add(Conv2D(64, (3, 3), activation='relu'))\n",
    "model_4.add(MaxPooling2D((2, 2)))\n",
    "\n",
    "model_4.add(Conv2D(64, (3, 3), activation='relu'))\n",
    "model_4.add(Conv2D(64, (3, 3), activation='relu'))\n",
    "model_4.add(MaxPooling2D((2, 2)))\n",
    "\n",
    "model_4.add(Flatten())\n",
    "model_4.add(Dense(128, activation='relu'))\n",
    "model_4.add(Dense(64, activation='relu'))\n",
    "model_4.add(Dense(1, activation='sigmoid'))"
   ]
  },
  {
   "cell_type": "code",
   "execution_count": 54,
   "metadata": {},
   "outputs": [],
   "source": [
    "model_4.compile(loss='binary_crossentropy',\n",
    "                optimizer='RMSprop',\n",
    "                metrics=['acc'])"
   ]
  },
  {
   "cell_type": "code",
   "execution_count": 55,
   "metadata": {},
   "outputs": [
    {
     "name": "stdout",
     "output_type": "stream",
     "text": [
      "Model: \"sequential_6\"\n",
      "_________________________________________________________________\n",
      "Layer (type)                 Output Shape              Param #   \n",
      "=================================================================\n",
      "conv2d_46 (Conv2D)           (None, 126, 126, 32)      896       \n",
      "_________________________________________________________________\n",
      "conv2d_47 (Conv2D)           (None, 124, 124, 32)      9248      \n",
      "_________________________________________________________________\n",
      "max_pooling2d_26 (MaxPooling (None, 62, 62, 32)        0         \n",
      "_________________________________________________________________\n",
      "conv2d_48 (Conv2D)           (None, 60, 60, 32)        9248      \n",
      "_________________________________________________________________\n",
      "conv2d_49 (Conv2D)           (None, 58, 58, 32)        9248      \n",
      "_________________________________________________________________\n",
      "max_pooling2d_27 (MaxPooling (None, 29, 29, 32)        0         \n",
      "_________________________________________________________________\n",
      "conv2d_50 (Conv2D)           (None, 27, 27, 64)        18496     \n",
      "_________________________________________________________________\n",
      "conv2d_51 (Conv2D)           (None, 25, 25, 64)        36928     \n",
      "_________________________________________________________________\n",
      "max_pooling2d_28 (MaxPooling (None, 12, 12, 64)        0         \n",
      "_________________________________________________________________\n",
      "conv2d_52 (Conv2D)           (None, 10, 10, 64)        36928     \n",
      "_________________________________________________________________\n",
      "conv2d_53 (Conv2D)           (None, 8, 8, 64)          36928     \n",
      "_________________________________________________________________\n",
      "max_pooling2d_29 (MaxPooling (None, 4, 4, 64)          0         \n",
      "_________________________________________________________________\n",
      "flatten_6 (Flatten)          (None, 1024)              0         \n",
      "_________________________________________________________________\n",
      "dense_16 (Dense)             (None, 128)               131200    \n",
      "_________________________________________________________________\n",
      "dense_17 (Dense)             (None, 64)                8256      \n",
      "_________________________________________________________________\n",
      "dense_18 (Dense)             (None, 1)                 65        \n",
      "=================================================================\n",
      "Total params: 297,441\n",
      "Trainable params: 297,441\n",
      "Non-trainable params: 0\n",
      "_________________________________________________________________\n"
     ]
    }
   ],
   "source": [
    "model_4.summary()"
   ]
  },
  {
   "cell_type": "code",
   "execution_count": 57,
   "metadata": {},
   "outputs": [
    {
     "name": "stdout",
     "output_type": "stream",
     "text": [
      "Epoch 1/50\n",
      "131/131 [==============================] - 208s 2s/step - loss: 0.6694 - acc: 0.6155 - val_loss: 0.3121 - val_acc: 0.8678\n",
      "Epoch 2/50\n",
      "131/131 [==============================] - 194s 1s/step - loss: 0.3880 - acc: 0.8408 - val_loss: 0.3298 - val_acc: 0.8563\n",
      "Epoch 3/50\n",
      "131/131 [==============================] - 187s 1s/step - loss: 0.2611 - acc: 0.9039 - val_loss: 0.3515 - val_acc: 0.9023\n",
      "Epoch 4/50\n",
      "131/131 [==============================] - 197s 2s/step - loss: 0.1832 - acc: 0.9331 - val_loss: 0.0915 - val_acc: 0.9722\n",
      "Epoch 5/50\n",
      "131/131 [==============================] - 173s 1s/step - loss: 0.1909 - acc: 0.9461 - val_loss: 0.0802 - val_acc: 0.9751\n",
      "Epoch 6/50\n",
      "131/131 [==============================] - 185s 1s/step - loss: 0.1422 - acc: 0.9494 - val_loss: 0.1650 - val_acc: 0.9435\n",
      "Epoch 7/50\n",
      "131/131 [==============================] - 197s 2s/step - loss: 0.1312 - acc: 0.9552 - val_loss: 0.1847 - val_acc: 0.9416\n",
      "Epoch 8/50\n",
      "131/131 [==============================] - 186s 1s/step - loss: 0.1076 - acc: 0.9588 - val_loss: 0.1035 - val_acc: 0.9713\n",
      "Epoch 9/50\n",
      "131/131 [==============================] - 185s 1s/step - loss: 0.1089 - acc: 0.9619 - val_loss: 0.0647 - val_acc: 0.9761\n",
      "Epoch 10/50\n",
      "131/131 [==============================] - 185s 1s/step - loss: 0.0880 - acc: 0.9664 - val_loss: 0.1064 - val_acc: 0.9598\n",
      "Epoch 11/50\n",
      "131/131 [==============================] - 183s 1s/step - loss: 0.0802 - acc: 0.9696 - val_loss: 0.0778 - val_acc: 0.9732\n",
      "Epoch 12/50\n",
      "131/131 [==============================] - 186s 1s/step - loss: 0.0826 - acc: 0.9717 - val_loss: 0.0783 - val_acc: 0.9780\n",
      "Epoch 13/50\n",
      "131/131 [==============================] - 187s 1s/step - loss: 0.0659 - acc: 0.9746 - val_loss: 0.3744 - val_acc: 0.9435\n",
      "Epoch 14/50\n",
      "131/131 [==============================] - 187s 1s/step - loss: 0.0749 - acc: 0.9763 - val_loss: 0.1088 - val_acc: 0.9732\n"
     ]
    }
   ],
   "source": [
    "results_4 = model_4.fit(train_images,\n",
    "                        train_labels,\n",
    "                   epochs=50,\n",
    "                   batch_size=32,\n",
    "                   validation_split=.2,\n",
    "                   class_weight=weights_dict,\n",
    "                   callbacks=[early_stopping])"
   ]
  },
  {
   "cell_type": "code",
   "execution_count": 58,
   "metadata": {},
   "outputs": [
    {
     "data": {
      "image/png": "[encoded data removed]",
      "text/plain": [
       "<Figure size 432x288 with 1 Axes>"
      ]
     },
     "metadata": {
      "needs_background": "light"
     },
     "output_type": "display_data"
    },
    {
     "data": {
      "image/png": "[encoded data removed]",
      "text/plain": [
       "<Figure size 432x288 with 1 Axes>"
      ]
     },
     "metadata": {
      "needs_background": "light"
     },
     "output_type": "display_data"
    },
    {
     "data": {
      "image/png": "[encoded data removed]",
      "text/plain": [
       "<Figure size 432x288 with 2 Axes>"
      ]
     },
     "metadata": {
      "needs_background": "light"
     },
     "output_type": "display_data"
    },
    {
     "name": "stdout",
     "output_type": "stream",
     "text": [
      "\n",
      "\n",
      "              precision    recall  f1-score   support\n",
      "\n",
      "           0       0.24      0.53      0.33       234\n",
      "           1       0.02      0.01      0.01       390\n",
      "\n",
      "    accuracy                           0.20       624\n",
      "   macro avg       0.13      0.27      0.17       624\n",
      "weighted avg       0.10      0.20      0.13       624\n",
      "\n",
      "\n",
      "\n",
      "20/20 [==============================] - 6s 295ms/step - loss: 1.4326 - acc: 0.7965\n",
      "Test Loss: 1.4326324462890625\n",
      "Test Acc: 0.7964743375778198\n"
     ]
    }
   ],
   "source": [
    "eval_results(results_4)"
   ]
  },
  {
   "cell_type": "markdown",
   "metadata": {},
   "source": [
    "### Model 5: Transfer Learning with VGG19 "
   ]
  },
  {
   "cell_type": "code",
   "execution_count": 60,
   "metadata": {},
   "outputs": [
    {
     "name": "stdout",
     "output_type": "stream",
     "text": [
      "Downloading data from https://storage.googleapis.com/tensorflow/keras-applications/vgg19/vgg19_weights_tf_dim_ordering_tf_kernels_notop.h5\n",
      "80142336/80134624 [==============================] - 4s 0us/step\n"
     ]
    }
   ],
   "source": [
    "from tensorflow.keras.applications import VGG16, VGG19\n",
    "\n",
    "pretrained_cnn = VGG19(weights='imagenet', \n",
    "                 include_top=False, \n",
    "                 input_shape=input_shape)\n",
    "\n",
    "#pretrained_cnn.trainable = False\n"
   ]
  },
  {
   "cell_type": "code",
   "execution_count": 64,
   "metadata": {},
   "outputs": [],
   "source": [
    "# Freeze model\n",
    "# you have to do this before you train model\n",
    "pretrained_cnn.trainable = False"
   ]
  },
  {
   "cell_type": "code",
   "execution_count": 61,
   "metadata": {},
   "outputs": [],
   "source": [
    "model_5 = models.Sequential()\n",
    "model_5.add(pretrained_cnn)\n",
    "model_5.add(Flatten())\n",
    "model_5.add(Dense(128, activation='relu'))\n",
    "model_5.add(Dense(1, activation='sigmoid'))"
   ]
  },
  {
   "cell_type": "code",
   "execution_count": 62,
   "metadata": {},
   "outputs": [
    {
     "name": "stdout",
     "output_type": "stream",
     "text": [
      "Model: \"vgg19\"\n",
      "_________________________________________________________________\n",
      "Layer (type)                 Output Shape              Param #   \n",
      "=================================================================\n",
      "input_1 (InputLayer)         [(None, 128, 128, 3)]     0         \n",
      "_________________________________________________________________\n",
      "block1_conv1 (Conv2D)        (None, 128, 128, 64)      1792      \n",
      "_________________________________________________________________\n",
      "block1_conv2 (Conv2D)        (None, 128, 128, 64)      36928     \n",
      "_________________________________________________________________\n",
      "block1_pool (MaxPooling2D)   (None, 64, 64, 64)        0         \n",
      "_________________________________________________________________\n",
      "block2_conv1 (Conv2D)        (None, 64, 64, 128)       73856     \n",
      "_________________________________________________________________\n",
      "block2_conv2 (Conv2D)        (None, 64, 64, 128)       147584    \n",
      "_________________________________________________________________\n",
      "block2_pool (MaxPooling2D)   (None, 32, 32, 128)       0         \n",
      "_________________________________________________________________\n",
      "block3_conv1 (Conv2D)        (None, 32, 32, 256)       295168    \n",
      "_________________________________________________________________\n",
      "block3_conv2 (Conv2D)        (None, 32, 32, 256)       590080    \n",
      "_________________________________________________________________\n",
      "block3_conv3 (Conv2D)        (None, 32, 32, 256)       590080    \n",
      "_________________________________________________________________\n",
      "block3_conv4 (Conv2D)        (None, 32, 32, 256)       590080    \n",
      "_________________________________________________________________\n",
      "block3_pool (MaxPooling2D)   (None, 16, 16, 256)       0         \n",
      "_________________________________________________________________\n",
      "block4_conv1 (Conv2D)        (None, 16, 16, 512)       1180160   \n",
      "_________________________________________________________________\n",
      "block4_conv2 (Conv2D)        (None, 16, 16, 512)       2359808   \n",
      "_________________________________________________________________\n",
      "block4_conv3 (Conv2D)        (None, 16, 16, 512)       2359808   \n",
      "_________________________________________________________________\n",
      "block4_conv4 (Conv2D)        (None, 16, 16, 512)       2359808   \n",
      "_________________________________________________________________\n",
      "block4_pool (MaxPooling2D)   (None, 8, 8, 512)         0         \n",
      "_________________________________________________________________\n",
      "block5_conv1 (Conv2D)        (None, 8, 8, 512)         2359808   \n",
      "_________________________________________________________________\n",
      "block5_conv2 (Conv2D)        (None, 8, 8, 512)         2359808   \n",
      "_________________________________________________________________\n",
      "block5_conv3 (Conv2D)        (None, 8, 8, 512)         2359808   \n",
      "_________________________________________________________________\n",
      "block5_conv4 (Conv2D)        (None, 8, 8, 512)         2359808   \n",
      "_________________________________________________________________\n",
      "block5_pool (MaxPooling2D)   (None, 4, 4, 512)         0         \n",
      "=================================================================\n",
      "Total params: 20,024,384\n",
      "Trainable params: 20,024,384\n",
      "Non-trainable params: 0\n",
      "_________________________________________________________________\n"
     ]
    }
   ],
   "source": [
    "pretrained_cnn.summary()"
   ]
  },
  {
   "cell_type": "code",
   "execution_count": 63,
   "metadata": {},
   "outputs": [
    {
     "name": "stdout",
     "output_type": "stream",
     "text": [
      "vgg19 True\n",
      "flatten_7 True\n",
      "dense_19 True\n",
      "dense_20 True\n",
      "36\n"
     ]
    }
   ],
   "source": [
    "# Check whether the layer is trainable\n",
    "#for layer in model_5.layers:\n",
    "#     print(layer.name, layer.trainable)\n",
    "    \n",
    "# Check trainable weights\n",
    "# print(len(model_5.trainable_weights))"
   ]
  },
  {
   "cell_type": "code",
   "execution_count": 65,
   "metadata": {},
   "outputs": [
    {
     "name": "stdout",
     "output_type": "stream",
     "text": [
      "vgg19 False\n",
      "flatten_7 True\n",
      "dense_19 True\n",
      "dense_20 True\n",
      "4\n"
     ]
    }
   ],
   "source": [
    "# Check that it is frozen\n",
    "# for layer in model_5.layers:\n",
    "#     print(layer.name, layer.trainable)\n",
    "    \n",
    "# Check trainable weights\n",
    "# print(len(model_5.trainable_weights))"
   ]
  },
  {
   "cell_type": "code",
   "execution_count": 66,
   "metadata": {},
   "outputs": [],
   "source": [
    "model_5.compile(loss='binary_crossentropy',\n",
    "                optimizer='RMSprop',\n",
    "                metrics=['acc'])"
   ]
  },
  {
   "cell_type": "code",
   "execution_count": 70,
   "metadata": {},
   "outputs": [
    {
     "name": "stdout",
     "output_type": "stream",
     "text": [
      "Model: \"sequential_7\"\n",
      "_________________________________________________________________\n",
      "Layer (type)                 Output Shape              Param #   \n",
      "=================================================================\n",
      "vgg19 (Functional)           (None, 4, 4, 512)         20024384  \n",
      "_________________________________________________________________\n",
      "flatten_7 (Flatten)          (None, 8192)              0         \n",
      "_________________________________________________________________\n",
      "dense_19 (Dense)             (None, 128)               1048704   \n",
      "_________________________________________________________________\n",
      "dense_20 (Dense)             (None, 1)                 129       \n",
      "=================================================================\n",
      "Total params: 21,073,217\n",
      "Trainable params: 1,048,833\n",
      "Non-trainable params: 20,024,384\n",
      "_________________________________________________________________\n"
     ]
    }
   ],
   "source": [
    "model_5.summary()"
   ]
  },
  {
   "cell_type": "code",
   "execution_count": 73,
   "metadata": {},
   "outputs": [
    {
     "name": "stdout",
     "output_type": "stream",
     "text": [
      "Epoch 1/20\n",
      "131/131 [==============================] - 860s 7s/step - loss: 0.2088 - acc: 0.9219 - val_loss: 0.0741 - val_acc: 0.9732\n",
      "Epoch 2/20\n",
      "131/131 [==============================] - 795s 6s/step - loss: 0.1635 - acc: 0.9418 - val_loss: 0.0603 - val_acc: 0.9693\n",
      "Epoch 3/20\n",
      "131/131 [==============================] - 774s 6s/step - loss: 0.1315 - acc: 0.9453 - val_loss: 0.0830 - val_acc: 0.9693\n",
      "Epoch 4/20\n",
      "131/131 [==============================] - 774s 6s/step - loss: 0.1031 - acc: 0.9633 - val_loss: 0.0556 - val_acc: 0.9732\n",
      "Epoch 5/20\n",
      "131/131 [==============================] - 776s 6s/step - loss: 0.0885 - acc: 0.9662 - val_loss: 0.0511 - val_acc: 0.9799\n",
      "Epoch 6/20\n",
      "131/131 [==============================] - 785s 6s/step - loss: 0.0793 - acc: 0.9703 - val_loss: 0.0737 - val_acc: 0.9732\n",
      "Epoch 7/20\n",
      "131/131 [==============================] - 792s 6s/step - loss: 0.0688 - acc: 0.9720 - val_loss: 0.0504 - val_acc: 0.9780\n",
      "Epoch 8/20\n",
      "131/131 [==============================] - 774s 6s/step - loss: 0.0753 - acc: 0.9715 - val_loss: 0.1977 - val_acc: 0.9195\n",
      "Epoch 9/20\n",
      "131/131 [==============================] - 1166s 9s/step - loss: 0.0634 - acc: 0.9772 - val_loss: 0.0482 - val_acc: 0.9799\n",
      "Epoch 10/20\n",
      "131/131 [==============================] - 1006s 8s/step - loss: 0.0591 - acc: 0.9801 - val_loss: 0.0701 - val_acc: 0.9761\n",
      "Epoch 11/20\n",
      "131/131 [==============================] - 855s 7s/step - loss: 0.0539 - acc: 0.9791 - val_loss: 0.0656 - val_acc: 0.9799\n",
      "Epoch 12/20\n",
      "131/131 [==============================] - 838s 6s/step - loss: 0.0470 - acc: 0.9827 - val_loss: 0.0583 - val_acc: 0.9780\n",
      "Epoch 13/20\n",
      "131/131 [==============================] - 930s 7s/step - loss: 0.0456 - acc: 0.9811 - val_loss: 0.1106 - val_acc: 0.9674\n",
      "Epoch 14/20\n",
      "131/131 [==============================] - 948s 7s/step - loss: 0.0425 - acc: 0.9851 - val_loss: 0.0573 - val_acc: 0.9789\n"
     ]
    }
   ],
   "source": [
    "results_5 = model_5.fit(train_images,\n",
    "                   train_labels,\n",
    "                   epochs=20,\n",
    "                   batch_size=32,\n",
    "                   validation_split=.2,\n",
    "                   class_weight=weights_dict,\n",
    "                   callbacks=[early_stopping])"
   ]
  },
  {
   "cell_type": "code",
   "execution_count": 76,
   "metadata": {},
   "outputs": [
    {
     "data": {
      "image/png": "[encoded data removed]",
      "text/plain": [
       "<Figure size 432x288 with 1 Axes>"
      ]
     },
     "metadata": {
      "needs_background": "light"
     },
     "output_type": "display_data"
    },
    {
     "data": {
      "image/png": "[encoded data removed]",
      "text/plain": [
       "<Figure size 432x288 with 1 Axes>"
      ]
     },
     "metadata": {
      "needs_background": "light"
     },
     "output_type": "display_data"
    },
    {
     "data": {
      "image/png": "[encoded data removed]",
      "text/plain": [
       "<Figure size 432x288 with 2 Axes>"
      ]
     },
     "metadata": {
      "needs_background": "light"
     },
     "output_type": "display_data"
    },
    {
     "name": "stdout",
     "output_type": "stream",
     "text": [
      "\n",
      "\n",
      "              precision    recall  f1-score   support\n",
      "\n",
      "           0       0.27      0.60      0.37       234\n",
      "           1       0.02      0.01      0.01       390\n",
      "\n",
      "    accuracy                           0.23       624\n",
      "   macro avg       0.14      0.30      0.19       624\n",
      "weighted avg       0.11      0.23      0.14       624\n",
      "\n",
      "\n",
      "\n",
      "20/20 [==============================] - 90s 4s/step - loss: 1.2089 - acc: 0.7724\n",
      "Test Loss: 1.2089447975158691\n",
      "Test Acc: 0.7724359035491943\n"
     ]
    }
   ],
   "source": [
    "eval_results(results_5)"
   ]
  }
 ],
 "metadata": {
  "kernelspec": {
   "display_name": "learn-env",
   "language": "python",
   "name": "learn-env"
  },
  "language_info": {
   "codemirror_mode": {
    "name": "ipython",
    "version": 3
   },
   "file_extension": ".py",
   "mimetype": "text/x-python",
   "name": "python",
   "nbconvert_exporter": "python",
   "pygments_lexer": "ipython3",
   "version": "3.6.9"
  },
  "toc": {
   "base_numbering": 1,
   "nav_menu": {},
   "number_sections": false,
   "sideBar": true,
   "skip_h1_title": false,
   "title_cell": "Table of Contents",
   "title_sidebar": "Contents",
   "toc_cell": false,
   "toc_position": {},
   "toc_section_display": true,
   "toc_window_display": false
  },
  "varInspector": {
   "cols": {
    "lenName": 16,
    "lenType": 16,
    "lenVar": 40
   },
   "kernels_config": {
    "python": {
     "delete_cmd_postfix": "",
     "delete_cmd_prefix": "del ",
     "library": "var_list.py",
     "varRefreshCmd": "print(var_dic_list())"
    },
    "r": {
     "delete_cmd_postfix": ") ",
     "delete_cmd_prefix": "rm(",
     "library": "var_list.r",
     "varRefreshCmd": "cat(var_dic_list()) "
    }
   },
   "types_to_exclude": [
    "module",
    "function",
    "builtin_function_or_method",
    "instance",
    "_Feature"
   ],
   "window_display": false
  }
 },
 "nbformat": 4,
 "nbformat_minor": 4
}
