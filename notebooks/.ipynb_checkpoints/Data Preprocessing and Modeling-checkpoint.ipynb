{
 "cells": [
  {
   "cell_type": "markdown",
   "metadata": {},
   "source": [
    "# Data Preprocessing and Modeling"
   ]
  },
  {
   "cell_type": "code",
   "execution_count": 1,
   "metadata": {},
   "outputs": [],
   "source": [
    "# Import necessary libraries\n",
    "import pandas as pd\n",
    "import numpy as np\n",
    "import matplotlib.pyplot as plt\n",
    "%matplotlib inline\n",
    "\n",
    "import warnings\n",
    "warnings.filterwarnings('ignore')\n",
    "\n",
    "from sklearn.model_selection import train_test_split\n",
    "from sklearn.metrics import mean_squared_error\n",
    "from sklearn.model_selection import cross_val_predict\n",
    "from sklearn.metrics import classification_report\n",
    "from sklearn.metrics import confusion_matrix\n",
    "\n",
    "import itertools\n",
    "\n",
    "import keras\n",
    "from keras import layers\n",
    "from keras.models import Sequential\n",
    "from keras.layers import Dense\n",
    "\n",
    "from keras.preprocessing.image import ImageDataGenerator, array_to_img, img_to_array, load_img\n",
    "from keras import regularizers\n",
    "from keras.wrappers.scikit_learn import KerasRegressor\n",
    "from keras.layers import Convolution2D\n",
    "from keras.layers import MaxPooling2D\n",
    "from keras.layers import Flatten\n",
    "from keras.layers import Dense\n",
    "from keras.callbacks import EarlyStopping, ModelCheckpoint\n",
    "from keras import regularizers\n",
    "\n",
    "from keras.applications.vgg16 import preprocess_input\n",
    "from keras.applications.vgg16 import VGG16\n",
    "from keras.optimizers import Adam, Adadelta, Adagrad, SGD, RMSprop\n",
    "\n",
    "import os"
   ]
  },
  {
   "cell_type": "markdown",
   "metadata": {},
   "source": [
    "***\n",
    "## Preprocessing"
   ]
  },
  {
   "cell_type": "markdown",
   "metadata": {},
   "source": [
    "### Create directory paths for image data"
   ]
  },
  {
   "cell_type": "code",
   "execution_count": 2,
   "metadata": {},
   "outputs": [],
   "source": [
    "data_train_dir = '../chest_xray/train/'\n",
    "data_test_dir = '../chest_xray/test/'\n",
    "data_val_dir = '../chest_xray/val/'"
   ]
  },
  {
   "cell_type": "code",
   "execution_count": 3,
   "metadata": {},
   "outputs": [
    {
     "name": "stdout",
     "output_type": "stream",
     "text": [
      "Found 5216 images belonging to 2 classes.\n"
     ]
    }
   ],
   "source": [
    "# Getting data from directory and reshaping it\n",
    "train_generator = ImageDataGenerator(rescale = 1./255 ).flow_from_directory(data_train_dir, target_size=(64,64), batch_size=5216)"
   ]
  },
  {
   "cell_type": "code",
   "execution_count": 4,
   "metadata": {},
   "outputs": [
    {
     "name": "stdout",
     "output_type": "stream",
     "text": [
      "Found 624 images belonging to 2 classes.\n"
     ]
    }
   ],
   "source": [
    "# Getting data from directory and reshaping it\n",
    "test_generator = ImageDataGenerator(rescale = 1./255 ).flow_from_directory(data_test_dir, target_size=(64,64), batch_size=624)"
   ]
  },
  {
   "cell_type": "code",
   "execution_count": 5,
   "metadata": {},
   "outputs": [
    {
     "name": "stdout",
     "output_type": "stream",
     "text": [
      "Found 16 images belonging to 2 classes.\n"
     ]
    }
   ],
   "source": [
    "# Getting data from directory and reshaping it\n",
    "val_generator = ImageDataGenerator(rescale = 1./255 ).flow_from_directory(data_val_dir, target_size=(64,64), batch_size=16)"
   ]
  },
  {
   "cell_type": "markdown",
   "metadata": {},
   "source": [
    "### Review Class Indices"
   ]
  },
  {
   "cell_type": "code",
   "execution_count": 6,
   "metadata": {},
   "outputs": [
    {
     "data": {
      "text/plain": [
       "{'NORMAL': 0, 'PNEUMONIA': 1}"
      ]
     },
     "execution_count": 6,
     "metadata": {},
     "output_type": "execute_result"
    }
   ],
   "source": [
    "train_generator.class_indices"
   ]
  },
  {
   "cell_type": "code",
   "execution_count": 7,
   "metadata": {},
   "outputs": [
    {
     "data": {
      "text/plain": [
       "{'NORMAL': 0, 'PNEUMONIA': 1}"
      ]
     },
     "execution_count": 7,
     "metadata": {},
     "output_type": "execute_result"
    }
   ],
   "source": [
    "test_generator.class_indices"
   ]
  },
  {
   "cell_type": "code",
   "execution_count": 8,
   "metadata": {},
   "outputs": [
    {
     "data": {
      "text/plain": [
       "{'NORMAL': 0, 'PNEUMONIA': 1}"
      ]
     },
     "execution_count": 8,
     "metadata": {},
     "output_type": "execute_result"
    }
   ],
   "source": [
    "val_generator.class_indices"
   ]
  },
  {
   "cell_type": "markdown",
   "metadata": {},
   "source": [
    "### Create datasets"
   ]
  },
  {
   "cell_type": "code",
   "execution_count": 9,
   "metadata": {},
   "outputs": [],
   "source": [
    "train_images, train_labels = next(train_generator)"
   ]
  },
  {
   "cell_type": "code",
   "execution_count": 10,
   "metadata": {},
   "outputs": [],
   "source": [
    "test_images, test_labels = next(test_generator)"
   ]
  },
  {
   "cell_type": "code",
   "execution_count": 11,
   "metadata": {},
   "outputs": [],
   "source": [
    "val_images, val_labels = next(val_generator)"
   ]
  },
  {
   "cell_type": "markdown",
   "metadata": {},
   "source": [
    "### Preview some images"
   ]
  },
  {
   "cell_type": "code",
   "execution_count": 12,
   "metadata": {},
   "outputs": [
    {
     "data": {
      "image/png": "[encoded data removed]",
      "text/plain": [
       "<PIL.Image.Image image mode=RGB size=64x64 at 0x108785D30>"
      ]
     },
     "execution_count": 12,
     "metadata": {},
     "output_type": "execute_result"
    }
   ],
   "source": [
    "# Checking to see if images were properly uploaded\n",
    "array_to_img(train_images[0])"
   ]
  },
  {
   "cell_type": "code",
   "execution_count": 13,
   "metadata": {},
   "outputs": [
    {
     "data": {
      "image/png": "[encoded data removed]",
      "text/plain": [
       "<PIL.Image.Image image mode=RGB size=64x64 at 0x14AA2F3C8>"
      ]
     },
     "execution_count": 13,
     "metadata": {},
     "output_type": "execute_result"
    }
   ],
   "source": [
    "array_to_img(test_images[0])"
   ]
  },
  {
   "cell_type": "code",
   "execution_count": 14,
   "metadata": {},
   "outputs": [
    {
     "data": {
      "image/png": "[encoded data removed]",
      "text/plain": [
       "<PIL.Image.Image image mode=RGB size=64x64 at 0x14AA2F390>"
      ]
     },
     "execution_count": 14,
     "metadata": {},
     "output_type": "execute_result"
    }
   ],
   "source": [
    "array_to_img(val_images[0])"
   ]
  },
  {
   "cell_type": "markdown",
   "metadata": {},
   "source": [
    "### Preview shape of data"
   ]
  },
  {
   "cell_type": "code",
   "execution_count": 15,
   "metadata": {},
   "outputs": [
    {
     "name": "stdout",
     "output_type": "stream",
     "text": [
      "Train Images Shape: (5216, 64, 64, 3)\n",
      "Train Labels Shape: (5216, 2)\n",
      "Test Images Shape: (624, 64, 64, 3)\n",
      "Test Labels Shape: (624, 2)\n",
      "Validation Images Shape: (16, 64, 64, 3)\n",
      "Validation Labels Shape: (16, 2)\n"
     ]
    }
   ],
   "source": [
    "print('Train Images Shape:', np.shape(train_images))\n",
    "print('Train Labels Shape:', np.shape(train_labels))\n",
    "print('Test Images Shape:' , np.shape(test_images))\n",
    "print('Test Labels Shape:' , np.shape(test_labels))\n",
    "print('Validation Images Shape:', np.shape(val_images))\n",
    "print('Validation Labels Shape:', np.shape(val_labels))"
   ]
  },
  {
   "cell_type": "markdown",
   "metadata": {},
   "source": [
    "### Transform Image and Label Matrices"
   ]
  },
  {
   "cell_type": "code",
   "execution_count": 16,
   "metadata": {},
   "outputs": [
    {
     "data": {
      "text/plain": [
       "(5216, 1)"
      ]
     },
     "execution_count": 16,
     "metadata": {},
     "output_type": "execute_result"
    }
   ],
   "source": [
    "train_y = np.reshape(train_labels[:,0], (5216,1))\n",
    "train_y.shape"
   ]
  },
  {
   "cell_type": "code",
   "execution_count": 17,
   "metadata": {},
   "outputs": [
    {
     "data": {
      "text/plain": [
       "(624, 1)"
      ]
     },
     "execution_count": 17,
     "metadata": {},
     "output_type": "execute_result"
    }
   ],
   "source": [
    "test_y = np.reshape(test_labels[:,0], (624,1))\n",
    "test_y.shape"
   ]
  },
  {
   "cell_type": "code",
   "execution_count": 18,
   "metadata": {
    "scrolled": true
   },
   "outputs": [
    {
     "data": {
      "text/plain": [
       "(16, 1)"
      ]
     },
     "execution_count": 18,
     "metadata": {},
     "output_type": "execute_result"
    }
   ],
   "source": [
    "val_y = np.reshape(val_labels[:,0], (16,1))\n",
    "val_y.shape"
   ]
  },
  {
   "cell_type": "code",
   "execution_count": 19,
   "metadata": {},
   "outputs": [],
   "source": [
    "train_img = train_images.reshape(train_images.shape[0], -1)\n",
    "test_img = test_images.reshape(test_images.shape[0], -1)\n",
    "val_img = val_images.reshape(val_images.shape[0], -1)"
   ]
  },
  {
   "cell_type": "code",
   "execution_count": 20,
   "metadata": {},
   "outputs": [
    {
     "data": {
      "text/plain": [
       "(5216, 12288)"
      ]
     },
     "execution_count": 20,
     "metadata": {},
     "output_type": "execute_result"
    }
   ],
   "source": [
    "train_img.shape"
   ]
  },
  {
   "cell_type": "code",
   "execution_count": 21,
   "metadata": {},
   "outputs": [
    {
     "data": {
      "text/plain": [
       "(624, 12288)"
      ]
     },
     "execution_count": 21,
     "metadata": {},
     "output_type": "execute_result"
    }
   ],
   "source": [
    "test_img.shape"
   ]
  },
  {
   "cell_type": "code",
   "execution_count": 22,
   "metadata": {},
   "outputs": [
    {
     "data": {
      "text/plain": [
       "(16, 12288)"
      ]
     },
     "execution_count": 22,
     "metadata": {},
     "output_type": "execute_result"
    }
   ],
   "source": [
    "val_img.shape"
   ]
  },
  {
   "cell_type": "markdown",
   "metadata": {},
   "source": [
    "***\n",
    "## Modeling"
   ]
  },
  {
   "cell_type": "markdown",
   "metadata": {},
   "source": [
    "### Build a baseline fully connected model"
   ]
  },
  {
   "cell_type": "code",
   "execution_count": 23,
   "metadata": {},
   "outputs": [],
   "source": [
    "from keras import models\n",
    "np.random.seed(123)\n",
    "baseline_model = models.Sequential()\n",
    "baseline_model.add(layers.Dense(20, activation='relu', input_shape=(12288,))) # 2 hidden layers\n",
    "baseline_model.add(layers.Dense(7, activation='relu'))\n",
    "baseline_model.add(layers.Dense(5, activation='relu'))\n",
    "baseline_model.add(layers.Dense(1, activation='sigmoid'))"
   ]
  },
  {
   "cell_type": "code",
   "execution_count": 24,
   "metadata": {},
   "outputs": [
    {
     "name": "stdout",
     "output_type": "stream",
     "text": [
      "Epoch 1/50\n",
      "163/163 [==============================] - 1s 8ms/step - loss: 0.5745 - accuracy: 0.7327 - val_loss: 0.7151 - val_accuracy: 0.5000\n",
      "Epoch 2/50\n",
      "163/163 [==============================] - 1s 5ms/step - loss: 0.4134 - accuracy: 0.7983 - val_loss: 0.4860 - val_accuracy: 0.7500\n",
      "Epoch 3/50\n",
      "163/163 [==============================] - 1s 5ms/step - loss: 0.2801 - accuracy: 0.8888 - val_loss: 0.7667 - val_accuracy: 0.6875\n",
      "Epoch 4/50\n",
      "163/163 [==============================] - 1s 5ms/step - loss: 0.2508 - accuracy: 0.8955 - val_loss: 0.7196 - val_accuracy: 0.6875\n",
      "Epoch 5/50\n",
      "163/163 [==============================] - 1s 4ms/step - loss: 0.2235 - accuracy: 0.9109 - val_loss: 0.5491 - val_accuracy: 0.8125\n",
      "Epoch 6/50\n",
      "163/163 [==============================] - 1s 4ms/step - loss: 0.1779 - accuracy: 0.9293 - val_loss: 0.2828 - val_accuracy: 0.8750\n",
      "Epoch 7/50\n",
      "163/163 [==============================] - 1s 4ms/step - loss: 0.1823 - accuracy: 0.9302 - val_loss: 0.5669 - val_accuracy: 0.7500\n",
      "Epoch 8/50\n",
      "163/163 [==============================] - 1s 5ms/step - loss: 0.1516 - accuracy: 0.9419 - val_loss: 0.3850 - val_accuracy: 0.8125\n",
      "Epoch 9/50\n",
      "163/163 [==============================] - 1s 5ms/step - loss: 0.1603 - accuracy: 0.9369 - val_loss: 0.2429 - val_accuracy: 0.9375\n",
      "Epoch 10/50\n",
      "163/163 [==============================] - 1s 5ms/step - loss: 0.1521 - accuracy: 0.9392 - val_loss: 0.9803 - val_accuracy: 0.6250\n",
      "Epoch 11/50\n",
      "163/163 [==============================] - 1s 5ms/step - loss: 0.1432 - accuracy: 0.9456 - val_loss: 0.4591 - val_accuracy: 0.8125\n",
      "Epoch 12/50\n",
      "163/163 [==============================] - 1s 5ms/step - loss: 0.1385 - accuracy: 0.9469 - val_loss: 0.3001 - val_accuracy: 0.9375\n",
      "Epoch 13/50\n",
      "163/163 [==============================] - 1s 5ms/step - loss: 0.1406 - accuracy: 0.9503 - val_loss: 0.4284 - val_accuracy: 0.8125\n",
      "Epoch 14/50\n",
      "163/163 [==============================] - 1s 5ms/step - loss: 0.1326 - accuracy: 0.9477 - val_loss: 0.4839 - val_accuracy: 0.8125\n",
      "Epoch 15/50\n",
      "163/163 [==============================] - 1s 5ms/step - loss: 0.1311 - accuracy: 0.9486 - val_loss: 0.4260 - val_accuracy: 0.8125\n",
      "Epoch 16/50\n",
      "163/163 [==============================] - 1s 4ms/step - loss: 0.1292 - accuracy: 0.9526 - val_loss: 0.4673 - val_accuracy: 0.8125\n",
      "Epoch 17/50\n",
      "163/163 [==============================] - 1s 5ms/step - loss: 0.1234 - accuracy: 0.9511 - val_loss: 0.4798 - val_accuracy: 0.8125\n",
      "Epoch 18/50\n",
      "163/163 [==============================] - 1s 5ms/step - loss: 0.1303 - accuracy: 0.9488 - val_loss: 0.2483 - val_accuracy: 0.9375\n",
      "Epoch 19/50\n",
      "163/163 [==============================] - 1s 5ms/step - loss: 0.1300 - accuracy: 0.9534 - val_loss: 0.3164 - val_accuracy: 0.8750\n",
      "Epoch 20/50\n",
      "163/163 [==============================] - 1s 5ms/step - loss: 0.1155 - accuracy: 0.9571 - val_loss: 0.2291 - val_accuracy: 0.9375\n",
      "Epoch 21/50\n",
      "163/163 [==============================] - 1s 5ms/step - loss: 0.1141 - accuracy: 0.9594 - val_loss: 0.1939 - val_accuracy: 0.9375\n",
      "Epoch 22/50\n",
      "163/163 [==============================] - 1s 5ms/step - loss: 0.1255 - accuracy: 0.9488 - val_loss: 0.3314 - val_accuracy: 0.8750\n",
      "Epoch 23/50\n",
      "163/163 [==============================] - 1s 5ms/step - loss: 0.1130 - accuracy: 0.9590 - val_loss: 0.2584 - val_accuracy: 0.9375\n",
      "Epoch 24/50\n",
      "163/163 [==============================] - 1s 5ms/step - loss: 0.1139 - accuracy: 0.9559 - val_loss: 0.3193 - val_accuracy: 0.8750\n",
      "Epoch 25/50\n",
      "163/163 [==============================] - 1s 5ms/step - loss: 0.1128 - accuracy: 0.9548 - val_loss: 0.3190 - val_accuracy: 0.9375\n",
      "Epoch 26/50\n",
      "163/163 [==============================] - 1s 5ms/step - loss: 0.1116 - accuracy: 0.9559 - val_loss: 0.2414 - val_accuracy: 0.9375\n",
      "Epoch 27/50\n",
      "163/163 [==============================] - 1s 5ms/step - loss: 0.1128 - accuracy: 0.9582 - val_loss: 0.3013 - val_accuracy: 0.8750\n",
      "Epoch 28/50\n",
      "163/163 [==============================] - 1s 5ms/step - loss: 0.1099 - accuracy: 0.9561 - val_loss: 0.2770 - val_accuracy: 0.9375\n",
      "Epoch 29/50\n",
      "163/163 [==============================] - 1s 5ms/step - loss: 0.1034 - accuracy: 0.9597 - val_loss: 0.2849 - val_accuracy: 0.9375\n",
      "Epoch 30/50\n",
      "163/163 [==============================] - 1s 5ms/step - loss: 0.1006 - accuracy: 0.9620 - val_loss: 0.2945 - val_accuracy: 0.9375\n",
      "Epoch 31/50\n",
      "163/163 [==============================] - 1s 5ms/step - loss: 0.1183 - accuracy: 0.9534 - val_loss: 0.3736 - val_accuracy: 0.8125\n",
      "Epoch 32/50\n",
      "163/163 [==============================] - 1s 5ms/step - loss: 0.1090 - accuracy: 0.9576 - val_loss: 0.4611 - val_accuracy: 0.8125\n",
      "Epoch 33/50\n",
      "163/163 [==============================] - 1s 4ms/step - loss: 0.1011 - accuracy: 0.9624 - val_loss: 0.3669 - val_accuracy: 0.8125\n",
      "Epoch 34/50\n",
      "163/163 [==============================] - 1s 5ms/step - loss: 0.0988 - accuracy: 0.9607 - val_loss: 0.1905 - val_accuracy: 0.9375\n",
      "Epoch 35/50\n",
      "163/163 [==============================] - 1s 5ms/step - loss: 0.0945 - accuracy: 0.9643 - val_loss: 0.5563 - val_accuracy: 0.8125\n",
      "Epoch 36/50\n",
      "163/163 [==============================] - 1s 5ms/step - loss: 0.0998 - accuracy: 0.9630 - val_loss: 0.3072 - val_accuracy: 0.8750\n",
      "Epoch 37/50\n",
      "163/163 [==============================] - 1s 5ms/step - loss: 0.0925 - accuracy: 0.9618 - val_loss: 0.3432 - val_accuracy: 0.8125\n",
      "Epoch 38/50\n",
      "163/163 [==============================] - 1s 5ms/step - loss: 0.0968 - accuracy: 0.9628 - val_loss: 0.5867 - val_accuracy: 0.7500\n",
      "Epoch 39/50\n",
      "163/163 [==============================] - 1s 4ms/step - loss: 0.1028 - accuracy: 0.9605 - val_loss: 0.1698 - val_accuracy: 0.9375\n",
      "Epoch 40/50\n",
      "163/163 [==============================] - 1s 4ms/step - loss: 0.0926 - accuracy: 0.9666 - val_loss: 0.1694 - val_accuracy: 0.9375\n",
      "Epoch 41/50\n",
      "163/163 [==============================] - 1s 5ms/step - loss: 0.0959 - accuracy: 0.9651 - val_loss: 0.1639 - val_accuracy: 0.9375\n",
      "Epoch 42/50\n",
      "163/163 [==============================] - 1s 4ms/step - loss: 0.0933 - accuracy: 0.9636 - val_loss: 0.2534 - val_accuracy: 0.9375\n",
      "Epoch 43/50\n",
      "163/163 [==============================] - 1s 4ms/step - loss: 0.0908 - accuracy: 0.9674 - val_loss: 0.2423 - val_accuracy: 0.9375\n",
      "Epoch 44/50\n",
      "163/163 [==============================] - 1s 4ms/step - loss: 0.0919 - accuracy: 0.9653 - val_loss: 0.2871 - val_accuracy: 0.9375\n",
      "Epoch 45/50\n",
      "163/163 [==============================] - 1s 4ms/step - loss: 0.0861 - accuracy: 0.9676 - val_loss: 0.1893 - val_accuracy: 0.9375\n",
      "Epoch 46/50\n",
      "163/163 [==============================] - 1s 5ms/step - loss: 0.0939 - accuracy: 0.9649 - val_loss: 0.3809 - val_accuracy: 0.8125\n",
      "Epoch 47/50\n",
      "163/163 [==============================] - 1s 4ms/step - loss: 0.0916 - accuracy: 0.9691 - val_loss: 0.5164 - val_accuracy: 0.8125\n",
      "Epoch 48/50\n",
      "163/163 [==============================] - 1s 4ms/step - loss: 0.0885 - accuracy: 0.9641 - val_loss: 0.3935 - val_accuracy: 0.8125\n",
      "Epoch 49/50\n",
      "163/163 [==============================] - 1s 4ms/step - loss: 0.0894 - accuracy: 0.9661 - val_loss: 0.2320 - val_accuracy: 0.9375\n",
      "Epoch 50/50\n",
      "163/163 [==============================] - 1s 5ms/step - loss: 0.0847 - accuracy: 0.9695 - val_loss: 0.2848 - val_accuracy: 0.8125\n"
     ]
    }
   ],
   "source": [
    "baseline_model.compile(optimizer='sgd',\n",
    "              loss='binary_crossentropy',\n",
    "              metrics=['accuracy'])\n",
    "\n",
    "history_1 = baseline_model.fit(train_img,\n",
    "                    train_y,\n",
    "                    epochs=50,\n",
    "                    batch_size=32,\n",
    "                    validation_data=(val_img, val_y))"
   ]
  },
  {
   "cell_type": "code",
   "execution_count": 25,
   "metadata": {},
   "outputs": [
    {
     "name": "stdout",
     "output_type": "stream",
     "text": [
      "163/163 [==============================] - 1s 3ms/step - loss: 0.0679 - accuracy: 0.9762\n"
     ]
    }
   ],
   "source": [
    "base_train_results = baseline_model.evaluate(train_img, train_y)"
   ]
  },
  {
   "cell_type": "code",
   "execution_count": 26,
   "metadata": {},
   "outputs": [
    {
     "name": "stdout",
     "output_type": "stream",
     "text": [
      "20/20 [==============================] - 0s 2ms/step - loss: 0.9489 - accuracy: 0.7612\n"
     ]
    }
   ],
   "source": [
    "base_test_results = baseline_model.evaluate(test_img, test_y)"
   ]
  },
  {
   "cell_type": "code",
   "execution_count": 27,
   "metadata": {},
   "outputs": [
    {
     "data": {
      "text/plain": [
       "[0.06787288188934326, 0.9762269854545593]"
      ]
     },
     "execution_count": 27,
     "metadata": {},
     "output_type": "execute_result"
    }
   ],
   "source": [
    "base_train_results"
   ]
  },
  {
   "cell_type": "code",
   "execution_count": 28,
   "metadata": {},
   "outputs": [
    {
     "data": {
      "text/plain": [
       "[0.948885977268219, 0.7612179517745972]"
      ]
     },
     "execution_count": 28,
     "metadata": {},
     "output_type": "execute_result"
    }
   ],
   "source": [
    "base_test_results"
   ]
  },
  {
   "cell_type": "markdown",
   "metadata": {},
   "source": [
    "So baseline is looking pretty good. The test loss and accuracy is off which worries me, but this is just the baseline so lets see how we can improve this."
   ]
  },
  {
   "cell_type": "markdown",
   "metadata": {},
   "source": [
    "### Model 1: Use CNN with regular settings, no regularization or normalization"
   ]
  },
  {
   "cell_type": "code",
   "execution_count": 29,
   "metadata": {},
   "outputs": [],
   "source": [
    "model_1 = models.Sequential()\n",
    "model_1.add(layers.Conv2D(32, (3, 3), activation='relu',\n",
    "                        input_shape=(64 ,64,  3)))\n",
    "model_1.add(layers.MaxPooling2D((2, 2)))\n",
    "\n",
    "model_1.add(layers.Conv2D(32, (4, 4), activation='relu'))\n",
    "model_1.add(layers.MaxPooling2D((2, 2)))\n",
    "\n",
    "model_1.add(layers.Conv2D(64, (3, 3), activation='relu'))\n",
    "model_1.add(layers.MaxPooling2D((2, 2)))\n",
    "\n",
    "model_1.add(layers.Flatten())\n",
    "model_1.add(layers.Dense(64, activation='relu'))\n",
    "model_1.add(layers.Dense(1, activation='sigmoid'))"
   ]
  },
  {
   "cell_type": "code",
   "execution_count": 30,
   "metadata": {},
   "outputs": [],
   "source": [
    "# Compile model\n",
    "model_1.compile(optimizer='sgd',\n",
    "              loss='binary_crossentropy',\n",
    "              metrics=['accuracy'])"
   ]
  },
  {
   "cell_type": "code",
   "execution_count": 31,
   "metadata": {},
   "outputs": [],
   "source": [
    "# Use EarlyStopping to stop model after the validation loss ceases to improve\n",
    "early_stop = [EarlyStopping(monitor='val_loss', patience=10), \n",
    "                  ModelCheckpoint(filepath='best_model.h5', monitor='val_loss', save_best_only=True)]"
   ]
  },
  {
   "cell_type": "code",
   "execution_count": 32,
   "metadata": {},
   "outputs": [
    {
     "name": "stdout",
     "output_type": "stream",
     "text": [
      "Epoch 1/150\n",
      "11/11 [==============================] - 21s 2s/step - loss: 0.6459 - accuracy: 0.7429 - val_loss: 0.7247 - val_accuracy: 0.5000\n",
      "Epoch 2/150\n",
      "11/11 [==============================] - 20s 2s/step - loss: 0.5940 - accuracy: 0.7429 - val_loss: 0.7810 - val_accuracy: 0.5000\n",
      "Epoch 3/150\n",
      "11/11 [==============================] - 20s 2s/step - loss: 0.5780 - accuracy: 0.7429 - val_loss: 0.8158 - val_accuracy: 0.5000\n",
      "Epoch 4/150\n",
      "11/11 [==============================] - 20s 2s/step - loss: 0.5749 - accuracy: 0.7429 - val_loss: 0.8357 - val_accuracy: 0.5000\n",
      "Epoch 5/150\n",
      "11/11 [==============================] - 19s 2s/step - loss: 0.5732 - accuracy: 0.7429 - val_loss: 0.8302 - val_accuracy: 0.5000\n",
      "Epoch 6/150\n",
      "11/11 [==============================] - 19s 2s/step - loss: 0.5716 - accuracy: 0.7429 - val_loss: 0.8148 - val_accuracy: 0.5000\n",
      "Epoch 7/150\n",
      "11/11 [==============================] - 19s 2s/step - loss: 0.5703 - accuracy: 0.7429 - val_loss: 0.8260 - val_accuracy: 0.5000\n",
      "Epoch 8/150\n",
      "11/11 [==============================] - 19s 2s/step - loss: 0.5690 - accuracy: 0.7429 - val_loss: 0.8213 - val_accuracy: 0.5000\n",
      "Epoch 9/150\n",
      "11/11 [==============================] - 19s 2s/step - loss: 0.5669 - accuracy: 0.7429 - val_loss: 0.8246 - val_accuracy: 0.5000\n",
      "Epoch 10/150\n",
      "11/11 [==============================] - 18s 2s/step - loss: 0.5648 - accuracy: 0.7429 - val_loss: 0.8255 - val_accuracy: 0.5000\n",
      "Epoch 11/150\n",
      "11/11 [==============================] - 19s 2s/step - loss: 0.5630 - accuracy: 0.7429 - val_loss: 0.8067 - val_accuracy: 0.5000\n"
     ]
    }
   ],
   "source": [
    "results_1 = model_1.fit(train_images,\n",
    "                    train_y,\n",
    "                    epochs=150,\n",
    "                    callbacks=early_stop,\n",
    "                    batch_size=500,\n",
    "                    validation_data=(val_images, val_y))"
   ]
  },
  {
   "cell_type": "markdown",
   "metadata": {},
   "source": [
    "### Evaluate Models"
   ]
  },
  {
   "cell_type": "code",
   "execution_count": 33,
   "metadata": {},
   "outputs": [
    {
     "name": "stdout",
     "output_type": "stream",
     "text": [
      "163/163 [==============================] - 6s 34ms/step - loss: 0.5619 - accuracy: 0.7429\n"
     ]
    },
    {
     "data": {
      "text/plain": [
       "[0.5618526935577393, 0.7429064512252808]"
      ]
     },
     "execution_count": 33,
     "metadata": {},
     "output_type": "execute_result"
    }
   ],
   "source": [
    "mod1_results_train = model_1.evaluate(train_images, train_y)\n",
    "mod1_results_train"
   ]
  },
  {
   "cell_type": "code",
   "execution_count": 34,
   "metadata": {},
   "outputs": [
    {
     "name": "stdout",
     "output_type": "stream",
     "text": [
      "20/20 [==============================] - 1s 33ms/step - loss: 0.6797 - accuracy: 0.6250\n"
     ]
    },
    {
     "data": {
      "text/plain": [
       "[0.679725170135498, 0.625]"
      ]
     },
     "execution_count": 34,
     "metadata": {},
     "output_type": "execute_result"
    }
   ],
   "source": [
    "mod1_results_test = model_1.evaluate(test_images, test_y)\n",
    "mod1_results_test"
   ]
  },
  {
   "cell_type": "markdown",
   "metadata": {},
   "source": [
    "### Create Function to plot Loss and Accuracy of Model"
   ]
  },
  {
   "cell_type": "code",
   "execution_count": 35,
   "metadata": {},
   "outputs": [],
   "source": [
    "def visualize_training_results(results):\n",
    "    history = results.history\n",
    "    plt.figure()\n",
    "    plt.plot(history['val_loss'])\n",
    "    plt.plot(history['loss'])\n",
    "    plt.legend(['val_loss', 'loss'])\n",
    "    plt.title('Loss')\n",
    "    plt.xlabel('Epochs')\n",
    "    plt.ylabel('Loss')\n",
    "    plt.show()\n",
    "    \n",
    "    plt.figure()\n",
    "    plt.plot(history['val_accuracy'])\n",
    "    plt.plot(history['accuracy'])\n",
    "    plt.legend(['val_acc', 'accuracy'])\n",
    "    plt.title('Accuracy')\n",
    "    plt.xlabel('Epochs')\n",
    "    plt.ylabel('Accuracy')\n",
    "    plt.show()"
   ]
  },
  {
   "cell_type": "code",
   "execution_count": 36,
   "metadata": {},
   "outputs": [
    {
     "data": {
      "image/png": "[encoded data removed]",
      "text/plain": [
       "<Figure size 432x288 with 1 Axes>"
      ]
     },
     "metadata": {
      "needs_background": "light"
     },
     "output_type": "display_data"
    },
    {
     "data": {
      "image/png": "[encoded data removed]",
      "text/plain": [
       "<Figure size 432x288 with 1 Axes>"
      ]
     },
     "metadata": {
      "needs_background": "light"
     },
     "output_type": "display_data"
    }
   ],
   "source": [
    "visualize_training_results(results_1)"
   ]
  },
  {
   "cell_type": "markdown",
   "metadata": {},
   "source": [
    "### Confusion Matrix, Classification Report"
   ]
  },
  {
   "cell_type": "code",
   "execution_count": 37,
   "metadata": {},
   "outputs": [],
   "source": [
    "# Create a function to plot confusion matrices\n",
    "def plot_confusion_matrix(labels, preds):\n",
    "    cnf_matrix = confusion_matrix(labels, preds)\n",
    "    plt.imshow(cnf_matrix,  cmap=plt.cm.Blues) \n",
    "    plt.title('Confusion Matrix')\n",
    "    plt.ylabel('True label')\n",
    "    plt.xlabel('Predicted label')\n",
    "    y = train_generator.class_indices\n",
    "    class_names = set(y) \n",
    "    tick_marks = np.arange(len(class_names))\n",
    "    plt.xticks(tick_marks, class_names, rotation=45)\n",
    "    plt.yticks(tick_marks, class_names)\n",
    "    thresh = cnf_matrix.max() / 2. #\n",
    "    for i, j in itertools.product(range(cnf_matrix.shape[0]), range(cnf_matrix.shape[1])):\n",
    "            plt.text(j, i, cnf_matrix[i, j],\n",
    "                     horizontalalignment='center',\n",
    "                     color='white' if cnf_matrix[i, j] > thresh else 'black')\n",
    "    plt.colorbar()\n",
    "    plt.show()"
   ]
  },
  {
   "cell_type": "code",
   "execution_count": 38,
   "metadata": {},
   "outputs": [
    {
     "data": {
      "image/png": "[encoded data removed]",
      "text/plain": [
       "<PIL.Image.Image image mode=RGB size=64x64 at 0x14ABE5128>"
      ]
     },
     "execution_count": 38,
     "metadata": {},
     "output_type": "execute_result"
    }
   ],
   "source": [
    "# Use sample image to test model predictions\n",
    "sample_image = array_to_img(train_images[100])\n",
    "sample_image"
   ]
  },
  {
   "cell_type": "code",
   "execution_count": 39,
   "metadata": {},
   "outputs": [],
   "source": [
    "pred_1 = model_1.predict(val_images)"
   ]
  },
  {
   "cell_type": "code",
   "execution_count": 40,
   "metadata": {},
   "outputs": [
    {
     "name": "stdout",
     "output_type": "stream",
     "text": [
      "              precision    recall  f1-score   support\n",
      "\n",
      "         0.0       0.50      1.00      0.67         8\n",
      "         1.0       0.00      0.00      0.00         8\n",
      "\n",
      "    accuracy                           0.50        16\n",
      "   macro avg       0.25      0.50      0.33        16\n",
      "weighted avg       0.25      0.50      0.33        16\n",
      "\n"
     ]
    }
   ],
   "source": [
    "# Classification report\n",
    "class_report_1 = classification_report(val_y, pred_1.round())\n",
    "print(class_report_1)"
   ]
  },
  {
   "cell_type": "code",
   "execution_count": 41,
   "metadata": {},
   "outputs": [
    {
     "data": {
      "image/png": "[encoded data removed]",
      "text/plain": [
       "<Figure size 432x288 with 2 Axes>"
      ]
     },
     "metadata": {
      "needs_background": "light"
     },
     "output_type": "display_data"
    }
   ],
   "source": [
    "plot_confusion_matrix(val_y, pred_1.round())"
   ]
  },
  {
   "cell_type": "code",
   "execution_count": 74,
   "metadata": {},
   "outputs": [
    {
     "name": "stdout",
     "output_type": "stream",
     "text": [
      "Model: \"sequential_1\"\n",
      "_________________________________________________________________\n",
      "Layer (type)                 Output Shape              Param #   \n",
      "=================================================================\n",
      "conv2d (Conv2D)              (None, 62, 62, 32)        896       \n",
      "_________________________________________________________________\n",
      "max_pooling2d (MaxPooling2D) (None, 31, 31, 32)        0         \n",
      "_________________________________________________________________\n",
      "conv2d_1 (Conv2D)            (None, 28, 28, 32)        16416     \n",
      "_________________________________________________________________\n",
      "max_pooling2d_1 (MaxPooling2 (None, 14, 14, 32)        0         \n",
      "_________________________________________________________________\n",
      "conv2d_2 (Conv2D)            (None, 12, 12, 64)        18496     \n",
      "_________________________________________________________________\n",
      "max_pooling2d_2 (MaxPooling2 (None, 6, 6, 64)          0         \n",
      "_________________________________________________________________\n",
      "flatten (Flatten)            (None, 2304)              0         \n",
      "_________________________________________________________________\n",
      "dense_4 (Dense)              (None, 64)                147520    \n",
      "_________________________________________________________________\n",
      "dense_5 (Dense)              (None, 1)                 65        \n",
      "=================================================================\n",
      "Total params: 183,393\n",
      "Trainable params: 183,393\n",
      "Non-trainable params: 0\n",
      "_________________________________________________________________\n"
     ]
    }
   ],
   "source": [
    "model_1.summary()"
   ]
  },
  {
   "cell_type": "markdown",
   "metadata": {},
   "source": [
    "## Model 2: Tuning and Optimizing "
   ]
  },
  {
   "cell_type": "code",
   "execution_count": 44,
   "metadata": {},
   "outputs": [],
   "source": [
    "# First create a dictionary of optimizers \n",
    "optimizers = {\"RMSprop\": {\"optimizer\": RMSprop(), \"color\":\"blue\"},\n",
    "                  \"adam_01\": {\"optimizer\": Adam(lr=0.01), \"color\":\"red\"},\n",
    "                  \"sgd\": {\"optimizer\": SGD(), \"color\":\"purple\"},\n",
    "                  \"adadelta\": {\"optimizer\": Adadelta(), \"color\":\"pink\"},\n",
    "                  \"adagrad\": {\"optimizer\": Adagrad(), \"color\":\"yellow\"}}"
   ]
  },
  {
   "cell_type": "code",
   "execution_count": 45,
   "metadata": {
    "scrolled": true
   },
   "outputs": [
    {
     "name": "stdout",
     "output_type": "stream",
     "text": [
      "Testing RMSprop\n",
      "Epoch 1/20\n",
      "11/11 [==============================] - 19s 2s/step - loss: 0.6839 - accuracy: 0.7301 - val_loss: 0.6916 - val_accuracy: 0.5000\n",
      "Epoch 2/20\n",
      "11/11 [==============================] - 18s 2s/step - loss: 0.5531 - accuracy: 0.7646 - val_loss: 0.8775 - val_accuracy: 0.5000\n",
      "Epoch 3/20\n",
      "11/11 [==============================] - 18s 2s/step - loss: 0.4635 - accuracy: 0.7887 - val_loss: 1.3954 - val_accuracy: 0.5625\n",
      "Epoch 4/20\n",
      "11/11 [==============================] - 19s 2s/step - loss: 0.4296 - accuracy: 0.8131 - val_loss: 0.5782 - val_accuracy: 0.7500\n",
      "Epoch 5/20\n",
      "11/11 [==============================] - 19s 2s/step - loss: 0.3066 - accuracy: 0.8664 - val_loss: 2.3349 - val_accuracy: 0.5000\n",
      "Epoch 6/20\n",
      "11/11 [==============================] - 19s 2s/step - loss: 0.3775 - accuracy: 0.8641 - val_loss: 0.6454 - val_accuracy: 0.7500\n",
      "Epoch 7/20\n",
      "11/11 [==============================] - 19s 2s/step - loss: 0.2558 - accuracy: 0.8903 - val_loss: 1.0260 - val_accuracy: 0.5625\n",
      "Epoch 8/20\n",
      "11/11 [==============================] - 19s 2s/step - loss: 0.2232 - accuracy: 0.9070 - val_loss: 0.4926 - val_accuracy: 0.7500\n",
      "Epoch 9/20\n",
      "11/11 [==============================] - 19s 2s/step - loss: 0.2930 - accuracy: 0.8771 - val_loss: 0.7970 - val_accuracy: 0.6875\n",
      "Epoch 10/20\n",
      "11/11 [==============================] - 19s 2s/step - loss: 0.2838 - accuracy: 0.8890 - val_loss: 0.6323 - val_accuracy: 0.7500\n",
      "Epoch 11/20\n",
      "11/11 [==============================] - 19s 2s/step - loss: 0.1876 - accuracy: 0.9254 - val_loss: 0.5686 - val_accuracy: 0.8125\n",
      "Epoch 12/20\n",
      "11/11 [==============================] - 19s 2s/step - loss: 0.1742 - accuracy: 0.9333 - val_loss: 1.2125 - val_accuracy: 0.5625\n",
      "Epoch 13/20\n",
      "11/11 [==============================] - 19s 2s/step - loss: 0.1792 - accuracy: 0.9283 - val_loss: 0.7939 - val_accuracy: 0.6875\n",
      "Epoch 14/20\n",
      "11/11 [==============================] - 18s 2s/step - loss: 0.2811 - accuracy: 0.8997 - val_loss: 0.7339 - val_accuracy: 0.6875\n",
      "Epoch 15/20\n",
      "11/11 [==============================] - 19s 2s/step - loss: 0.1280 - accuracy: 0.9534 - val_loss: 1.1515 - val_accuracy: 0.5625\n",
      "Epoch 16/20\n",
      "11/11 [==============================] - 19s 2s/step - loss: 0.1468 - accuracy: 0.9431 - val_loss: 0.4682 - val_accuracy: 0.8125\n",
      "Epoch 17/20\n",
      "11/11 [==============================] - 18s 2s/step - loss: 0.1746 - accuracy: 0.9281 - val_loss: 0.9689 - val_accuracy: 0.5625\n",
      "Epoch 18/20\n",
      "11/11 [==============================] - 19s 2s/step - loss: 0.1376 - accuracy: 0.9463 - val_loss: 3.8133 - val_accuracy: 0.5000\n",
      "Epoch 19/20\n",
      "11/11 [==============================] - 19s 2s/step - loss: 0.2591 - accuracy: 0.9321 - val_loss: 0.3007 - val_accuracy: 0.8125\n",
      "Epoch 20/20\n",
      "11/11 [==============================] - 19s 2s/step - loss: 0.1222 - accuracy: 0.9540 - val_loss: 0.7710 - val_accuracy: 0.6875\n",
      "Testing adam_01\n",
      "Epoch 1/20\n",
      "11/11 [==============================] - 18s 2s/step - loss: 0.9947 - accuracy: 0.6881 - val_loss: 0.7615 - val_accuracy: 0.5000\n",
      "Epoch 2/20\n",
      "11/11 [==============================] - 18s 2s/step - loss: 0.5702 - accuracy: 0.7429 - val_loss: 0.7961 - val_accuracy: 0.5000\n",
      "Epoch 3/20\n",
      "11/11 [==============================] - 20s 2s/step - loss: 0.5383 - accuracy: 0.7429 - val_loss: 0.6731 - val_accuracy: 0.5625\n",
      "Epoch 4/20\n",
      "11/11 [==============================] - 586s 53s/step - loss: 0.6358 - accuracy: 0.7182 - val_loss: 0.7202 - val_accuracy: 0.5000\n",
      "Epoch 5/20\n",
      "11/11 [==============================] - 34s 3s/step - loss: 0.5683 - accuracy: 0.7448 - val_loss: 0.8317 - val_accuracy: 0.5000\n",
      "Epoch 6/20\n",
      "11/11 [==============================] - 31s 3s/step - loss: 0.4987 - accuracy: 0.7726 - val_loss: 0.8160 - val_accuracy: 0.5000\n",
      "Epoch 7/20\n",
      "11/11 [==============================] - 24s 2s/step - loss: 0.4087 - accuracy: 0.8169 - val_loss: 0.5251 - val_accuracy: 0.7500\n",
      "Epoch 8/20\n",
      "11/11 [==============================] - 23s 2s/step - loss: 0.3448 - accuracy: 0.8474 - val_loss: 0.5504 - val_accuracy: 0.6875\n",
      "Epoch 9/20\n",
      "11/11 [==============================] - 25s 2s/step - loss: 0.3227 - accuracy: 0.8658 - val_loss: 0.3662 - val_accuracy: 0.8125\n",
      "Epoch 10/20\n",
      "11/11 [==============================] - 28s 3s/step - loss: 0.2805 - accuracy: 0.8809 - val_loss: 0.4591 - val_accuracy: 0.8125\n",
      "Epoch 11/20\n",
      "11/11 [==============================] - 35s 3s/step - loss: 0.2135 - accuracy: 0.9095 - val_loss: 0.2061 - val_accuracy: 0.8750\n",
      "Epoch 12/20\n",
      "11/11 [==============================] - 45s 4s/step - loss: 0.1655 - accuracy: 0.9308 - val_loss: 0.7633 - val_accuracy: 0.5625\n",
      "Epoch 13/20\n",
      "11/11 [==============================] - 28s 3s/step - loss: 0.1642 - accuracy: 0.9333 - val_loss: 0.5325 - val_accuracy: 0.7500\n",
      "Epoch 14/20\n",
      "11/11 [==============================] - 49s 4s/step - loss: 0.1395 - accuracy: 0.9459 - val_loss: 0.2273 - val_accuracy: 0.8750\n",
      "Epoch 15/20\n",
      "11/11 [==============================] - 33s 3s/step - loss: 0.1044 - accuracy: 0.9597 - val_loss: 0.3686 - val_accuracy: 0.8750\n",
      "Epoch 16/20\n",
      "11/11 [==============================] - 44s 4s/step - loss: 0.0942 - accuracy: 0.9643 - val_loss: 0.3023 - val_accuracy: 0.8125\n",
      "Epoch 17/20\n",
      "11/11 [==============================] - 40s 4s/step - loss: 0.0761 - accuracy: 0.9703 - val_loss: 0.3419 - val_accuracy: 0.8750\n",
      "Epoch 18/20\n",
      "11/11 [==============================] - 27s 2s/step - loss: 0.0655 - accuracy: 0.9737 - val_loss: 0.2578 - val_accuracy: 0.8750\n",
      "Epoch 19/20\n",
      "11/11 [==============================] - 28s 3s/step - loss: 0.0582 - accuracy: 0.9772 - val_loss: 0.4963 - val_accuracy: 0.8750\n",
      "Epoch 20/20\n",
      "11/11 [==============================] - 27s 2s/step - loss: 0.0572 - accuracy: 0.9795 - val_loss: 0.2886 - val_accuracy: 0.8750\n",
      "Testing sgd\n",
      "Epoch 1/20\n",
      "11/11 [==============================] - 37s 3s/step - loss: 0.6251 - accuracy: 0.7429 - val_loss: 0.7565 - val_accuracy: 0.5000\n",
      "Epoch 2/20\n",
      "11/11 [==============================] - 25s 2s/step - loss: 0.5815 - accuracy: 0.7429 - val_loss: 0.8049 - val_accuracy: 0.5000\n",
      "Epoch 3/20\n",
      "11/11 [==============================] - 30s 3s/step - loss: 0.5751 - accuracy: 0.7429 - val_loss: 0.8153 - val_accuracy: 0.5000\n",
      "Epoch 4/20\n",
      "11/11 [==============================] - 37s 3s/step - loss: 0.5729 - accuracy: 0.7429 - val_loss: 0.8309 - val_accuracy: 0.5000\n",
      "Epoch 5/20\n",
      "11/11 [==============================] - 25s 2s/step - loss: 0.5710 - accuracy: 0.7429 - val_loss: 0.8268 - val_accuracy: 0.5000\n",
      "Epoch 6/20\n",
      "11/11 [==============================] - 27s 2s/step - loss: 0.5691 - accuracy: 0.7429 - val_loss: 0.8303 - val_accuracy: 0.5000\n",
      "Epoch 7/20\n",
      "11/11 [==============================] - 47s 4s/step - loss: 0.5671 - accuracy: 0.7429 - val_loss: 0.8210 - val_accuracy: 0.5000\n",
      "Epoch 8/20\n",
      "11/11 [==============================] - 39s 4s/step - loss: 0.5649 - accuracy: 0.7429 - val_loss: 0.8347 - val_accuracy: 0.5000\n",
      "Epoch 9/20\n",
      "11/11 [==============================] - 35s 3s/step - loss: 0.5626 - accuracy: 0.7429 - val_loss: 0.8137 - val_accuracy: 0.5000\n",
      "Epoch 10/20\n",
      "11/11 [==============================] - 34s 3s/step - loss: 0.5599 - accuracy: 0.7429 - val_loss: 0.8146 - val_accuracy: 0.5000\n",
      "Epoch 11/20\n",
      "11/11 [==============================] - 41s 4s/step - loss: 0.5570 - accuracy: 0.7429 - val_loss: 0.8202 - val_accuracy: 0.5000\n",
      "Testing adadelta\n",
      "Epoch 1/20\n",
      "11/11 [==============================] - 41s 4s/step - loss: 0.7188 - accuracy: 0.2571 - val_loss: 0.6954 - val_accuracy: 0.5000\n",
      "Epoch 2/20\n",
      "11/11 [==============================] - 29s 3s/step - loss: 0.7163 - accuracy: 0.2571 - val_loss: 0.6953 - val_accuracy: 0.5000\n",
      "Epoch 3/20\n",
      "11/11 [==============================] - 39s 4s/step - loss: 0.7137 - accuracy: 0.2571 - val_loss: 0.6951 - val_accuracy: 0.5000\n",
      "Epoch 4/20\n",
      "11/11 [==============================] - 29s 3s/step - loss: 0.7111 - accuracy: 0.2571 - val_loss: 0.6951 - val_accuracy: 0.5000\n",
      "Epoch 5/20\n",
      "11/11 [==============================] - 31s 3s/step - loss: 0.7085 - accuracy: 0.2571 - val_loss: 0.6950 - val_accuracy: 0.5000\n",
      "Epoch 6/20\n",
      "11/11 [==============================] - 30s 3s/step - loss: 0.7058 - accuracy: 0.2567 - val_loss: 0.6950 - val_accuracy: 0.5000\n",
      "Epoch 7/20\n",
      "11/11 [==============================] - 30s 3s/step - loss: 0.7031 - accuracy: 0.2552 - val_loss: 0.6950 - val_accuracy: 0.5000\n"
     ]
    },
    {
     "name": "stdout",
     "output_type": "stream",
     "text": [
      "Epoch 8/20\n",
      "11/11 [==============================] - 33s 3s/step - loss: 0.7003 - accuracy: 0.2575 - val_loss: 0.6950 - val_accuracy: 0.3750\n",
      "Epoch 9/20\n",
      "11/11 [==============================] - 28s 3s/step - loss: 0.6975 - accuracy: 0.2772 - val_loss: 0.6951 - val_accuracy: 0.3125\n",
      "Epoch 10/20\n",
      "11/11 [==============================] - 27s 2s/step - loss: 0.6945 - accuracy: 0.4068 - val_loss: 0.6952 - val_accuracy: 0.5000\n",
      "Epoch 11/20\n",
      "11/11 [==============================] - 27s 2s/step - loss: 0.6915 - accuracy: 0.6279 - val_loss: 0.6955 - val_accuracy: 0.5000\n",
      "Epoch 12/20\n",
      "11/11 [==============================] - 26s 2s/step - loss: 0.6885 - accuracy: 0.7232 - val_loss: 0.6958 - val_accuracy: 0.5000\n",
      "Epoch 13/20\n",
      "11/11 [==============================] - 28s 3s/step - loss: 0.6855 - accuracy: 0.7416 - val_loss: 0.6961 - val_accuracy: 0.5000\n",
      "Epoch 14/20\n",
      "11/11 [==============================] - 36s 3s/step - loss: 0.6824 - accuracy: 0.7427 - val_loss: 0.6964 - val_accuracy: 0.5000\n",
      "Epoch 15/20\n",
      "11/11 [==============================] - 49s 4s/step - loss: 0.6791 - accuracy: 0.7429 - val_loss: 0.6966 - val_accuracy: 0.5000\n",
      "Epoch 16/20\n",
      "11/11 [==============================] - 30s 3s/step - loss: 0.6756 - accuracy: 0.7429 - val_loss: 0.6969 - val_accuracy: 0.5000\n",
      "Epoch 17/20\n",
      "11/11 [==============================] - 40s 4s/step - loss: 0.6719 - accuracy: 0.7429 - val_loss: 0.6972 - val_accuracy: 0.5000\n",
      "Testing adagrad\n",
      "Epoch 1/20\n",
      "11/11 [==============================] - 35s 3s/step - loss: 0.7024 - accuracy: 0.4233 - val_loss: 0.6948 - val_accuracy: 0.5000\n",
      "Epoch 2/20\n",
      "11/11 [==============================] - 31s 3s/step - loss: 0.6650 - accuracy: 0.7429 - val_loss: 0.6999 - val_accuracy: 0.5000\n",
      "Epoch 3/20\n",
      "11/11 [==============================] - 30s 3s/step - loss: 0.6423 - accuracy: 0.7429 - val_loss: 0.7083 - val_accuracy: 0.5000\n",
      "Epoch 4/20\n",
      "11/11 [==============================] - 29s 3s/step - loss: 0.6212 - accuracy: 0.7429 - val_loss: 0.7229 - val_accuracy: 0.5000\n",
      "Epoch 5/20\n",
      "11/11 [==============================] - 34s 3s/step - loss: 0.6036 - accuracy: 0.7429 - val_loss: 0.7411 - val_accuracy: 0.5000\n",
      "Epoch 6/20\n",
      "11/11 [==============================] - 32s 3s/step - loss: 0.5914 - accuracy: 0.7429 - val_loss: 0.7597 - val_accuracy: 0.5000\n",
      "Epoch 7/20\n",
      "11/11 [==============================] - 31s 3s/step - loss: 0.5838 - accuracy: 0.7429 - val_loss: 0.7763 - val_accuracy: 0.5000\n",
      "Epoch 8/20\n",
      "11/11 [==============================] - 30s 3s/step - loss: 0.5792 - accuracy: 0.7429 - val_loss: 0.7906 - val_accuracy: 0.5000\n",
      "Epoch 9/20\n",
      "11/11 [==============================] - 35s 3s/step - loss: 0.5763 - accuracy: 0.7429 - val_loss: 0.8010 - val_accuracy: 0.5000\n",
      "Epoch 10/20\n",
      "11/11 [==============================] - 30s 3s/step - loss: 0.5745 - accuracy: 0.7429 - val_loss: 0.8064 - val_accuracy: 0.5000\n",
      "Epoch 11/20\n",
      "11/11 [==============================] - 33s 3s/step - loss: 0.5735 - accuracy: 0.7429 - val_loss: 0.8131 - val_accuracy: 0.5000\n"
     ]
    }
   ],
   "source": [
    "# Now iterate thru the optimizer dictionary and build CNN with each optimizer\n",
    "for optimizer, x in optimizers.items():\n",
    "    print('Testing', optimizer)\n",
    "    \n",
    "    model_2 = Sequential()\n",
    "    \n",
    "    model_2.add(layers.Conv2D(32, (3, 3), activation='relu',\n",
    "                        input_shape=(64 ,64,  3)))\n",
    "    model_2.add(layers.MaxPooling2D((2, 2)))\n",
    "\n",
    "    model_2.add(layers.Conv2D(32, (4, 4), activation='relu'))\n",
    "    model_2.add(layers.MaxPooling2D((2, 2)))\n",
    "\n",
    "    model_2.add(layers.Conv2D(64, (3, 3), activation='relu'))\n",
    "    model_2.add(layers.MaxPooling2D((2, 2)))\n",
    "\n",
    "    model_2.add(layers.Flatten())\n",
    "    model_2.add(layers.Dense(64, activation='relu'))\n",
    "    model_2.add(layers.Dense(1, activation='sigmoid'))\n",
    "    \n",
    "    model_2.compile(optimizer = x['optimizer'],\n",
    "              loss='binary_crossentropy',\n",
    "              metrics=['accuracy'])\n",
    "    \n",
    "    results_2 = model_2.fit(train_images,\n",
    "                    train_y,\n",
    "                    epochs=20,\n",
    "                    callbacks=early_stop,\n",
    "                    batch_size=500,\n",
    "                    validation_data=(val_images, val_y))"
   ]
  },
  {
   "cell_type": "markdown",
   "metadata": {},
   "source": [
    "### Evaluate Model"
   ]
  },
  {
   "cell_type": "code",
   "execution_count": 49,
   "metadata": {},
   "outputs": [
    {
     "name": "stdout",
     "output_type": "stream",
     "text": [
      "163/163 [==============================] - 7s 45ms/step - loss: 0.5729 - accuracy: 0.7429\n"
     ]
    },
    {
     "data": {
      "text/plain": [
       "[0.5729200839996338, 0.7429064512252808]"
      ]
     },
     "execution_count": 49,
     "metadata": {},
     "output_type": "execute_result"
    }
   ],
   "source": [
    "mod2_results_train = model_2.evaluate(train_images, train_y)\n",
    "mod2_results_train"
   ]
  },
  {
   "cell_type": "code",
   "execution_count": 50,
   "metadata": {},
   "outputs": [
    {
     "name": "stdout",
     "output_type": "stream",
     "text": [
      "20/20 [==============================] - 1s 40ms/step - loss: 0.6937 - accuracy: 0.6250\n"
     ]
    },
    {
     "data": {
      "text/plain": [
       "[0.6937423348426819, 0.625]"
      ]
     },
     "execution_count": 50,
     "metadata": {},
     "output_type": "execute_result"
    }
   ],
   "source": [
    "mod2_results_test = model_2.evaluate(test_images, test_y)\n",
    "mod2_results_test"
   ]
  },
  {
   "cell_type": "markdown",
   "metadata": {},
   "source": [
    "### Confusion Matrix, Classification Report"
   ]
  },
  {
   "cell_type": "code",
   "execution_count": 51,
   "metadata": {},
   "outputs": [],
   "source": [
    "pred_2 = model_2.predict(val_images)"
   ]
  },
  {
   "cell_type": "code",
   "execution_count": 52,
   "metadata": {},
   "outputs": [
    {
     "name": "stdout",
     "output_type": "stream",
     "text": [
      "              precision    recall  f1-score   support\n",
      "\n",
      "         0.0       0.50      1.00      0.67         8\n",
      "         1.0       0.00      0.00      0.00         8\n",
      "\n",
      "    accuracy                           0.50        16\n",
      "   macro avg       0.25      0.50      0.33        16\n",
      "weighted avg       0.25      0.50      0.33        16\n",
      "\n"
     ]
    }
   ],
   "source": [
    "# Classification report\n",
    "class_report_2 = classification_report(val_y, pred_2.round())\n",
    "print(class_report_1)"
   ]
  },
  {
   "cell_type": "code",
   "execution_count": 53,
   "metadata": {},
   "outputs": [
    {
     "data": {
      "image/png": "[encoded data removed]",
      "text/plain": [
       "<Figure size 432x288 with 2 Axes>"
      ]
     },
     "metadata": {
      "needs_background": "light"
     },
     "output_type": "display_data"
    }
   ],
   "source": [
    "plot_confusion_matrix(val_y, pred_2.round())"
   ]
  },
  {
   "cell_type": "code",
   "execution_count": 73,
   "metadata": {},
   "outputs": [
    {
     "name": "stdout",
     "output_type": "stream",
     "text": [
      "Model: \"sequential_6\"\n",
      "_________________________________________________________________\n",
      "Layer (type)                 Output Shape              Param #   \n",
      "=================================================================\n",
      "conv2d_15 (Conv2D)           (None, 62, 62, 32)        896       \n",
      "_________________________________________________________________\n",
      "max_pooling2d_15 (MaxPooling (None, 31, 31, 32)        0         \n",
      "_________________________________________________________________\n",
      "conv2d_16 (Conv2D)           (None, 28, 28, 32)        16416     \n",
      "_________________________________________________________________\n",
      "max_pooling2d_16 (MaxPooling (None, 14, 14, 32)        0         \n",
      "_________________________________________________________________\n",
      "conv2d_17 (Conv2D)           (None, 12, 12, 64)        18496     \n",
      "_________________________________________________________________\n",
      "max_pooling2d_17 (MaxPooling (None, 6, 6, 64)          0         \n",
      "_________________________________________________________________\n",
      "flatten_5 (Flatten)          (None, 2304)              0         \n",
      "_________________________________________________________________\n",
      "dense_14 (Dense)             (None, 64)                147520    \n",
      "_________________________________________________________________\n",
      "dense_15 (Dense)             (None, 1)                 65        \n",
      "=================================================================\n",
      "Total params: 183,393\n",
      "Trainable params: 183,393\n",
      "Non-trainable params: 0\n",
      "_________________________________________________________________\n"
     ]
    }
   ],
   "source": [
    "model_2.summary()"
   ]
  },
  {
   "cell_type": "markdown",
   "metadata": {},
   "source": [
    "## Model 3: Less Layers, Larger Batch Size, Activation=tanh, Kernel Regularizer"
   ]
  },
  {
   "cell_type": "code",
   "execution_count": 55,
   "metadata": {},
   "outputs": [
    {
     "name": "stdout",
     "output_type": "stream",
     "text": [
      "Epoch 1/15\n",
      "6/6 [==============================] - 12s 2s/step - loss: 11.7428 - accuracy: 0.2571 - val_loss: 7.7566 - val_accuracy: 0.5000\n",
      "Epoch 2/15\n",
      "6/6 [==============================] - 9s 2s/step - loss: 11.4009 - accuracy: 0.2571 - val_loss: 7.6446 - val_accuracy: 0.5000\n",
      "Epoch 3/15\n",
      "6/6 [==============================] - 10s 2s/step - loss: 11.3494 - accuracy: 0.2571 - val_loss: 7.6520 - val_accuracy: 0.5000\n",
      "Epoch 4/15\n",
      "6/6 [==============================] - 9s 2s/step - loss: 11.3571 - accuracy: 0.2571 - val_loss: 7.6493 - val_accuracy: 0.5000\n",
      "Epoch 5/15\n",
      "6/6 [==============================] - 8s 1s/step - loss: 11.3482 - accuracy: 0.2571 - val_loss: 7.6348 - val_accuracy: 0.5000\n",
      "Epoch 6/15\n",
      "6/6 [==============================] - 8s 1s/step - loss: 11.3356 - accuracy: 0.2571 - val_loss: 7.6278 - val_accuracy: 0.5000\n",
      "Epoch 7/15\n",
      "6/6 [==============================] - 8s 1s/step - loss: 11.3316 - accuracy: 0.2571 - val_loss: 7.6272 - val_accuracy: 0.5000\n",
      "Epoch 8/15\n",
      "6/6 [==============================] - 8s 1s/step - loss: 11.3312 - accuracy: 0.2571 - val_loss: 7.6266 - val_accuracy: 0.5000\n",
      "Epoch 9/15\n",
      "6/6 [==============================] - 8s 1s/step - loss: 11.3303 - accuracy: 0.2571 - val_loss: 7.6254 - val_accuracy: 0.5000\n",
      "Epoch 10/15\n",
      "6/6 [==============================] - 8s 1s/step - loss: 11.3293 - accuracy: 0.2571 - val_loss: 7.6250 - val_accuracy: 0.5000\n",
      "Epoch 11/15\n",
      "6/6 [==============================] - 8s 1s/step - loss: 11.3291 - accuracy: 0.2571 - val_loss: 7.6249 - val_accuracy: 0.5000\n",
      "Epoch 12/15\n",
      "6/6 [==============================] - 8s 1s/step - loss: 11.3290 - accuracy: 0.2571 - val_loss: 7.6248 - val_accuracy: 0.5000\n",
      "Epoch 13/15\n",
      "6/6 [==============================] - 8s 1s/step - loss: 11.3289 - accuracy: 0.2571 - val_loss: 7.6247 - val_accuracy: 0.5000\n",
      "Epoch 14/15\n",
      "6/6 [==============================] - 8s 1s/step - loss: 11.3288 - accuracy: 0.2571 - val_loss: 7.6247 - val_accuracy: 0.5000\n",
      "Epoch 15/15\n",
      "6/6 [==============================] - 9s 1s/step - loss: 11.3288 - accuracy: 0.2571 - val_loss: 7.6246 - val_accuracy: 0.5000\n"
     ]
    }
   ],
   "source": [
    "model_3 = Sequential()\n",
    "\n",
    "model_3.add(layers.Conv2D(32, (3, 3), activation='tanh', input_shape=(64, 64, 3)))\n",
    "model_3.add(layers.MaxPooling2D((2, 2)))\n",
    "\n",
    "model_3.add(layers.Flatten())\n",
    "model_3.add(layers.Dense(64, activation = 'tanh', kernel_regularizer=regularizers.l2(l=0.005)))\n",
    "model_3.add(layers.Dense(1, activation='softmax'))\n",
    "\n",
    "# Decrease Adam learning rate\n",
    "model_3.compile(optimizer=Adam(lr=0.001),loss='binary_crossentropy', metrics=['accuracy'])\n",
    "\n",
    "# Increased batch size to 1000\n",
    "results_3 = model_3.fit(train_images, train_y, epochs=15, batch_size=1000, validation_data=(val_images, val_y))"
   ]
  },
  {
   "cell_type": "code",
   "execution_count": 57,
   "metadata": {},
   "outputs": [
    {
     "data": {
      "image/png": "[encoded data removed]",
      "text/plain": [
       "<Figure size 432x288 with 1 Axes>"
      ]
     },
     "metadata": {
      "needs_background": "light"
     },
     "output_type": "display_data"
    },
    {
     "data": {
      "image/png": "[encoded data removed]",
      "text/plain": [
       "<Figure size 432x288 with 1 Axes>"
      ]
     },
     "metadata": {
      "needs_background": "light"
     },
     "output_type": "display_data"
    }
   ],
   "source": [
    "visualize_training_results(results_3)"
   ]
  },
  {
   "cell_type": "code",
   "execution_count": 58,
   "metadata": {},
   "outputs": [
    {
     "name": "stdout",
     "output_type": "stream",
     "text": [
      "163/163 [==============================] - 4s 28ms/step - loss: 11.3288 - accuracy: 0.2571\n"
     ]
    },
    {
     "data": {
      "text/plain": [
       "[11.328782081604004, 0.25709354877471924]"
      ]
     },
     "execution_count": 58,
     "metadata": {},
     "output_type": "execute_result"
    }
   ],
   "source": [
    "model_3.evaluate(train_images, train_y)"
   ]
  },
  {
   "cell_type": "code",
   "execution_count": 59,
   "metadata": {},
   "outputs": [
    {
     "name": "stdout",
     "output_type": "stream",
     "text": [
      "20/20 [==============================] - 1s 30ms/step - loss: 9.5308 - accuracy: 0.3750\n"
     ]
    },
    {
     "data": {
      "text/plain": [
       "[9.53079891204834, 0.375]"
      ]
     },
     "execution_count": 59,
     "metadata": {},
     "output_type": "execute_result"
    }
   ],
   "source": [
    "model_3.evaluate(test_images, test_y)"
   ]
  },
  {
   "cell_type": "code",
   "execution_count": 60,
   "metadata": {},
   "outputs": [
    {
     "name": "stdout",
     "output_type": "stream",
     "text": [
      "1/1 [==============================] - 0s 2ms/step - loss: 7.6246 - accuracy: 0.5000\n"
     ]
    },
    {
     "data": {
      "text/plain": [
       "[7.624642848968506, 0.5]"
      ]
     },
     "execution_count": 60,
     "metadata": {},
     "output_type": "execute_result"
    }
   ],
   "source": [
    "model_3.evaluate(val_images, val_y)"
   ]
  },
  {
   "cell_type": "code",
   "execution_count": 61,
   "metadata": {},
   "outputs": [],
   "source": [
    "pred_3 = model_3.predict(val_images)"
   ]
  },
  {
   "cell_type": "code",
   "execution_count": 62,
   "metadata": {},
   "outputs": [
    {
     "data": {
      "image/png": "[encoded data removed]",
      "text/plain": [
       "<Figure size 432x288 with 2 Axes>"
      ]
     },
     "metadata": {
      "needs_background": "light"
     },
     "output_type": "display_data"
    }
   ],
   "source": [
    "plot_confusion_matrix(val_y, pred_3)"
   ]
  },
  {
   "cell_type": "code",
   "execution_count": 75,
   "metadata": {},
   "outputs": [
    {
     "name": "stdout",
     "output_type": "stream",
     "text": [
      "              precision    recall  f1-score   support\n",
      "\n",
      "         0.0       0.00      0.00      0.00         8\n",
      "         1.0       0.50      1.00      0.67         8\n",
      "\n",
      "    accuracy                           0.50        16\n",
      "   macro avg       0.25      0.50      0.33        16\n",
      "weighted avg       0.25      0.50      0.33        16\n",
      "\n"
     ]
    }
   ],
   "source": [
    "class_report_3 = classification_report(val_y, pred_3.round())\n",
    "print(class_report_3)"
   ]
  },
  {
   "cell_type": "code",
   "execution_count": 72,
   "metadata": {},
   "outputs": [
    {
     "name": "stdout",
     "output_type": "stream",
     "text": [
      "Model: \"sequential_8\"\n",
      "_________________________________________________________________\n",
      "Layer (type)                 Output Shape              Param #   \n",
      "=================================================================\n",
      "conv2d_19 (Conv2D)           (None, 62, 62, 32)        896       \n",
      "_________________________________________________________________\n",
      "max_pooling2d_19 (MaxPooling (None, 31, 31, 32)        0         \n",
      "_________________________________________________________________\n",
      "flatten_7 (Flatten)          (None, 30752)             0         \n",
      "_________________________________________________________________\n",
      "dense_18 (Dense)             (None, 64)                1968192   \n",
      "_________________________________________________________________\n",
      "dense_19 (Dense)             (None, 1)                 65        \n",
      "=================================================================\n",
      "Total params: 1,969,153\n",
      "Trainable params: 1,969,153\n",
      "Non-trainable params: 0\n",
      "_________________________________________________________________\n"
     ]
    }
   ],
   "source": [
    "model_3.summary()"
   ]
  },
  {
   "cell_type": "markdown",
   "metadata": {},
   "source": [
    "## Model 4: Validation data = test sets, normal layers"
   ]
  },
  {
   "cell_type": "code",
   "execution_count": 64,
   "metadata": {},
   "outputs": [
    {
     "name": "stdout",
     "output_type": "stream",
     "text": [
      "Epoch 1/20\n",
      "7/7 [==============================] - 21s 3s/step - loss: 11.9867 - accuracy: 0.2571 - val_loss: 9.7445 - val_accuracy: 0.3750\n",
      "Epoch 2/20\n",
      "7/7 [==============================] - 19s 3s/step - loss: 11.5449 - accuracy: 0.2571 - val_loss: 9.6596 - val_accuracy: 0.3750\n",
      "Epoch 3/20\n",
      "7/7 [==============================] - 20s 3s/step - loss: 11.4180 - accuracy: 0.2571 - val_loss: 9.5946 - val_accuracy: 0.3750\n",
      "Epoch 4/20\n",
      "7/7 [==============================] - 19s 3s/step - loss: 11.3742 - accuracy: 0.2571 - val_loss: 9.5563 - val_accuracy: 0.3750\n",
      "Epoch 5/20\n",
      "7/7 [==============================] - 20s 3s/step - loss: 11.3516 - accuracy: 0.2571 - val_loss: 9.5483 - val_accuracy: 0.3750\n",
      "Epoch 6/20\n",
      "7/7 [==============================] - 20s 3s/step - loss: 11.3397 - accuracy: 0.2571 - val_loss: 9.5370 - val_accuracy: 0.3750\n",
      "Epoch 7/20\n",
      "7/7 [==============================] - 20s 3s/step - loss: 11.3346 - accuracy: 0.2571 - val_loss: 9.5348 - val_accuracy: 0.3750\n",
      "Epoch 8/20\n",
      "7/7 [==============================] - 20s 3s/step - loss: 11.3314 - accuracy: 0.2571 - val_loss: 9.5326 - val_accuracy: 0.3750\n",
      "Epoch 9/20\n",
      "7/7 [==============================] - 20s 3s/step - loss: 11.3302 - accuracy: 0.2571 - val_loss: 9.5316 - val_accuracy: 0.3750\n",
      "Epoch 10/20\n",
      "7/7 [==============================] - 19s 3s/step - loss: 11.3294 - accuracy: 0.2571 - val_loss: 9.5312 - val_accuracy: 0.3750\n",
      "Epoch 11/20\n",
      "7/7 [==============================] - 19s 3s/step - loss: 11.3291 - accuracy: 0.2571 - val_loss: 9.5310 - val_accuracy: 0.3750\n",
      "Epoch 12/20\n",
      "7/7 [==============================] - 19s 3s/step - loss: 11.3289 - accuracy: 0.2571 - val_loss: 9.5309 - val_accuracy: 0.3750\n",
      "Epoch 13/20\n",
      "7/7 [==============================] - 21s 3s/step - loss: 11.3288 - accuracy: 0.2571 - val_loss: 9.5308 - val_accuracy: 0.3750\n",
      "Epoch 14/20\n",
      "7/7 [==============================] - 21s 3s/step - loss: 11.3288 - accuracy: 0.2571 - val_loss: 9.5308 - val_accuracy: 0.3750\n",
      "Epoch 15/20\n",
      "7/7 [==============================] - 20s 3s/step - loss: 11.3288 - accuracy: 0.2571 - val_loss: 9.5308 - val_accuracy: 0.3750\n",
      "Epoch 16/20\n",
      "7/7 [==============================] - 19s 3s/step - loss: 11.3288 - accuracy: 0.2571 - val_loss: 9.5308 - val_accuracy: 0.3750\n",
      "Epoch 17/20\n",
      "7/7 [==============================] - 19s 3s/step - loss: 11.3288 - accuracy: 0.2571 - val_loss: 9.5308 - val_accuracy: 0.3750\n",
      "Epoch 18/20\n",
      "7/7 [==============================] - 18s 3s/step - loss: 11.3288 - accuracy: 0.2571 - val_loss: 9.5308 - val_accuracy: 0.3750\n",
      "Epoch 19/20\n",
      "7/7 [==============================] - 20s 3s/step - loss: 11.3288 - accuracy: 0.2571 - val_loss: 9.5308 - val_accuracy: 0.3750\n",
      "Epoch 20/20\n",
      "7/7 [==============================] - 19s 3s/step - loss: 11.3288 - accuracy: 0.2571 - val_loss: 9.5308 - val_accuracy: 0.3750\n"
     ]
    }
   ],
   "source": [
    "model_4 = Sequential()\n",
    "\n",
    "\n",
    "model_4.add(layers.Conv2D(32, (3, 3), activation='tanh', input_shape=(64, 64, 3)))\n",
    "model_4.add(layers.MaxPooling2D((2, 2)))\n",
    "\n",
    "model_4.add(layers.Conv2D(32, (4, 4), activation='tanh', kernel_regularizer=regularizers.l2(l=0.01)))\n",
    "model_4.add(layers.MaxPooling2D((2, 2)))\n",
    "\n",
    "model_4.add(layers.Conv2D(64, (3, 3), activation='tanh', kernel_regularizer=regularizers.l2(l=0.01)))\n",
    "model_4.add(layers.MaxPooling2D((2,2)))\n",
    "\n",
    "model_4.add(layers.Flatten())\n",
    "model_4.add(layers.Dense(64, activation = 'tanh', kernel_regularizer=regularizers.l2(l=0.01)))\n",
    "model_4.add(layers.Dense(1, activation='softmax'))\n",
    "\n",
    "    \n",
    "model_4.compile(optimizer=Adam(lr=0.01),loss='binary_crossentropy', metrics=['accuracy'])\n",
    "\n",
    "    \n",
    "results_4 = model_4.fit(train_images, train_y, epochs=20, batch_size=750, validation_data=(test_images, test_y))"
   ]
  },
  {
   "cell_type": "code",
   "execution_count": 65,
   "metadata": {},
   "outputs": [
    {
     "name": "stdout",
     "output_type": "stream",
     "text": [
      "163/163 [==============================] - 8s 52ms/step - loss: 11.3288 - accuracy: 0.2571\n"
     ]
    },
    {
     "data": {
      "text/plain": [
       "[11.328761100769043, 0.25709354877471924]"
      ]
     },
     "execution_count": 65,
     "metadata": {},
     "output_type": "execute_result"
    }
   ],
   "source": [
    "model_4.evaluate(train_images, train_y)"
   ]
  },
  {
   "cell_type": "code",
   "execution_count": 66,
   "metadata": {},
   "outputs": [
    {
     "name": "stdout",
     "output_type": "stream",
     "text": [
      "20/20 [==============================] - 1s 45ms/step - loss: 9.5308 - accuracy: 0.3750\n"
     ]
    },
    {
     "data": {
      "text/plain": [
       "[9.530774116516113, 0.375]"
      ]
     },
     "execution_count": 66,
     "metadata": {},
     "output_type": "execute_result"
    }
   ],
   "source": [
    "model_4.evaluate(test_images, test_y)"
   ]
  },
  {
   "cell_type": "code",
   "execution_count": 67,
   "metadata": {
    "scrolled": true
   },
   "outputs": [
    {
     "name": "stdout",
     "output_type": "stream",
     "text": [
      "1/1 [==============================] - 0s 2ms/step - loss: 7.6246 - accuracy: 0.5000\n"
     ]
    },
    {
     "data": {
      "text/plain": [
       "[7.624619007110596, 0.5]"
      ]
     },
     "execution_count": 67,
     "metadata": {},
     "output_type": "execute_result"
    }
   ],
   "source": [
    "model_4.evaluate(val_images, val_y)"
   ]
  },
  {
   "cell_type": "code",
   "execution_count": 70,
   "metadata": {},
   "outputs": [
    {
     "data": {
      "image/png": "[encoded data removed]",
      "text/plain": [
       "<Figure size 432x288 with 1 Axes>"
      ]
     },
     "metadata": {
      "needs_background": "light"
     },
     "output_type": "display_data"
    },
    {
     "data": {
      "image/png": "[encoded data removed]",
      "text/plain": [
       "<Figure size 432x288 with 1 Axes>"
      ]
     },
     "metadata": {
      "needs_background": "light"
     },
     "output_type": "display_data"
    }
   ],
   "source": [
    "visualize_training_results(results_4)"
   ]
  },
  {
   "cell_type": "code",
   "execution_count": 68,
   "metadata": {},
   "outputs": [],
   "source": [
    "test_pred = model_4.predict(test_images)"
   ]
  },
  {
   "cell_type": "code",
   "execution_count": 69,
   "metadata": {},
   "outputs": [
    {
     "data": {
      "image/png": "[encoded data removed]",
      "text/plain": [
       "<Figure size 432x288 with 2 Axes>"
      ]
     },
     "metadata": {
      "needs_background": "light"
     },
     "output_type": "display_data"
    }
   ],
   "source": [
    "plot_confusion_matrix(test_y, test_pred)"
   ]
  },
  {
   "cell_type": "code",
   "execution_count": 71,
   "metadata": {
    "scrolled": false
   },
   "outputs": [
    {
     "name": "stdout",
     "output_type": "stream",
     "text": [
      "Model: \"sequential_10\"\n",
      "_________________________________________________________________\n",
      "Layer (type)                 Output Shape              Param #   \n",
      "=================================================================\n",
      "conv2d_23 (Conv2D)           (None, 62, 62, 32)        896       \n",
      "_________________________________________________________________\n",
      "max_pooling2d_23 (MaxPooling (None, 31, 31, 32)        0         \n",
      "_________________________________________________________________\n",
      "conv2d_24 (Conv2D)           (None, 28, 28, 32)        16416     \n",
      "_________________________________________________________________\n",
      "max_pooling2d_24 (MaxPooling (None, 14, 14, 32)        0         \n",
      "_________________________________________________________________\n",
      "conv2d_25 (Conv2D)           (None, 12, 12, 64)        18496     \n",
      "_________________________________________________________________\n",
      "max_pooling2d_25 (MaxPooling (None, 6, 6, 64)          0         \n",
      "_________________________________________________________________\n",
      "flatten_9 (Flatten)          (None, 2304)              0         \n",
      "_________________________________________________________________\n",
      "dense_22 (Dense)             (None, 64)                147520    \n",
      "_________________________________________________________________\n",
      "dense_23 (Dense)             (None, 1)                 65        \n",
      "=================================================================\n",
      "Total params: 183,393\n",
      "Trainable params: 183,393\n",
      "Non-trainable params: 0\n",
      "_________________________________________________________________\n"
     ]
    }
   ],
   "source": [
    "model_4.summary()"
   ]
  },
  {
   "cell_type": "markdown",
   "metadata": {},
   "source": [
    "## Model 5: Transfer Learning"
   ]
  },
  {
   "cell_type": "code",
   "execution_count": 79,
   "metadata": {},
   "outputs": [
    {
     "name": "stdout",
     "output_type": "stream",
     "text": [
      "Downloading data from https://storage.googleapis.com/tensorflow/keras-applications/vgg16/vgg16_weights_tf_dim_ordering_tf_kernels_notop.h5\n",
      "58892288/58889256 [==============================] - 2s 0us/step\n"
     ]
    }
   ],
   "source": [
    "# Update the input shape from the default settings of the VGG16\n",
    "# model to (64, 64, 3) the input shape of the training images\n",
    "pretrain_mod1 = VGG16(include_top= False, input_shape=(64,64,3))"
   ]
  },
  {
   "cell_type": "code",
   "execution_count": 80,
   "metadata": {},
   "outputs": [
    {
     "name": "stdout",
     "output_type": "stream",
     "text": [
      "Model: \"vgg16\"\n",
      "_________________________________________________________________\n",
      "Layer (type)                 Output Shape              Param #   \n",
      "=================================================================\n",
      "input_1 (InputLayer)         [(None, 64, 64, 3)]       0         \n",
      "_________________________________________________________________\n",
      "block1_conv1 (Conv2D)        (None, 64, 64, 64)        1792      \n",
      "_________________________________________________________________\n",
      "block1_conv2 (Conv2D)        (None, 64, 64, 64)        36928     \n",
      "_________________________________________________________________\n",
      "block1_pool (MaxPooling2D)   (None, 32, 32, 64)        0         \n",
      "_________________________________________________________________\n",
      "block2_conv1 (Conv2D)        (None, 32, 32, 128)       73856     \n",
      "_________________________________________________________________\n",
      "block2_conv2 (Conv2D)        (None, 32, 32, 128)       147584    \n",
      "_________________________________________________________________\n",
      "block2_pool (MaxPooling2D)   (None, 16, 16, 128)       0         \n",
      "_________________________________________________________________\n",
      "block3_conv1 (Conv2D)        (None, 16, 16, 256)       295168    \n",
      "_________________________________________________________________\n",
      "block3_conv2 (Conv2D)        (None, 16, 16, 256)       590080    \n",
      "_________________________________________________________________\n",
      "block3_conv3 (Conv2D)        (None, 16, 16, 256)       590080    \n",
      "_________________________________________________________________\n",
      "block3_pool (MaxPooling2D)   (None, 8, 8, 256)         0         \n",
      "_________________________________________________________________\n",
      "block4_conv1 (Conv2D)        (None, 8, 8, 512)         1180160   \n",
      "_________________________________________________________________\n",
      "block4_conv2 (Conv2D)        (None, 8, 8, 512)         2359808   \n",
      "_________________________________________________________________\n",
      "block4_conv3 (Conv2D)        (None, 8, 8, 512)         2359808   \n",
      "_________________________________________________________________\n",
      "block4_pool (MaxPooling2D)   (None, 4, 4, 512)         0         \n",
      "_________________________________________________________________\n",
      "block5_conv1 (Conv2D)        (None, 4, 4, 512)         2359808   \n",
      "_________________________________________________________________\n",
      "block5_conv2 (Conv2D)        (None, 4, 4, 512)         2359808   \n",
      "_________________________________________________________________\n",
      "block5_conv3 (Conv2D)        (None, 4, 4, 512)         2359808   \n",
      "_________________________________________________________________\n",
      "block5_pool (MaxPooling2D)   (None, 2, 2, 512)         0         \n",
      "=================================================================\n",
      "Total params: 14,714,688\n",
      "Trainable params: 14,714,688\n",
      "Non-trainable params: 0\n",
      "_________________________________________________________________\n"
     ]
    }
   ],
   "source": [
    "# Review the summary of the model\n",
    "pretrain_mod1.summary()"
   ]
  },
  {
   "cell_type": "code",
   "execution_count": 81,
   "metadata": {},
   "outputs": [],
   "source": [
    "model_5 = Sequential()\n",
    "\n",
    "model_5.add(pretrain_mod1)\n",
    "model_5.add(layers.Flatten())\n",
    "model_5.add(layers.Dense(132, activation='tanh'))\n",
    "model_5.add(layers.Dense(1, activation='softmax'))"
   ]
  },
  {
   "cell_type": "code",
   "execution_count": 83,
   "metadata": {},
   "outputs": [
    {
     "name": "stdout",
     "output_type": "stream",
     "text": [
      "vgg16 False\n",
      "flatten_10 True\n",
      "dense_24 True\n",
      "dense_25 True\n",
      "4\n"
     ]
    }
   ],
   "source": [
    "# Check whether the layer is trainable\n",
    "for layer in model_5.layers:\n",
    "    print(layer.name, layer.trainable)\n",
    "    \n",
    "# Check trainable weights\n",
    "print(len(model_5.trainable_weights))"
   ]
  },
  {
   "cell_type": "code",
   "execution_count": 84,
   "metadata": {},
   "outputs": [],
   "source": [
    "pretrain_mod1.trainable = False"
   ]
  },
  {
   "cell_type": "code",
   "execution_count": 85,
   "metadata": {},
   "outputs": [],
   "source": [
    "model_5.compile(loss='binary_crossentropy', optimizer=Adam(lr=0.01), metrics=['accuracy'])"
   ]
  },
  {
   "cell_type": "code",
   "execution_count": 87,
   "metadata": {
    "scrolled": true
   },
   "outputs": [
    {
     "name": "stdout",
     "output_type": "stream",
     "text": [
      "Epoch 1/20\n",
      "7/7 [==============================] - 160s 23s/step - loss: 11.3288 - accuracy: 0.2571 - val_loss: 9.5308 - val_accuracy: 0.3750\n",
      "Epoch 2/20\n",
      "7/7 [==============================] - 141s 20s/step - loss: 11.3288 - accuracy: 0.2571 - val_loss: 9.5308 - val_accuracy: 0.3750\n",
      "Epoch 3/20\n",
      "7/7 [==============================] - 147s 21s/step - loss: 11.3288 - accuracy: 0.2571 - val_loss: 9.5308 - val_accuracy: 0.3750\n",
      "Epoch 4/20\n",
      "7/7 [==============================] - 145s 21s/step - loss: 11.3288 - accuracy: 0.2571 - val_loss: 9.5308 - val_accuracy: 0.3750\n",
      "Epoch 5/20\n",
      "7/7 [==============================] - 150s 21s/step - loss: 11.3288 - accuracy: 0.2571 - val_loss: 9.5308 - val_accuracy: 0.3750\n",
      "Epoch 6/20\n",
      "7/7 [==============================] - 151s 22s/step - loss: 11.3288 - accuracy: 0.2571 - val_loss: 9.5308 - val_accuracy: 0.3750\n",
      "Epoch 7/20\n",
      "7/7 [==============================] - 140s 20s/step - loss: 11.3288 - accuracy: 0.2571 - val_loss: 9.5308 - val_accuracy: 0.3750\n",
      "Epoch 8/20\n",
      "7/7 [==============================] - 146s 21s/step - loss: 11.3288 - accuracy: 0.2571 - val_loss: 9.5308 - val_accuracy: 0.3750\n",
      "Epoch 9/20\n",
      "7/7 [==============================] - 153s 22s/step - loss: 11.3288 - accuracy: 0.2571 - val_loss: 9.5308 - val_accuracy: 0.3750\n",
      "Epoch 10/20\n",
      "7/7 [==============================] - 154s 22s/step - loss: 11.3288 - accuracy: 0.2571 - val_loss: 9.5308 - val_accuracy: 0.3750\n",
      "Epoch 11/20\n",
      "7/7 [==============================] - 154s 22s/step - loss: 11.3288 - accuracy: 0.2571 - val_loss: 9.5308 - val_accuracy: 0.3750\n",
      "Epoch 12/20\n",
      "7/7 [==============================] - 151s 22s/step - loss: 11.3288 - accuracy: 0.2571 - val_loss: 9.5308 - val_accuracy: 0.3750\n",
      "Epoch 13/20\n",
      "7/7 [==============================] - 157s 22s/step - loss: 11.3288 - accuracy: 0.2571 - val_loss: 9.5308 - val_accuracy: 0.3750\n",
      "Epoch 14/20\n",
      "7/7 [==============================] - 155s 22s/step - loss: 11.3288 - accuracy: 0.2571 - val_loss: 9.5308 - val_accuracy: 0.3750\n",
      "Epoch 15/20\n",
      "7/7 [==============================] - 2249s 321s/step - loss: 11.3288 - accuracy: 0.2571 - val_loss: 9.5308 - val_accuracy: 0.3750\n",
      "Epoch 16/20\n",
      "7/7 [==============================] - 155s 22s/step - loss: 11.3288 - accuracy: 0.2571 - val_loss: 9.5308 - val_accuracy: 0.3750\n",
      "Epoch 17/20\n",
      "7/7 [==============================] - 151s 22s/step - loss: 11.3288 - accuracy: 0.2571 - val_loss: 9.5308 - val_accuracy: 0.3750\n",
      "Epoch 18/20\n",
      "7/7 [==============================] - 151s 22s/step - loss: 11.3288 - accuracy: 0.2571 - val_loss: 9.5308 - val_accuracy: 0.3750\n",
      "Epoch 19/20\n",
      "7/7 [==============================] - 143s 20s/step - loss: 11.3288 - accuracy: 0.2571 - val_loss: 9.5308 - val_accuracy: 0.3750\n",
      "Epoch 20/20\n",
      "7/7 [==============================] - 149s 21s/step - loss: 11.3288 - accuracy: 0.2571 - val_loss: 9.5308 - val_accuracy: 0.3750\n"
     ]
    }
   ],
   "source": [
    "results_5 = model_5.fit(train_images, train_y, epochs=20, batch_size=750, validation_data=(test_images, test_y))"
   ]
  },
  {
   "cell_type": "code",
   "execution_count": 88,
   "metadata": {},
   "outputs": [],
   "source": [
    "vgg16_pred = model_5.predict(test_images)"
   ]
  },
  {
   "cell_type": "code",
   "execution_count": 89,
   "metadata": {},
   "outputs": [
    {
     "name": "stdout",
     "output_type": "stream",
     "text": [
      "163/163 [==============================] - 157s 964ms/step - loss: 11.3288 - accuracy: 0.2571\n"
     ]
    },
    {
     "data": {
      "text/plain": [
       "[11.328761100769043, 0.25709354877471924]"
      ]
     },
     "execution_count": 89,
     "metadata": {},
     "output_type": "execute_result"
    }
   ],
   "source": [
    "model_5.evaluate(train_images, train_y)"
   ]
  },
  {
   "cell_type": "code",
   "execution_count": 90,
   "metadata": {},
   "outputs": [
    {
     "name": "stdout",
     "output_type": "stream",
     "text": [
      "20/20 [==============================] - 16s 818ms/step - loss: 9.5308 - accuracy: 0.3750\n"
     ]
    },
    {
     "data": {
      "text/plain": [
       "[9.530774116516113, 0.375]"
      ]
     },
     "execution_count": 90,
     "metadata": {},
     "output_type": "execute_result"
    }
   ],
   "source": [
    "model_5.evaluate(test_images, test_y)"
   ]
  },
  {
   "cell_type": "code",
   "execution_count": 91,
   "metadata": {},
   "outputs": [
    {
     "data": {
      "image/png": "[encoded data removed]",
      "text/plain": [
       "<Figure size 432x288 with 1 Axes>"
      ]
     },
     "metadata": {
      "needs_background": "light"
     },
     "output_type": "display_data"
    },
    {
     "data": {
      "image/png": "[encoded data removed]",
      "text/plain": [
       "<Figure size 432x288 with 1 Axes>"
      ]
     },
     "metadata": {
      "needs_background": "light"
     },
     "output_type": "display_data"
    }
   ],
   "source": [
    "visualize_training_results(results_5)"
   ]
  },
  {
   "cell_type": "code",
   "execution_count": 92,
   "metadata": {},
   "outputs": [
    {
     "data": {
      "image/png": "[encoded data removed]",
      "text/plain": [
       "<Figure size 432x288 with 2 Axes>"
      ]
     },
     "metadata": {
      "needs_background": "light"
     },
     "output_type": "display_data"
    }
   ],
   "source": [
    "plot_confusion_matrix(test_y, vgg16_pred)"
   ]
  }
 ],
 "metadata": {
  "kernelspec": {
   "display_name": "learn-env",
   "language": "python",
   "name": "learn-env"
  },
  "language_info": {
   "codemirror_mode": {
    "name": "ipython",
    "version": 3
   },
   "file_extension": ".py",
   "mimetype": "text/x-python",
   "name": "python",
   "nbconvert_exporter": "python",
   "pygments_lexer": "ipython3",
   "version": "3.6.9"
  },
  "toc": {
   "base_numbering": 1,
   "nav_menu": {},
   "number_sections": false,
   "sideBar": true,
   "skip_h1_title": false,
   "title_cell": "Table of Contents",
   "title_sidebar": "Contents",
   "toc_cell": false,
   "toc_position": {},
   "toc_section_display": true,
   "toc_window_display": false
  },
  "varInspector": {
   "cols": {
    "lenName": 16,
    "lenType": 16,
    "lenVar": 40
   },
   "kernels_config": {
    "python": {
     "delete_cmd_postfix": "",
     "delete_cmd_prefix": "del ",
     "library": "var_list.py",
     "varRefreshCmd": "print(var_dic_list())"
    },
    "r": {
     "delete_cmd_postfix": ") ",
     "delete_cmd_prefix": "rm(",
     "library": "var_list.r",
     "varRefreshCmd": "cat(var_dic_list()) "
    }
   },
   "types_to_exclude": [
    "module",
    "function",
    "builtin_function_or_method",
    "instance",
    "_Feature"
   ],
   "window_display": false
  }
 },
 "nbformat": 4,
 "nbformat_minor": 4
}
