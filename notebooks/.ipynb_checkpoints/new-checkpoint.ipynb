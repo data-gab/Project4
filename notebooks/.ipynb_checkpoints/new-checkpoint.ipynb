{
 "cells": [
  {
   "cell_type": "markdown",
   "metadata": {},
   "source": [
    "# Data Preprocessing and Modeling"
   ]
  },
  {
   "cell_type": "code",
   "execution_count": 1,
   "metadata": {},
   "outputs": [],
   "source": [
    "# Import necessary libraries\n",
    "import pandas as pd\n",
    "import numpy as np\n",
    "import matplotlib.pyplot as plt\n",
    "%matplotlib inline\n",
    "\n",
    "import warnings\n",
    "warnings.filterwarnings('ignore')\n",
    "\n",
    "from sklearn.model_selection import train_test_split\n",
    "from sklearn.metrics import mean_squared_error\n",
    "from sklearn.model_selection import cross_val_predict\n",
    "from sklearn.metrics import classification_report\n",
    "from sklearn.metrics import confusion_matrix\n",
    "\n",
    "import itertools\n",
    "\n",
    "import keras\n",
    "from keras import layers\n",
    "from keras.models import Sequential\n",
    "from keras.layers import Dense\n",
    "\n",
    "from keras.preprocessing.image import ImageDataGenerator, array_to_img, img_to_array, load_img\n",
    "from keras import regularizers\n",
    "from keras.wrappers.scikit_learn import KerasRegressor\n",
    "from keras.layers import Convolution2D\n",
    "from keras.layers import MaxPooling2D\n",
    "from keras.layers import Flatten\n",
    "from keras.layers import Dense\n",
    "from keras.callbacks import EarlyStopping, ModelCheckpoint\n",
    "from keras import regularizers\n",
    "\n",
    "from keras.applications.vgg16 import preprocess_input\n",
    "from keras.applications.vgg16 import VGG16\n",
    "from keras.optimizers import Adam, Adadelta, Adagrad, SGD, RMSprop\n",
    "\n",
    "import os"
   ]
  },
  {
   "cell_type": "code",
   "execution_count": 2,
   "metadata": {},
   "outputs": [],
   "source": [
    "from tensorflow.random import set_seed\n",
    "set_seed(321)\n",
    "\n",
    "import numpy as np\n",
    "np.random.seed(123)"
   ]
  },
  {
   "cell_type": "markdown",
   "metadata": {},
   "source": [
    "***\n",
    "## Preprocessing"
   ]
  },
  {
   "cell_type": "markdown",
   "metadata": {},
   "source": [
    "### Create directory paths for image data"
   ]
  },
  {
   "cell_type": "code",
   "execution_count": 3,
   "metadata": {},
   "outputs": [],
   "source": [
    "data_train_dir = '../chest_xray/train/'\n",
    "data_test_dir = '../chest_xray/test/'\n",
    "data_val_dir = '../chest_xray/val/'"
   ]
  },
  {
   "cell_type": "code",
   "execution_count": 4,
   "metadata": {},
   "outputs": [],
   "source": [
    "train_dir_pneumonia = '../chest_xray/train/PNEUMONIA'\n",
    "train_dir_normal = '../chest_xray/train/NORMAL'\n",
    "test_dir_pneumonia = '../chest_xray/test/PNEUMONIA'\n",
    "test_dir_normal = '../chest_xray/test/NORMAL'\n",
    "val_dir_pneumonia = '../chest_xray/val/PNEUMONIA'\n",
    "val_dir_normal = '../chest_xray/val/NORMAL'"
   ]
  },
  {
   "cell_type": "code",
   "execution_count": 5,
   "metadata": {},
   "outputs": [
    {
     "name": "stdout",
     "output_type": "stream",
     "text": [
      "Train Pneumonia:  3875\n",
      "Train Normal:  1341\n",
      "Test Pneumonia:  390\n",
      "Test Normal:  234\n",
      "Val Pneumonia:  8\n",
      "Val Normal:  8\n"
     ]
    }
   ],
   "source": [
    "# Review image count\n",
    "print('Train Pneumonia: ', len(os.listdir(train_dir_pneumonia)))\n",
    "print('Train Normal: ', len(os.listdir(train_dir_normal)))\n",
    "print('Test Pneumonia: ', len(os.listdir(test_dir_pneumonia)))\n",
    "print('Test Normal: ', len(os.listdir(test_dir_normal)))\n",
    "print('Val Pneumonia: ', len(os.listdir(val_dir_pneumonia)))\n",
    "print('Val Normal: ', len(os.listdir(val_dir_normal)))"
   ]
  },
  {
   "cell_type": "markdown",
   "metadata": {},
   "source": [
    "### Create data generators\n",
    "Creating data generators of training, testing, validation data. I want the pixels for each image to be 128 X 128 so I put that in target_size. The class_mode is binary since this is a binary problem. I set the batch_size according to the image count above."
   ]
  },
  {
   "cell_type": "code",
   "execution_count": null,
   "metadata": {},
   "outputs": [],
   "source": [
    "img_size = (128,128)"
   ]
  },
  {
   "cell_type": "code",
   "execution_count": 6,
   "metadata": {},
   "outputs": [
    {
     "name": "stdout",
     "output_type": "stream",
     "text": [
      "Found 5216 images belonging to 2 classes.\n"
     ]
    }
   ],
   "source": [
    "train_generator = ImageDataGenerator(rescale = 1./255 ).flow_from_directory(data_train_dir,\n",
    "                                                                            target_size=,\n",
    "                                                                            batch_size=5216,\n",
    "                                                                            class_mode='binary',\n",
    "                                                                            seed=123)"
   ]
  },
  {
   "cell_type": "code",
   "execution_count": 7,
   "metadata": {},
   "outputs": [
    {
     "name": "stdout",
     "output_type": "stream",
     "text": [
      "Found 624 images belonging to 2 classes.\n"
     ]
    }
   ],
   "source": [
    "test_generator = ImageDataGenerator(rescale = 1./255 ).flow_from_directory(data_test_dir,\n",
    "                                                                            target_size=(224,224),\n",
    "                                                                            batch_size=624,\n",
    "                                                                            class_mode='binary',\n",
    "                                                                            seed=123)"
   ]
  },
  {
   "cell_type": "code",
   "execution_count": 8,
   "metadata": {},
   "outputs": [
    {
     "name": "stdout",
     "output_type": "stream",
     "text": [
      "Found 16 images belonging to 2 classes.\n"
     ]
    }
   ],
   "source": [
    "val_generator = ImageDataGenerator(rescale = 1./255 ).flow_from_directory(data_val_dir,\n",
    "                                                                            target_size=(224,224),\n",
    "                                                                            batch_size=624,\n",
    "                                                                            class_mode='binary',\n",
    "                                                                            seed=123)"
   ]
  },
  {
   "cell_type": "markdown",
   "metadata": {},
   "source": [
    "### Review Class Indices"
   ]
  },
  {
   "cell_type": "code",
   "execution_count": 9,
   "metadata": {},
   "outputs": [
    {
     "data": {
      "text/plain": [
       "{'NORMAL': 0, 'PNEUMONIA': 1}"
      ]
     },
     "execution_count": 9,
     "metadata": {},
     "output_type": "execute_result"
    }
   ],
   "source": [
    "train_generator.class_indices"
   ]
  },
  {
   "cell_type": "code",
   "execution_count": 10,
   "metadata": {},
   "outputs": [
    {
     "data": {
      "text/plain": [
       "{'NORMAL': 0, 'PNEUMONIA': 1}"
      ]
     },
     "execution_count": 10,
     "metadata": {},
     "output_type": "execute_result"
    }
   ],
   "source": [
    "test_generator.class_indices"
   ]
  },
  {
   "cell_type": "code",
   "execution_count": 11,
   "metadata": {},
   "outputs": [
    {
     "data": {
      "text/plain": [
       "{'NORMAL': 0, 'PNEUMONIA': 1}"
      ]
     },
     "execution_count": 11,
     "metadata": {},
     "output_type": "execute_result"
    }
   ],
   "source": [
    "val_generator.class_indices"
   ]
  },
  {
   "cell_type": "markdown",
   "metadata": {},
   "source": [
    "### Create datasets"
   ]
  },
  {
   "cell_type": "code",
   "execution_count": 12,
   "metadata": {},
   "outputs": [],
   "source": [
    "train_images, train_labels = next(train_generator)"
   ]
  },
  {
   "cell_type": "code",
   "execution_count": 13,
   "metadata": {},
   "outputs": [],
   "source": [
    "test_images, test_labels = next(test_generator)"
   ]
  },
  {
   "cell_type": "code",
   "execution_count": 14,
   "metadata": {},
   "outputs": [],
   "source": [
    "val_images, val_labels = next(val_generator)"
   ]
  },
  {
   "cell_type": "markdown",
   "metadata": {},
   "source": [
    "### Review image shapes "
   ]
  },
  {
   "cell_type": "code",
   "execution_count": 15,
   "metadata": {},
   "outputs": [
    {
     "name": "stdout",
     "output_type": "stream",
     "text": [
      "Train Images Shape: (5216, 224, 224, 3)\n",
      "Train Labels Shape: (5216,)\n",
      "Test Images Shape: (624, 224, 224, 3)\n",
      "Test Labels Shape: (624,)\n",
      "Validation Images Shape: (16, 224, 224, 3)\n",
      "Validation Labels Shape: (16,)\n"
     ]
    }
   ],
   "source": [
    "print('Train Images Shape:', np.shape(train_images))\n",
    "print('Train Labels Shape:', np.shape(train_labels))\n",
    "print('Test Images Shape:' , np.shape(test_images))\n",
    "print('Test Labels Shape:' , np.shape(test_labels))\n",
    "print('Validation Images Shape:', np.shape(val_images))\n",
    "print('Validation Labels Shape:', np.shape(val_labels))"
   ]
  },
  {
   "cell_type": "markdown",
   "metadata": {},
   "source": [
    "***\n",
    "## Modeling"
   ]
  },
  {
   "cell_type": "markdown",
   "metadata": {},
   "source": [
    "### Baseline model: 3 Convolution layes, 3 max pooling layers, and 1 fully connected layer"
   ]
  },
  {
   "cell_type": "code",
   "execution_count": 16,
   "metadata": {},
   "outputs": [],
   "source": [
    "from tensorflow.keras import models, layers, optimizers, regularizers\n",
    "from tensorflow.keras.layers import Conv2D, MaxPooling2D, Flatten, Dense, Dropout\n",
    "\n",
    "baseline_model = models.Sequential()\n",
    "\n",
    "baseline_model.add(Conv2D(32, (3, 3), activation='relu',\n",
    "                    input_shape=(224, 224, 3)))\n",
    "\n",
    "baseline_model.add(MaxPooling2D((2, 2)))\n",
    "\n",
    "baseline_model.add(Conv2D(32, (3, 3), activation='relu'))\n",
    "baseline_model.add(MaxPooling2D(2, 2))\n",
    "\n",
    "baseline_model.add(Conv2D(64, (3, 3), activation='relu'))\n",
    "baseline_model.add(MaxPooling2D((2, 2)))\n",
    "\n",
    "baseline_model.add(Flatten())\n",
    "baseline_model.add(Dense(64, activation='relu'))\n",
    "baseline_model.add(Dense(1, activation='sigmoid'))"
   ]
  },
  {
   "cell_type": "code",
   "execution_count": 17,
   "metadata": {},
   "outputs": [],
   "source": [
    "baseline_model.compile(loss='binary_crossentropy',\n",
    "                optimizer='adam',\n",
    "                metrics=['acc'])"
   ]
  },
  {
   "cell_type": "code",
   "execution_count": 18,
   "metadata": {},
   "outputs": [
    {
     "name": "stdout",
     "output_type": "stream",
     "text": [
      "Model: \"sequential\"\n",
      "_________________________________________________________________\n",
      "Layer (type)                 Output Shape              Param #   \n",
      "=================================================================\n",
      "conv2d (Conv2D)              (None, 222, 222, 32)      896       \n",
      "_________________________________________________________________\n",
      "max_pooling2d (MaxPooling2D) (None, 111, 111, 32)      0         \n",
      "_________________________________________________________________\n",
      "conv2d_1 (Conv2D)            (None, 109, 109, 32)      9248      \n",
      "_________________________________________________________________\n",
      "max_pooling2d_1 (MaxPooling2 (None, 54, 54, 32)        0         \n",
      "_________________________________________________________________\n",
      "conv2d_2 (Conv2D)            (None, 52, 52, 64)        18496     \n",
      "_________________________________________________________________\n",
      "max_pooling2d_2 (MaxPooling2 (None, 26, 26, 64)        0         \n",
      "_________________________________________________________________\n",
      "flatten (Flatten)            (None, 43264)             0         \n",
      "_________________________________________________________________\n",
      "dense (Dense)                (None, 64)                2768960   \n",
      "_________________________________________________________________\n",
      "dense_1 (Dense)              (None, 1)                 65        \n",
      "=================================================================\n",
      "Total params: 2,797,665\n",
      "Trainable params: 2,797,665\n",
      "Non-trainable params: 0\n",
      "_________________________________________________________________\n"
     ]
    }
   ],
   "source": [
    "baseline_model.summary()"
   ]
  },
  {
   "cell_type": "code",
   "execution_count": 19,
   "metadata": {},
   "outputs": [
    {
     "name": "stdout",
     "output_type": "stream",
     "text": [
      "Epoch 1/25\n",
      "105/105 [==============================] - 260s 2s/step - loss: 0.3422 - acc: 0.8487 - val_loss: 0.3241 - val_acc: 0.8125\n",
      "Epoch 2/25\n",
      "105/105 [==============================] - 246s 2s/step - loss: 0.1092 - acc: 0.9569 - val_loss: 1.2619 - val_acc: 0.6250\n",
      "Epoch 3/25\n",
      "105/105 [==============================] - 257s 2s/step - loss: 0.0955 - acc: 0.9655 - val_loss: 0.1983 - val_acc: 0.8750\n",
      "Epoch 4/25\n",
      "105/105 [==============================] - 261s 2s/step - loss: 0.0663 - acc: 0.9762 - val_loss: 0.1415 - val_acc: 1.0000\n",
      "Epoch 5/25\n",
      "105/105 [==============================] - 245s 2s/step - loss: 0.0616 - acc: 0.9760 - val_loss: 0.5058 - val_acc: 0.6875\n",
      "Epoch 6/25\n",
      "105/105 [==============================] - 250s 2s/step - loss: 0.0463 - acc: 0.9826 - val_loss: 0.3123 - val_acc: 0.8125\n",
      "Epoch 7/25\n",
      "105/105 [==============================] - 246s 2s/step - loss: 0.0370 - acc: 0.9873 - val_loss: 0.2049 - val_acc: 0.9375\n",
      "Epoch 8/25\n",
      "105/105 [==============================] - 258s 2s/step - loss: 0.0391 - acc: 0.9850 - val_loss: 0.0659 - val_acc: 0.9375\n",
      "Epoch 9/25\n",
      "105/105 [==============================] - 254s 2s/step - loss: 0.0170 - acc: 0.9948 - val_loss: 0.0819 - val_acc: 0.9375\n",
      "Epoch 10/25\n",
      "105/105 [==============================] - 262s 2s/step - loss: 0.0168 - acc: 0.9944 - val_loss: 0.0485 - val_acc: 1.0000\n",
      "Epoch 11/25\n",
      "105/105 [==============================] - 274s 3s/step - loss: 0.0143 - acc: 0.9956 - val_loss: 0.0774 - val_acc: 0.9375\n",
      "Epoch 12/25\n",
      "105/105 [==============================] - 274s 3s/step - loss: 0.0127 - acc: 0.9956 - val_loss: 0.0100 - val_acc: 1.0000\n",
      "Epoch 13/25\n",
      "105/105 [==============================] - 409s 4s/step - loss: 0.0061 - acc: 0.9979 - val_loss: 0.0297 - val_acc: 1.0000\n",
      "Epoch 14/25\n",
      "105/105 [==============================] - 300s 3s/step - loss: 0.0032 - acc: 0.9994 - val_loss: 0.1540 - val_acc: 0.9375\n",
      "Epoch 15/25\n",
      "105/105 [==============================] - 258s 2s/step - loss: 0.0014 - acc: 1.0000 - val_loss: 0.0048 - val_acc: 1.0000\n",
      "Epoch 16/25\n",
      "105/105 [==============================] - 288s 3s/step - loss: 5.0507e-04 - acc: 1.0000 - val_loss: 0.0341 - val_acc: 1.0000\n",
      "Epoch 17/25\n",
      "105/105 [==============================] - 272s 3s/step - loss: 3.7638e-04 - acc: 1.0000 - val_loss: 0.0077 - val_acc: 1.0000\n",
      "Epoch 18/25\n",
      "105/105 [==============================] - 269s 3s/step - loss: 1.3038e-04 - acc: 1.0000 - val_loss: 0.0260 - val_acc: 1.0000\n",
      "Epoch 19/25\n",
      "105/105 [==============================] - 261s 2s/step - loss: 9.4870e-05 - acc: 1.0000 - val_loss: 0.0176 - val_acc: 1.0000\n",
      "Epoch 20/25\n",
      "105/105 [==============================] - 275s 3s/step - loss: 7.6127e-05 - acc: 1.0000 - val_loss: 0.0174 - val_acc: 1.0000\n",
      "Epoch 21/25\n",
      "105/105 [==============================] - 267s 3s/step - loss: 6.2327e-05 - acc: 1.0000 - val_loss: 0.0126 - val_acc: 1.0000\n",
      "Epoch 22/25\n",
      "105/105 [==============================] - 261s 2s/step - loss: 5.2465e-05 - acc: 1.0000 - val_loss: 0.0114 - val_acc: 1.0000\n",
      "Epoch 23/25\n",
      "105/105 [==============================] - 268s 3s/step - loss: 4.6369e-05 - acc: 1.0000 - val_loss: 0.0140 - val_acc: 1.0000\n",
      "Epoch 24/25\n",
      "105/105 [==============================] - 262s 2s/step - loss: 4.1947e-05 - acc: 1.0000 - val_loss: 0.0086 - val_acc: 1.0000\n",
      "Epoch 25/25\n",
      "105/105 [==============================] - 264s 3s/step - loss: 3.8428e-05 - acc: 1.0000 - val_loss: 0.0125 - val_acc: 1.0000\n"
     ]
    }
   ],
   "source": [
    "base_history = baseline_model.fit(train_images,\n",
    "                       train_labels,\n",
    "                       epochs=25,\n",
    "                       batch_size=50,\n",
    "                       validation_data=(val_images, val_labels))"
   ]
  },
  {
   "cell_type": "code",
   "execution_count": 29,
   "metadata": {},
   "outputs": [],
   "source": [
    "import seaborn as sns\n",
    "def eval_results(results):\n",
    "\n",
    "    history = results.history\n",
    "    plt.figure()\n",
    "    plt.plot(history['loss'])\n",
    "    plt.plot(history['val_loss'])\n",
    "    plt.legend(['loss', 'val_loss'])\n",
    "    plt.title('Loss')\n",
    "    plt.xlabel('Epochs')\n",
    "    plt.ylabel('Loss')\n",
    "    plt.show()\n",
    "\n",
    "    plt.figure()\n",
    "    plt.plot(history['acc'])\n",
    "    plt.plot(history['val_acc'])\n",
    "    plt.legend(['acc', 'val_acc'])\n",
    "    plt.title('Accuracy')\n",
    "    plt.xlabel('Epochs')\n",
    "    plt.ylabel('Accuracy')\n",
    "    plt.show()\n",
    "\n",
    "    y_hat_test = results.model.predict(test_images)\n",
    "    thresh = 0.5\n",
    "    y_pred = (y_hat_test < thresh).astype(np.int)\n",
    "    y_true = test_labels.astype(np.int)\n",
    "    cm = confusion_matrix(y_true, y_pred)\n",
    "    sns.heatmap(cm, annot=True, cmap='Blues', fmt='0.5g')\n",
    "    plt.xlabel('Predictions')\n",
    "    plt.ylabel('Actuals')\n",
    "    plt.title('Model Confusion Matrix')\n",
    "    plt.show()\n",
    "    print('\\n')\n",
    "\n",
    "    print(classification_report(y_true, y_pred))\n",
    "    print('\\n')\n",
    "\n",
    "    test_loss, test_acc = results.model.evaluate(test_images, test_labels)\n",
    "    print(f'Test Loss: {test_loss}')\n",
    "    print(f'Test Acc: {test_acc}')\n",
    "    "
   ]
  },
  {
   "cell_type": "code",
   "execution_count": 30,
   "metadata": {},
   "outputs": [
    {
     "data": {
      "image/png": "[encoded data removed]",
      "text/plain": [
       "<Figure size 432x288 with 1 Axes>"
      ]
     },
     "metadata": {
      "needs_background": "light"
     },
     "output_type": "display_data"
    },
    {
     "data": {
      "image/png": "[encoded data removed]",
      "text/plain": [
       "<Figure size 432x288 with 1 Axes>"
      ]
     },
     "metadata": {
      "needs_background": "light"
     },
     "output_type": "display_data"
    },
    {
     "data": {
      "image/png": "[encoded data removed]",
      "text/plain": [
       "<Figure size 432x288 with 2 Axes>"
      ]
     },
     "metadata": {
      "needs_background": "light"
     },
     "output_type": "display_data"
    },
    {
     "name": "stdout",
     "output_type": "stream",
     "text": [
      "\n",
      "\n",
      "              precision    recall  f1-score   support\n",
      "\n",
      "           0       0.29      0.67      0.40       234\n",
      "           1       0.04      0.01      0.01       390\n",
      "\n",
      "    accuracy                           0.25       624\n",
      "   macro avg       0.16      0.34      0.21       624\n",
      "weighted avg       0.13      0.25      0.16       624\n",
      "\n",
      "\n",
      "\n",
      "20/20 [==============================] - 8s 391ms/step - loss: 4.0510 - acc: 0.7452\n",
      "Test Loss: 4.051008701324463\n",
      "Test Acc: 0.745192289352417\n"
     ]
    }
   ],
   "source": [
    "eval_results(base_history)"
   ]
  },
  {
   "cell_type": "markdown",
   "metadata": {},
   "source": [
    "### Model 2: Looking at class imbalance, use early stopping, increase epochs"
   ]
  },
  {
   "cell_type": "code",
   "execution_count": 46,
   "metadata": {},
   "outputs": [
    {
     "data": {
      "image/png": "[encoded data removed]",
      "text/plain": [
       "<Figure size 432x288 with 1 Axes>"
      ]
     },
     "metadata": {
      "needs_background": "light"
     },
     "output_type": "display_data"
    }
   ],
   "source": [
    "# Review training data class imbalance\n",
    "sns.distplot(train_labels)\n",
    "plt.title('Class Imbalance in Training Data')\n",
    "plt.show()"
   ]
  },
  {
   "cell_type": "code",
   "execution_count": 47,
   "metadata": {},
   "outputs": [
    {
     "data": {
      "text/plain": [
       "{0.0: 1.9448173005219984, 1.0: 0.6730322580645162}"
      ]
     },
     "execution_count": 47,
     "metadata": {},
     "output_type": "execute_result"
    }
   ],
   "source": [
    "from sklearn.utils.class_weight import compute_class_weight\n",
    "weights = compute_class_weight('balanced', np.unique(train_labels), train_labels)\n",
    "weights_dict = dict(zip(np.unique(train_labels), weights))\n",
    "weights_dict"
   ]
  },
  {
   "cell_type": "code",
   "execution_count": 48,
   "metadata": {},
   "outputs": [],
   "source": [
    "# Use early stopping and reduce learning rate \n",
    "from tensorflow.keras.callbacks import ModelCheckpoint, EarlyStopping, ReduceLROnPlateau\n",
    "early_stopping = EarlyStopping(monitor='val_loss', mode='min', patience=5)\n",
    "lr = ReduceLROnPlateau(monitor='val_loss', factor=0.5, patience=5)\n",
    "callbacks = [early_stopping, lr]"
   ]
  },
  {
   "cell_type": "code",
   "execution_count": 49,
   "metadata": {},
   "outputs": [],
   "source": [
    "model_2 = models.Sequential()\n",
    "\n",
    "model_2.add(Conv2D(32, (3, 3), activation='relu',\n",
    "                    input_shape=(224, 224, 3)))\n",
    "model_2.add(MaxPooling2D((2, 2)))\n",
    "\n",
    "model_2.add(Conv2D(32, (3, 3), activation='relu'))\n",
    "model2.add(MaxPooling2D(2, 2))\n",
    "\n",
    "model_2.add(Conv2D(64, (3, 3), activation='relu'))\n",
    "model_2.add(MaxPooling2D((2, 2)))\n",
    "\n",
    "model_2.add(Flatten())\n",
    "model_2.add(Dense(64, activation='relu'))\n",
    "model_2.add(Dense(1, activation='sigmoid'))"
   ]
  },
  {
   "cell_type": "code",
   "execution_count": 50,
   "metadata": {},
   "outputs": [],
   "source": [
    "model_2.compile(loss='binary_crossentropy',\n",
    "                optimizer='adam',\n",
    "                metrics=['acc'])"
   ]
  },
  {
   "cell_type": "code",
   "execution_count": 51,
   "metadata": {},
   "outputs": [
    {
     "name": "stdout",
     "output_type": "stream",
     "text": [
      "Model: \"sequential_4\"\n",
      "_________________________________________________________________\n",
      "Layer (type)                 Output Shape              Param #   \n",
      "=================================================================\n",
      "conv2d_12 (Conv2D)           (None, 222, 222, 32)      896       \n",
      "_________________________________________________________________\n",
      "max_pooling2d_12 (MaxPooling (None, 111, 111, 32)      0         \n",
      "_________________________________________________________________\n",
      "conv2d_13 (Conv2D)           (None, 109, 109, 32)      9248      \n",
      "_________________________________________________________________\n",
      "conv2d_14 (Conv2D)           (None, 107, 107, 64)      18496     \n",
      "_________________________________________________________________\n",
      "max_pooling2d_14 (MaxPooling (None, 53, 53, 64)        0         \n",
      "_________________________________________________________________\n",
      "flatten_3 (Flatten)          (None, 179776)            0         \n",
      "_________________________________________________________________\n",
      "dense_6 (Dense)              (None, 64)                11505728  \n",
      "_________________________________________________________________\n",
      "dense_7 (Dense)              (None, 1)                 65        \n",
      "=================================================================\n",
      "Total params: 11,534,433\n",
      "Trainable params: 11,534,433\n",
      "Non-trainable params: 0\n",
      "_________________________________________________________________\n"
     ]
    }
   ],
   "source": [
    "model_2.summary()"
   ]
  },
  {
   "cell_type": "code",
   "execution_count": 52,
   "metadata": {},
   "outputs": [
    {
     "name": "stdout",
     "output_type": "stream",
     "text": [
      "Epoch 1/50\n",
      "150/150 [==============================] - 364s 2s/step - loss: 0.2747 - acc: 0.9005 - val_loss: 0.1835 - val_acc: 0.9375\n",
      "Epoch 2/50\n",
      "150/150 [==============================] - 835s 6s/step - loss: 0.0946 - acc: 0.9651 - val_loss: 1.1203 - val_acc: 0.6875\n",
      "Epoch 3/50\n",
      "150/150 [==============================] - 350s 2s/step - loss: 0.1028 - acc: 0.9659 - val_loss: 0.3497 - val_acc: 0.8125\n",
      "Epoch 4/50\n",
      "150/150 [==============================] - 484s 3s/step - loss: 0.1161 - acc: 0.9563 - val_loss: 0.2017 - val_acc: 0.9375\n",
      "Epoch 5/50\n",
      "150/150 [==============================] - 339s 2s/step - loss: 0.0494 - acc: 0.9820 - val_loss: 0.8453 - val_acc: 0.6875\n",
      "Epoch 6/50\n",
      "150/150 [==============================] - 336s 2s/step - loss: 0.0552 - acc: 0.9787 - val_loss: 2.1044 - val_acc: 0.5625\n"
     ]
    }
   ],
   "source": [
    "results2 = model_2.fit(train_images,\n",
    "                   train_labels,\n",
    "                   epochs=50,\n",
    "                   batch_size=35,\n",
    "                   validation_data=(val_images, val_labels),\n",
    "                   class_weight=weights_dict,\n",
    "                   callbacks=callbacks)"
   ]
  },
  {
   "cell_type": "code",
   "execution_count": 53,
   "metadata": {},
   "outputs": [
    {
     "data": {
      "image/png": "[encoded data removed]",
      "text/plain": [
       "<Figure size 432x288 with 1 Axes>"
      ]
     },
     "metadata": {
      "needs_background": "light"
     },
     "output_type": "display_data"
    },
    {
     "data": {
      "image/png": "[encoded data removed]",
      "text/plain": [
       "<Figure size 432x288 with 1 Axes>"
      ]
     },
     "metadata": {
      "needs_background": "light"
     },
     "output_type": "display_data"
    },
    {
     "data": {
      "image/png": "[encoded data removed]",
      "text/plain": [
       "<Figure size 432x288 with 2 Axes>"
      ]
     },
     "metadata": {
      "needs_background": "light"
     },
     "output_type": "display_data"
    },
    {
     "name": "stdout",
     "output_type": "stream",
     "text": [
      "\n",
      "\n",
      "              precision    recall  f1-score   support\n",
      "\n",
      "           0       0.04      0.04      0.04       234\n",
      "           1       0.41      0.41      0.41       390\n",
      "\n",
      "    accuracy                           0.27       624\n",
      "   macro avg       0.23      0.22      0.23       624\n",
      "weighted avg       0.27      0.27      0.27       624\n",
      "\n",
      "\n",
      "\n",
      "20/20 [==============================] - 10s 499ms/step - loss: 1.5767 - acc: 0.7308\n",
      "Test Loss: 1.5767138004302979\n",
      "Test Acc: 0.7307692170143127\n"
     ]
    }
   ],
   "source": [
    "eval_results(results2)"
   ]
  },
  {
   "cell_type": "markdown",
   "metadata": {},
   "source": [
    "### Model 3: more layers"
   ]
  },
  {
   "cell_type": "code",
   "execution_count": 54,
   "metadata": {},
   "outputs": [],
   "source": [
    "model_3 = models.Sequential()\n",
    "\n",
    "model_3.add(Conv2D(32, (3, 3), activation='relu',\n",
    "                    input_shape=(224, 224, 3)))\n",
    "model_3.add(Conv2D(32, (3, 3), activation='relu'))\n",
    "model_3.add(MaxPooling2D((2, 2)))\n",
    "\n",
    "model_3.add(Conv2D(32, (3, 3), activation='relu'))\n",
    "model_3.add(Conv2D(32, (3, 3), activation='relu'))\n",
    "model_3.add(MaxPooling2D(2, 2))\n",
    "\n",
    "model_3.add(Conv2D(64, (3, 3), activation='relu'))\n",
    "model_3.add(Conv2D(64, (3, 3), activation='relu'))\n",
    "model_3.add(MaxPooling2D((2, 2)))\n",
    "\n",
    "model_3.add(Conv2D(64, (3, 3), activation='relu'))\n",
    "model_3.add(Conv2D(64, (3, 3), activation='relu'))\n",
    "model_3.add(MaxPooling2D((2, 2)))\n",
    "\n",
    "model_3.add(Conv2D(128, (3, 3), activation='relu'))\n",
    "model_3.add(Conv2D(128, (3, 3), activation='relu'))\n",
    "model_3.add(MaxPooling2D((2, 2)))\n",
    "\n",
    "model_3.add(Flatten())\n",
    "model_3.add(Dense(128, activation='relu'))\n",
    "model_3.add(Dense(64, activation='relu'))\n",
    "model_3.add(Dense(1, activation='sigmoid'))"
   ]
  },
  {
   "cell_type": "code",
   "execution_count": 55,
   "metadata": {},
   "outputs": [],
   "source": [
    "model_3.compile(loss='binary_crossentropy',\n",
    "                optimizer='RMSprop',\n",
    "                metrics=['acc'])"
   ]
  },
  {
   "cell_type": "code",
   "execution_count": null,
   "metadata": {},
   "outputs": [
    {
     "name": "stdout",
     "output_type": "stream",
     "text": [
      "Epoch 1/50\n",
      "131/131 [==============================] - 813s 6s/step - loss: 0.7009 - acc: 0.3320 - val_loss: 0.6978 - val_acc: 0.2241\n",
      "Epoch 2/50\n",
      "131/131 [==============================] - 803s 6s/step - loss: 0.7088 - acc: 0.3097 - val_loss: 0.7045 - val_acc: 0.2241\n",
      "Epoch 3/50\n",
      "131/131 [==============================] - 705s 5s/step - loss: 0.5202 - acc: 0.7658 - val_loss: 0.3116 - val_acc: 0.8534\n",
      "Epoch 4/50\n",
      "131/131 [==============================] - 1307s 10s/step - loss: 0.2849 - acc: 0.8814 - val_loss: 0.2244 - val_acc: 0.9215\n",
      "Epoch 5/50\n",
      "131/131 [==============================] - 691s 5s/step - loss: 0.2272 - acc: 0.9104 - val_loss: 0.1640 - val_acc: 0.9358\n",
      "Epoch 6/50\n",
      "131/131 [==============================] - 14427s 110s/step - loss: 0.1867 - acc: 0.9286 - val_loss: 0.3174 - val_acc: 0.8803\n",
      "Epoch 7/50\n",
      "131/131 [==============================] - 745s 6s/step - loss: 0.1649 - acc: 0.9403 - val_loss: 0.1008 - val_acc: 0.9665\n",
      "Epoch 8/50\n",
      " 63/131 [=============>................] - ETA: 5:23 - loss: 0.1279 - acc: 0.9469"
     ]
    }
   ],
   "source": [
    "results_3 = model_3.fit(train_images,\n",
    "                   train_labels,\n",
    "                   epochs=50,\n",
    "                   batch_size=32,\n",
    "                   validation_split=.2,\n",
    "                   class_weight=weights_dict,\n",
    "                   callbacks=[early_stopping])"
   ]
  },
  {
   "cell_type": "code",
   "execution_count": null,
   "metadata": {},
   "outputs": [],
   "source": [
    "eval_results(results_3)"
   ]
  }
 ],
 "metadata": {
  "kernelspec": {
   "display_name": "learn-env",
   "language": "python",
   "name": "learn-env"
  },
  "language_info": {
   "codemirror_mode": {
    "name": "ipython",
    "version": 3
   },
   "file_extension": ".py",
   "mimetype": "text/x-python",
   "name": "python",
   "nbconvert_exporter": "python",
   "pygments_lexer": "ipython3",
   "version": "3.6.9"
  },
  "toc": {
   "base_numbering": 1,
   "nav_menu": {},
   "number_sections": false,
   "sideBar": true,
   "skip_h1_title": false,
   "title_cell": "Table of Contents",
   "title_sidebar": "Contents",
   "toc_cell": false,
   "toc_position": {},
   "toc_section_display": true,
   "toc_window_display": false
  },
  "varInspector": {
   "cols": {
    "lenName": 16,
    "lenType": 16,
    "lenVar": 40
   },
   "kernels_config": {
    "python": {
     "delete_cmd_postfix": "",
     "delete_cmd_prefix": "del ",
     "library": "var_list.py",
     "varRefreshCmd": "print(var_dic_list())"
    },
    "r": {
     "delete_cmd_postfix": ") ",
     "delete_cmd_prefix": "rm(",
     "library": "var_list.r",
     "varRefreshCmd": "cat(var_dic_list()) "
    }
   },
   "types_to_exclude": [
    "module",
    "function",
    "builtin_function_or_method",
    "instance",
    "_Feature"
   ],
   "window_display": false
  }
 },
 "nbformat": 4,
 "nbformat_minor": 4
}
