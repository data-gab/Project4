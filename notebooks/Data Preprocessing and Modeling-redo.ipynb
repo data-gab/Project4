{
 "cells": [
  {
   "cell_type": "markdown",
   "metadata": {},
   "source": [
    "# Using Deep Learning to Detect Pneumonia from X-Rays\n",
    "\n",
    "<img src = '../images/x-rays.png'/>"
   ]
  },
  {
   "cell_type": "markdown",
   "metadata": {},
   "source": [
    "## Objectives\n",
    "***\n",
    "The objective of this analysis was to build a machine learning model that can detect whether or not a patient has pneumonia by classfiying X-ray images."
   ]
  },
  {
   "cell_type": "markdown",
   "metadata": {},
   "source": [
    "## Background Information \n",
    "***\n",
    "According to the [Mayo Clinic Website](https://www.mayoclinic.org/diseases-conditions/pneumonia/symptoms-causes/syc-20354204#:~:text=Pneumonia%20is%20an%20infection%20that,and%20fungi%2C%20can%20cause%20pneumonia.), \"Pneumonia is an infection that inflames the air sacs in one or both lungs. The air sacs may fill with fluid or pus (purulent material), causing cough with phlegm or pus, fever, chills, and difficulty breathing. A variety of organisms, including bacteria, viruses and fungi, can cause pneumonia. Pneumonia can range in seriousness from mild to life-threatening. It is most serious for infants and young children, people older than age 65, and people with health problems or weakened immune systems.\" \n",
    "\n",
    "<img src = '../images/pneumonia.png' />"
   ]
  },
  {
   "cell_type": "markdown",
   "metadata": {},
   "source": [
    "## Data Understanding\n",
    "***\n",
    "The x-ray images used for this analysis were obtained from Guangzhou Women and Children’s Medical Center, Guangzhou, China. These x-rays were obtained from pediatric patients ranging from the ages one to five as part of their normal routine care. All images that were of low quality or unreadable were removed and were reviews by three expert physicians for the purpose of AI analysis.\n",
    "\n",
    "The dataset was organized into 3 folders (test, training, and validation) and within each folders there were subfolders for each category (Pneumonia/Normal). In total there are 5,863 X-Ray images. The dataset was downloaded from the [Kaggle website](https://www.kaggle.com/paultimothymooney/chest-xray-pneumonia)."
   ]
  },
  {
   "cell_type": "markdown",
   "metadata": {},
   "source": [
    "## Preprocessing\n",
    "***\n",
    "For the preprocessing stage of this image classification task, I created data generators of training, testing, validation data using the Keras ImageDataGenerator function. I rescaled the images 1/255. I wanted the pixels for each image to be 128 X 128 so I put that in target_size. I made the class_mode parameter 'binary' since this is a binary problem. I set the batch_size according to the amount of images for each test, training, and validation set."
   ]
  },
  {
   "cell_type": "markdown",
   "metadata": {},
   "source": [
    "## Modeling\n",
    "***\n",
    "For this analysis, I created a binary CNN (Convolution Neural Network) to classify the X-Ray images. I used classification reports for the models to give me accuracy, loss, recall, precision, and F1 score metrics. I also built a pretrained VGG19 transfer learning to classify the X-Ray Images. You can learn more about VGG19 classification and detection [here](https://keras.io/api/applications/vgg/)."
   ]
  },
  {
   "cell_type": "markdown",
   "metadata": {},
   "source": [
    "# Data Preprocessing and Modeling"
   ]
  },
  {
   "cell_type": "code",
   "execution_count": 1,
   "metadata": {},
   "outputs": [],
   "source": [
    "# Import necessary libraries\n",
    "import pandas as pd\n",
    "import numpy as np\n",
    "import matplotlib.pyplot as plt\n",
    "%matplotlib inline\n",
    "\n",
    "import warnings\n",
    "warnings.filterwarnings('ignore')\n",
    "\n",
    "from sklearn.model_selection import train_test_split\n",
    "from sklearn.metrics import mean_squared_error\n",
    "from sklearn.model_selection import cross_val_predict\n",
    "from sklearn.metrics import classification_report\n",
    "from sklearn.metrics import confusion_matrix\n",
    "\n",
    "import itertools\n",
    "\n",
    "import keras\n",
    "from keras import layers\n",
    "from keras.models import Sequential\n",
    "from keras.layers import Dense\n",
    "\n",
    "from keras.preprocessing.image import ImageDataGenerator, array_to_img, img_to_array, load_img\n",
    "from keras import regularizers\n",
    "from keras.wrappers.scikit_learn import KerasRegressor\n",
    "from keras.layers import Convolution2D\n",
    "from keras.layers import MaxPooling2D\n",
    "from keras.layers import Flatten\n",
    "from keras.layers import Dense\n",
    "from keras.callbacks import EarlyStopping, ModelCheckpoint\n",
    "from keras import regularizers\n",
    "\n",
    "from keras.applications.vgg16 import preprocess_input\n",
    "from keras.applications.vgg16 import VGG16\n",
    "from keras.optimizers import Adam, Adadelta, Adagrad, SGD, RMSprop\n",
    "\n",
    "import os"
   ]
  },
  {
   "cell_type": "code",
   "execution_count": 2,
   "metadata": {},
   "outputs": [],
   "source": [
    "from tensorflow.random import set_seed\n",
    "set_seed(321)\n",
    "\n",
    "import numpy as np\n",
    "np.random.seed(123)"
   ]
  },
  {
   "cell_type": "markdown",
   "metadata": {},
   "source": [
    "***\n",
    "## Preprocessing"
   ]
  },
  {
   "cell_type": "markdown",
   "metadata": {},
   "source": [
    "### Create directory paths for image data"
   ]
  },
  {
   "cell_type": "code",
   "execution_count": 3,
   "metadata": {},
   "outputs": [],
   "source": [
    "data_train_dir = '../chest_xray/train/'\n",
    "data_test_dir = '../chest_xray/test/'\n",
    "data_val_dir = '../chest_xray/val/'"
   ]
  },
  {
   "cell_type": "code",
   "execution_count": 4,
   "metadata": {},
   "outputs": [],
   "source": [
    "train_dir_pneumonia = '../chest_xray/train/PNEUMONIA'\n",
    "train_dir_normal = '../chest_xray/train/NORMAL'\n",
    "test_dir_pneumonia = '../chest_xray/test/PNEUMONIA'\n",
    "test_dir_normal = '../chest_xray/test/NORMAL'\n",
    "val_dir_pneumonia = '../chest_xray/val/PNEUMONIA'\n",
    "val_dir_normal = '../chest_xray/val/NORMAL'"
   ]
  },
  {
   "cell_type": "code",
   "execution_count": 5,
   "metadata": {},
   "outputs": [
    {
     "name": "stdout",
     "output_type": "stream",
     "text": [
      "Train Pneumonia:  3875\n",
      "Train Normal:  1341\n",
      "Test Pneumonia:  390\n",
      "Test Normal:  234\n",
      "Val Pneumonia:  8\n",
      "Val Normal:  8\n"
     ]
    }
   ],
   "source": [
    "# Review image count\n",
    "print('Train Pneumonia: ', len(os.listdir(train_dir_pneumonia)))\n",
    "print('Train Normal: ', len(os.listdir(train_dir_normal)))\n",
    "print('Test Pneumonia: ', len(os.listdir(test_dir_pneumonia)))\n",
    "print('Test Normal: ', len(os.listdir(test_dir_normal)))\n",
    "print('Val Pneumonia: ', len(os.listdir(val_dir_pneumonia)))\n",
    "print('Val Normal: ', len(os.listdir(val_dir_normal)))"
   ]
  },
  {
   "cell_type": "markdown",
   "metadata": {},
   "source": [
    "### Create data generators\n",
    "Creating data generators of training, testing, validation data. I want the pixels for each image to be 128 X 128 so I put that in target_size. The class_mode is binary since this is a binary problem. I set the batch_size according to the image count above."
   ]
  },
  {
   "cell_type": "code",
   "execution_count": 6,
   "metadata": {},
   "outputs": [
    {
     "name": "stdout",
     "output_type": "stream",
     "text": [
      "Found 5216 images belonging to 2 classes.\n"
     ]
    }
   ],
   "source": [
    "train_generator = ImageDataGenerator(rescale = 1./255 ).flow_from_directory(data_train_dir,\n",
    "                                                                            target_size=(128,128),\n",
    "                                                                            batch_size=5216,\n",
    "                                                                            class_mode='binary',\n",
    "                                                                            seed=123)"
   ]
  },
  {
   "cell_type": "code",
   "execution_count": 7,
   "metadata": {},
   "outputs": [
    {
     "name": "stdout",
     "output_type": "stream",
     "text": [
      "Found 624 images belonging to 2 classes.\n"
     ]
    }
   ],
   "source": [
    "test_generator = ImageDataGenerator(rescale = 1./255 ).flow_from_directory(data_test_dir,\n",
    "                                                                            target_size=(128,128),\n",
    "                                                                            batch_size=624,\n",
    "                                                                            class_mode='binary',\n",
    "                                                                            seed=123)"
   ]
  },
  {
   "cell_type": "code",
   "execution_count": 8,
   "metadata": {},
   "outputs": [
    {
     "name": "stdout",
     "output_type": "stream",
     "text": [
      "Found 16 images belonging to 2 classes.\n"
     ]
    }
   ],
   "source": [
    "val_generator = ImageDataGenerator(rescale = 1./255 ).flow_from_directory(data_val_dir,\n",
    "                                                                            target_size=(128,128),\n",
    "                                                                            batch_size=16,\n",
    "                                                                            class_mode='binary',\n",
    "                                                                            seed=123)"
   ]
  },
  {
   "cell_type": "markdown",
   "metadata": {},
   "source": [
    "### Review Class Indices"
   ]
  },
  {
   "cell_type": "code",
   "execution_count": 9,
   "metadata": {},
   "outputs": [
    {
     "data": {
      "text/plain": [
       "{'NORMAL': 0, 'PNEUMONIA': 1}"
      ]
     },
     "execution_count": 9,
     "metadata": {},
     "output_type": "execute_result"
    }
   ],
   "source": [
    "train_generator.class_indices"
   ]
  },
  {
   "cell_type": "code",
   "execution_count": 10,
   "metadata": {},
   "outputs": [
    {
     "data": {
      "text/plain": [
       "{'NORMAL': 0, 'PNEUMONIA': 1}"
      ]
     },
     "execution_count": 10,
     "metadata": {},
     "output_type": "execute_result"
    }
   ],
   "source": [
    "test_generator.class_indices"
   ]
  },
  {
   "cell_type": "code",
   "execution_count": 11,
   "metadata": {},
   "outputs": [
    {
     "data": {
      "text/plain": [
       "{'NORMAL': 0, 'PNEUMONIA': 1}"
      ]
     },
     "execution_count": 11,
     "metadata": {},
     "output_type": "execute_result"
    }
   ],
   "source": [
    "val_generator.class_indices"
   ]
  },
  {
   "cell_type": "markdown",
   "metadata": {},
   "source": [
    "### Create datasets"
   ]
  },
  {
   "cell_type": "code",
   "execution_count": 12,
   "metadata": {},
   "outputs": [],
   "source": [
    "# use train_split_test instead\n",
    "from sklearn.model_selection import train_test_split"
   ]
  },
  {
   "cell_type": "code",
   "execution_count": 13,
   "metadata": {},
   "outputs": [],
   "source": [
    "train_images, train_labels = next(train_generator)\n",
    "test_images, test_labels = next(test_generator)\n",
    "val_images, val_labels = next(val_generator)"
   ]
  },
  {
   "cell_type": "code",
   "execution_count": 14,
   "metadata": {},
   "outputs": [],
   "source": [
    "index = np.arange(0, test_images.shape[0])"
   ]
  },
  {
   "cell_type": "code",
   "execution_count": 17,
   "metadata": {},
   "outputs": [],
   "source": [
    "n_valimages = round(test_images.shape[0]*0.2)"
   ]
  },
  {
   "cell_type": "code",
   "execution_count": 18,
   "metadata": {},
   "outputs": [
    {
     "data": {
      "text/plain": [
       "125"
      ]
     },
     "execution_count": 18,
     "metadata": {},
     "output_type": "execute_result"
    }
   ],
   "source": [
    "val_index = np.random.choice(index, n_valimages, replace=False)\n",
    "len(val_index)"
   ]
  },
  {
   "cell_type": "code",
   "execution_count": 19,
   "metadata": {},
   "outputs": [
    {
     "data": {
      "text/plain": [
       "array([176, 326, 483, 402, 353, 557,  78, 444,  57, 261])"
      ]
     },
     "execution_count": 19,
     "metadata": {},
     "output_type": "execute_result"
    }
   ],
   "source": [
    "val_index[:10]"
   ]
  },
  {
   "cell_type": "code",
   "execution_count": 27,
   "metadata": {},
   "outputs": [
    {
     "data": {
      "text/plain": [
       "499"
      ]
     },
     "execution_count": 27,
     "metadata": {},
     "output_type": "execute_result"
    }
   ],
   "source": [
    "test_index = [i for i in index if i not in val_index]\n",
    "len(test_index)"
   ]
  },
  {
   "cell_type": "code",
   "execution_count": 28,
   "metadata": {},
   "outputs": [
    {
     "data": {
      "text/plain": [
       "((125, 128, 128, 3), (499, 128, 128, 3))"
      ]
     },
     "execution_count": 28,
     "metadata": {},
     "output_type": "execute_result"
    }
   ],
   "source": [
    "X_val_split = test_images[val_index]\n",
    "y_val_split = test_labels[val_index]\n",
    "\n",
    "X_test_split = test_images[test_index]\n",
    "y_test_split = test_labels[test_index]\n",
    "\n",
    "X_val_split.shape, X_test_split.shape"
   ]
  },
  {
   "cell_type": "code",
   "execution_count": 39,
   "metadata": {},
   "outputs": [
    {
     "data": {
      "text/plain": [
       "(16, 128, 128, 3)"
      ]
     },
     "execution_count": 39,
     "metadata": {},
     "output_type": "execute_result"
    }
   ],
   "source": [
    "val_images.shape"
   ]
  },
  {
   "cell_type": "code",
   "execution_count": 40,
   "metadata": {},
   "outputs": [
    {
     "data": {
      "text/plain": [
       "(5216, 128, 128, 3)"
      ]
     },
     "execution_count": 40,
     "metadata": {},
     "output_type": "execute_result"
    }
   ],
   "source": [
    "train_images.shape"
   ]
  },
  {
   "cell_type": "markdown",
   "metadata": {},
   "source": [
    "### Review image shapes "
   ]
  },
  {
   "cell_type": "code",
   "execution_count": 29,
   "metadata": {
    "scrolled": true
   },
   "outputs": [
    {
     "name": "stdout",
     "output_type": "stream",
     "text": [
      "Train Images Shape: (5216, 128, 128, 3)\n",
      "Train Labels Shape: (5216,)\n",
      "Test Images Shape: (624, 128, 128, 3)\n",
      "Test Labels Shape: (624,)\n",
      "Validation Images Shape: (16, 128, 128, 3)\n",
      "Validation Labels Shape: (16,)\n"
     ]
    }
   ],
   "source": [
    "print('Train Images Shape:', np.shape(train_images))\n",
    "print('Train Labels Shape:', np.shape(train_labels))\n",
    "print('Test Images Shape:' , np.shape(test_images))\n",
    "print('Test Labels Shape:' , np.shape(test_labels))\n",
    "print('Validation Images Shape:', np.shape(val_images))\n",
    "print('Validation Labels Shape:', np.shape(val_labels))"
   ]
  },
  {
   "cell_type": "markdown",
   "metadata": {},
   "source": [
    "***\n",
    "## Modeling"
   ]
  },
  {
   "cell_type": "markdown",
   "metadata": {},
   "source": [
    "### Baseline model: 3 Convolution layes, 3 max pooling layers, and 1 fully connected layer"
   ]
  },
  {
   "cell_type": "code",
   "execution_count": 30,
   "metadata": {},
   "outputs": [],
   "source": [
    "input_shape = (128, 128, 3)"
   ]
  },
  {
   "cell_type": "code",
   "execution_count": 31,
   "metadata": {},
   "outputs": [],
   "source": [
    "from tensorflow.keras import models, layers, optimizers, regularizers\n",
    "from tensorflow.keras.layers import Conv2D, MaxPooling2D, Flatten, Dense, Dropout\n",
    "\n",
    "baseline_model = models.Sequential()\n",
    "\n",
    "baseline_model.add(Conv2D(32, (3, 3), activation='relu',\n",
    "                    input_shape=input_shape))\n",
    "\n",
    "baseline_model.add(MaxPooling2D((2, 2)))\n",
    "\n",
    "baseline_model.add(Conv2D(32, (3, 3), activation='relu'))\n",
    "baseline_model.add(MaxPooling2D(2, 2))\n",
    "\n",
    "baseline_model.add(Conv2D(64, (3, 3), activation='relu'))\n",
    "baseline_model.add(MaxPooling2D((2, 2)))\n",
    "\n",
    "baseline_model.add(Flatten())\n",
    "baseline_model.add(Dense(64, activation='relu'))\n",
    "baseline_model.add(Dense(1, activation='sigmoid'))"
   ]
  },
  {
   "cell_type": "code",
   "execution_count": 32,
   "metadata": {},
   "outputs": [],
   "source": [
    "baseline_model.compile(loss='binary_crossentropy',\n",
    "                optimizer='adam',\n",
    "                metrics=['acc'])"
   ]
  },
  {
   "cell_type": "code",
   "execution_count": 33,
   "metadata": {},
   "outputs": [
    {
     "name": "stdout",
     "output_type": "stream",
     "text": [
      "Model: \"sequential\"\n",
      "_________________________________________________________________\n",
      "Layer (type)                 Output Shape              Param #   \n",
      "=================================================================\n",
      "conv2d (Conv2D)              (None, 126, 126, 32)      896       \n",
      "_________________________________________________________________\n",
      "max_pooling2d (MaxPooling2D) (None, 63, 63, 32)        0         \n",
      "_________________________________________________________________\n",
      "conv2d_1 (Conv2D)            (None, 61, 61, 32)        9248      \n",
      "_________________________________________________________________\n",
      "max_pooling2d_1 (MaxPooling2 (None, 30, 30, 32)        0         \n",
      "_________________________________________________________________\n",
      "conv2d_2 (Conv2D)            (None, 28, 28, 64)        18496     \n",
      "_________________________________________________________________\n",
      "max_pooling2d_2 (MaxPooling2 (None, 14, 14, 64)        0         \n",
      "_________________________________________________________________\n",
      "flatten (Flatten)            (None, 12544)             0         \n",
      "_________________________________________________________________\n",
      "dense (Dense)                (None, 64)                802880    \n",
      "_________________________________________________________________\n",
      "dense_1 (Dense)              (None, 1)                 65        \n",
      "=================================================================\n",
      "Total params: 831,585\n",
      "Trainable params: 831,585\n",
      "Non-trainable params: 0\n",
      "_________________________________________________________________\n"
     ]
    }
   ],
   "source": [
    "baseline_model.summary()"
   ]
  },
  {
   "cell_type": "code",
   "execution_count": 44,
   "metadata": {},
   "outputs": [
    {
     "name": "stdout",
     "output_type": "stream",
     "text": [
      "Epoch 1/25\n",
      "105/105 [==============================] - 89s 852ms/step - loss: 7.8512e-06 - acc: 1.0000 - val_loss: 5.3729 - val_acc: 0.7040\n",
      "Epoch 2/25\n",
      "105/105 [==============================] - 78s 741ms/step - loss: 7.3553e-06 - acc: 1.0000 - val_loss: 5.4848 - val_acc: 0.6960\n",
      "Epoch 3/25\n",
      "105/105 [==============================] - 79s 757ms/step - loss: 6.8059e-06 - acc: 1.0000 - val_loss: 5.4279 - val_acc: 0.7040\n",
      "Epoch 4/25\n",
      "105/105 [==============================] - 73s 698ms/step - loss: 6.3691e-06 - acc: 1.0000 - val_loss: 5.4763 - val_acc: 0.7040\n",
      "Epoch 5/25\n",
      "105/105 [==============================] - 77s 731ms/step - loss: 5.8824e-06 - acc: 1.0000 - val_loss: 5.5964 - val_acc: 0.6960\n",
      "Epoch 6/25\n",
      "105/105 [==============================] - 78s 739ms/step - loss: 5.5329e-06 - acc: 1.0000 - val_loss: 5.6207 - val_acc: 0.6960\n",
      "Epoch 7/25\n",
      "105/105 [==============================] - 76s 722ms/step - loss: 5.2211e-06 - acc: 1.0000 - val_loss: 5.5726 - val_acc: 0.6960\n",
      "Epoch 8/25\n",
      "105/105 [==============================] - 74s 705ms/step - loss: 4.8643e-06 - acc: 1.0000 - val_loss: 5.6914 - val_acc: 0.6960\n",
      "Epoch 9/25\n",
      "105/105 [==============================] - 75s 715ms/step - loss: 4.5187e-06 - acc: 1.0000 - val_loss: 5.6173 - val_acc: 0.6960\n",
      "Epoch 10/25\n",
      "105/105 [==============================] - 74s 703ms/step - loss: 4.3626e-06 - acc: 1.0000 - val_loss: 5.7041 - val_acc: 0.6960\n",
      "Epoch 11/25\n",
      "105/105 [==============================] - 77s 732ms/step - loss: 4.0406e-06 - acc: 1.0000 - val_loss: 5.7034 - val_acc: 0.6960\n",
      "Epoch 12/25\n",
      "105/105 [==============================] - 74s 703ms/step - loss: 3.7158e-06 - acc: 1.0000 - val_loss: 5.7078 - val_acc: 0.6960\n",
      "Epoch 13/25\n",
      "105/105 [==============================] - 74s 706ms/step - loss: 3.5463e-06 - acc: 1.0000 - val_loss: 5.8051 - val_acc: 0.6960\n",
      "Epoch 14/25\n",
      "105/105 [==============================] - 86s 815ms/step - loss: 3.3162e-06 - acc: 1.0000 - val_loss: 5.8486 - val_acc: 0.6960\n",
      "Epoch 15/25\n",
      "105/105 [==============================] - 76s 720ms/step - loss: 3.1257e-06 - acc: 1.0000 - val_loss: 5.8453 - val_acc: 0.6960\n",
      "Epoch 16/25\n",
      "105/105 [==============================] - 72s 688ms/step - loss: 2.9034e-06 - acc: 1.0000 - val_loss: 5.9141 - val_acc: 0.6960\n",
      "Epoch 17/25\n",
      "105/105 [==============================] - 87s 830ms/step - loss: 2.7300e-06 - acc: 1.0000 - val_loss: 5.8541 - val_acc: 0.7040\n",
      "Epoch 18/25\n",
      "105/105 [==============================] - 84s 803ms/step - loss: 2.5661e-06 - acc: 1.0000 - val_loss: 5.9530 - val_acc: 0.6960\n",
      "Epoch 19/25\n",
      "105/105 [==============================] - 113s 1s/step - loss: 2.4578e-06 - acc: 1.0000 - val_loss: 5.9231 - val_acc: 0.7040\n",
      "Epoch 20/25\n",
      "105/105 [==============================] - 78s 747ms/step - loss: 2.2959e-06 - acc: 1.0000 - val_loss: 5.9665 - val_acc: 0.7040\n",
      "Epoch 21/25\n",
      "105/105 [==============================] - 77s 732ms/step - loss: 2.1587e-06 - acc: 1.0000 - val_loss: 6.0042 - val_acc: 0.7040\n",
      "Epoch 22/25\n",
      "105/105 [==============================] - 79s 755ms/step - loss: 2.0408e-06 - acc: 1.0000 - val_loss: 5.9666 - val_acc: 0.7120\n",
      "Epoch 23/25\n",
      "105/105 [==============================] - 78s 738ms/step - loss: 1.9068e-06 - acc: 1.0000 - val_loss: 6.0882 - val_acc: 0.6960\n",
      "Epoch 24/25\n",
      "105/105 [==============================] - 76s 729ms/step - loss: 1.7989e-06 - acc: 1.0000 - val_loss: 6.1072 - val_acc: 0.6960\n",
      "Epoch 25/25\n",
      "105/105 [==============================] - 85s 812ms/step - loss: 1.6863e-06 - acc: 1.0000 - val_loss: 6.0685 - val_acc: 0.7120\n"
     ]
    }
   ],
   "source": [
    "# try bumping batch size to 64\n",
    "base_history = baseline_model.fit(train_images,\n",
    "                       train_labels,\n",
    "                       epochs=25,\n",
    "                       batch_size=50,\n",
    "                       validation_data=(X_val_split, y_val_split))\n",
    "                        #validation_split=0.2)"
   ]
  },
  {
   "cell_type": "code",
   "execution_count": 75,
   "metadata": {},
   "outputs": [],
   "source": [
    "import seaborn as sns\n",
    "def eval_results(results):\n",
    "    '''This function will create accuracy and loss graphs,\n",
    "    confusion matrix, and print out classification report'''\n",
    "    history = results.history\n",
    "    plt.figure()\n",
    "    plt.plot(history['loss'])\n",
    "    plt.plot(history['val_loss'])\n",
    "    plt.legend(['loss', 'val_loss'])\n",
    "    plt.title('Loss')\n",
    "    plt.xlabel('Epochs')\n",
    "    plt.ylabel('Loss')\n",
    "    plt.show()\n",
    "\n",
    "    plt.figure()\n",
    "    plt.plot(history['acc'])\n",
    "    plt.plot(history['val_acc'])\n",
    "    plt.legend(['acc', 'val_acc'])\n",
    "    plt.title('Accuracy')\n",
    "    plt.xlabel('Epochs')\n",
    "    plt.ylabel('Accuracy')\n",
    "    plt.show()\n",
    "\n",
    "    y_hat_test = results.model.predict(test_images)\n",
    "    thresh = 0.5\n",
    "    y_pred = y_hat_test.round()\n",
    "    #y_pred = (y_hat_test < thresh).astype(np.int)\n",
    "    y_true = test_labels.astype(np.int)\n",
    "    cm = confusion_matrix(y_true, y_pred)\n",
    "    sns.heatmap(cm, annot=True, cmap='Blues', fmt='0.5g')\n",
    "    plt.xlabel('Predictions')\n",
    "    plt.ylabel('Actuals')\n",
    "    plt.title('Model Confusion Matrix')\n",
    "    plt.show()\n",
    "    print('\\n')\n",
    "\n",
    "    print(classification_report(y_true, y_pred))\n",
    "    print('\\n')\n",
    "\n",
    "    test_loss, test_acc = results.model.evaluate(test_images, test_labels)\n",
    "    print(f'Test Loss: {test_loss}')\n",
    "    print(f'Test Acc: {test_acc}')\n",
    "    "
   ]
  },
  {
   "cell_type": "code",
   "execution_count": 47,
   "metadata": {},
   "outputs": [
    {
     "data": {
      "image/png": "[encoded data removed]",
      "text/plain": [
       "<Figure size 432x288 with 1 Axes>"
      ]
     },
     "metadata": {
      "needs_background": "light"
     },
     "output_type": "display_data"
    },
    {
     "data": {
      "image/png": "[encoded data removed]",
      "text/plain": [
       "<Figure size 432x288 with 1 Axes>"
      ]
     },
     "metadata": {
      "needs_background": "light"
     },
     "output_type": "display_data"
    },
    {
     "data": {
      "image/png": "[encoded data removed]",
      "text/plain": [
       "<Figure size 432x288 with 2 Axes>"
      ]
     },
     "metadata": {
      "needs_background": "light"
     },
     "output_type": "display_data"
    },
    {
     "name": "stdout",
     "output_type": "stream",
     "text": [
      "\n",
      "\n",
      "              precision    recall  f1-score   support\n",
      "\n",
      "           0       0.98      0.36      0.53       234\n",
      "           1       0.72      0.99      0.84       390\n",
      "\n",
      "    accuracy                           0.76       624\n",
      "   macro avg       0.85      0.68      0.68       624\n",
      "weighted avg       0.82      0.76      0.72       624\n",
      "\n",
      "\n",
      "\n",
      "20/20 [==============================] - 3s 154ms/step - loss: 4.9216 - acc: 0.7580\n",
      "Test Loss: 4.921589374542236\n",
      "Test Acc: 0.7580128312110901\n"
     ]
    }
   ],
   "source": [
    "eval_results(base_history)"
   ]
  },
  {
   "cell_type": "markdown",
   "metadata": {},
   "source": [
    "### Model 2: Looking at class imbalance, use early stopping, increase epochs"
   ]
  },
  {
   "cell_type": "code",
   "execution_count": 48,
   "metadata": {},
   "outputs": [
    {
     "data": {
      "image/png": "[encoded data removed]",
      "text/plain": [
       "<Figure size 432x288 with 1 Axes>"
      ]
     },
     "metadata": {
      "needs_background": "light"
     },
     "output_type": "display_data"
    }
   ],
   "source": [
    "# Review training data class imbalance\n",
    "#sns.countplot\n",
    "sns.distplot(train_labels)\n",
    "plt.title('Class Imbalance in Training Data')\n",
    "plt.show()"
   ]
  },
  {
   "cell_type": "code",
   "execution_count": 76,
   "metadata": {},
   "outputs": [
    {
     "data": {
      "image/png": "[encoded data removed]",
      "text/plain": [
       "<Figure size 432x288 with 1 Axes>"
      ]
     },
     "metadata": {
      "needs_background": "light"
     },
     "output_type": "display_data"
    }
   ],
   "source": [
    "sns.countplot(train_labels)\n",
    "plt.title('Class Imbalance in Training Data')\n",
    "plt.show()"
   ]
  },
  {
   "cell_type": "code",
   "execution_count": 49,
   "metadata": {},
   "outputs": [
    {
     "data": {
      "text/plain": [
       "{0.0: 1.9448173005219984, 1.0: 0.6730322580645162}"
      ]
     },
     "execution_count": 49,
     "metadata": {},
     "output_type": "execute_result"
    }
   ],
   "source": [
    "from sklearn.utils.class_weight import compute_class_weight\n",
    "weights = compute_class_weight('balanced', np.unique(train_labels), train_labels)\n",
    "weights_dict = dict(zip(np.unique(train_labels), weights))\n",
    "weights_dict"
   ]
  },
  {
   "cell_type": "code",
   "execution_count": 50,
   "metadata": {},
   "outputs": [],
   "source": [
    "# Use early stopping and reduce learning rate \n",
    "from tensorflow.keras.callbacks import ModelCheckpoint, EarlyStopping, ReduceLROnPlateau\n",
    "early_stopping = EarlyStopping(monitor='val_loss', mode='min', patience=5)\n",
    "lr = ReduceLROnPlateau(monitor='val_loss', factor=0.5, patience=5)\n",
    "callbacks = [early_stopping, lr]"
   ]
  },
  {
   "cell_type": "code",
   "execution_count": 51,
   "metadata": {},
   "outputs": [],
   "source": [
    "model_2 = models.Sequential()\n",
    "\n",
    "model_2.add(Conv2D(32, (3, 3), activation='relu',\n",
    "                    input_shape=input_shape))\n",
    "model_2.add(MaxPooling2D((2, 2)))\n",
    "\n",
    "model_2.add(Conv2D(32, (3, 3), activation='relu'))\n",
    "model_2.add(MaxPooling2D(2, 2))\n",
    "\n",
    "model_2.add(Conv2D(64, (3, 3), activation='relu'))\n",
    "model_2.add(MaxPooling2D((2, 2)))\n",
    "\n",
    "model_2.add(Flatten())\n",
    "model_2.add(Dense(64, activation='relu'))\n",
    "model_2.add(Dense(1, activation='sigmoid'))"
   ]
  },
  {
   "cell_type": "code",
   "execution_count": 52,
   "metadata": {},
   "outputs": [],
   "source": [
    "model_2.compile(loss='binary_crossentropy',\n",
    "                optimizer='adam',\n",
    "                metrics=['acc'])"
   ]
  },
  {
   "cell_type": "code",
   "execution_count": 53,
   "metadata": {},
   "outputs": [
    {
     "name": "stdout",
     "output_type": "stream",
     "text": [
      "Model: \"sequential_1\"\n",
      "_________________________________________________________________\n",
      "Layer (type)                 Output Shape              Param #   \n",
      "=================================================================\n",
      "conv2d_3 (Conv2D)            (None, 126, 126, 32)      896       \n",
      "_________________________________________________________________\n",
      "max_pooling2d_3 (MaxPooling2 (None, 63, 63, 32)        0         \n",
      "_________________________________________________________________\n",
      "conv2d_4 (Conv2D)            (None, 61, 61, 32)        9248      \n",
      "_________________________________________________________________\n",
      "max_pooling2d_4 (MaxPooling2 (None, 30, 30, 32)        0         \n",
      "_________________________________________________________________\n",
      "conv2d_5 (Conv2D)            (None, 28, 28, 64)        18496     \n",
      "_________________________________________________________________\n",
      "max_pooling2d_5 (MaxPooling2 (None, 14, 14, 64)        0         \n",
      "_________________________________________________________________\n",
      "flatten_1 (Flatten)          (None, 12544)             0         \n",
      "_________________________________________________________________\n",
      "dense_2 (Dense)              (None, 64)                802880    \n",
      "_________________________________________________________________\n",
      "dense_3 (Dense)              (None, 1)                 65        \n",
      "=================================================================\n",
      "Total params: 831,585\n",
      "Trainable params: 831,585\n",
      "Non-trainable params: 0\n",
      "_________________________________________________________________\n"
     ]
    }
   ],
   "source": [
    "model_2.summary()"
   ]
  },
  {
   "cell_type": "code",
   "execution_count": 54,
   "metadata": {},
   "outputs": [
    {
     "name": "stdout",
     "output_type": "stream",
     "text": [
      "Epoch 1/50\n",
      "150/150 [==============================] - 93s 618ms/step - loss: 0.3474 - acc: 0.8478 - val_loss: 0.3767 - val_acc: 0.8400\n",
      "Epoch 2/50\n",
      "150/150 [==============================] - 75s 499ms/step - loss: 0.1206 - acc: 0.9546 - val_loss: 1.3797 - val_acc: 0.6640\n",
      "Epoch 3/50\n",
      "150/150 [==============================] - 78s 522ms/step - loss: 0.1133 - acc: 0.9582 - val_loss: 0.4594 - val_acc: 0.8400\n",
      "Epoch 4/50\n",
      "150/150 [==============================] - 72s 482ms/step - loss: 0.0843 - acc: 0.9680 - val_loss: 0.7449 - val_acc: 0.7520\n",
      "Epoch 5/50\n",
      "150/150 [==============================] - 73s 486ms/step - loss: 0.0811 - acc: 0.9678 - val_loss: 1.6090 - val_acc: 0.6720\n",
      "Epoch 6/50\n",
      "150/150 [==============================] - 71s 474ms/step - loss: 0.0813 - acc: 0.9703 - val_loss: 0.5554 - val_acc: 0.8000\n"
     ]
    }
   ],
   "source": [
    "results2 = model_2.fit(train_images,\n",
    "                   train_labels,\n",
    "                   epochs=50,\n",
    "                   batch_size=35,\n",
    "                       validation_data=(X_val_split, y_val_split),\n",
    "                   #validation_data=(val_images, val_labels),\n",
    "                    #validation_split=0.2,\n",
    "                   class_weight=weights_dict,\n",
    "                   callbacks=callbacks)"
   ]
  },
  {
   "cell_type": "code",
   "execution_count": 55,
   "metadata": {},
   "outputs": [
    {
     "data": {
      "image/png": "[encoded data removed]",
      "text/plain": [
       "<Figure size 432x288 with 1 Axes>"
      ]
     },
     "metadata": {
      "needs_background": "light"
     },
     "output_type": "display_data"
    },
    {
     "data": {
      "image/png": "[encoded data removed]",
      "text/plain": [
       "<Figure size 432x288 with 1 Axes>"
      ]
     },
     "metadata": {
      "needs_background": "light"
     },
     "output_type": "display_data"
    },
    {
     "data": {
      "image/png": "[encoded data removed]",
      "text/plain": [
       "<Figure size 432x288 with 2 Axes>"
      ]
     },
     "metadata": {
      "needs_background": "light"
     },
     "output_type": "display_data"
    },
    {
     "name": "stdout",
     "output_type": "stream",
     "text": [
      "\n",
      "\n",
      "              precision    recall  f1-score   support\n",
      "\n",
      "           0       0.95      0.61      0.74       234\n",
      "           1       0.81      0.98      0.89       390\n",
      "\n",
      "    accuracy                           0.84       624\n",
      "   macro avg       0.88      0.79      0.81       624\n",
      "weighted avg       0.86      0.84      0.83       624\n",
      "\n",
      "\n",
      "\n",
      "20/20 [==============================] - 3s 131ms/step - loss: 0.5018 - acc: 0.8413\n",
      "Test Loss: 0.5017794370651245\n",
      "Test Acc: 0.8413461446762085\n"
     ]
    }
   ],
   "source": [
    "eval_results(results2)"
   ]
  },
  {
   "cell_type": "markdown",
   "metadata": {},
   "source": [
    "### Model 3: more layers"
   ]
  },
  {
   "cell_type": "code",
   "execution_count": 56,
   "metadata": {
    "scrolled": true
   },
   "outputs": [],
   "source": [
    "model_3 = models.Sequential()\n",
    "\n",
    "model_3.add(Conv2D(32, (3, 3), activation='relu', input_shape=input_shape))\n",
    "\n",
    "model_3.add(Conv2D(32, (3, 3), activation='relu'))\n",
    "model_3.add(MaxPooling2D((2, 2)))\n",
    "\n",
    "model_3.add(Conv2D(32, (3, 3), activation='relu'))\n",
    "model_3.add(Conv2D(32, (3, 3), activation='relu'))\n",
    "model_3.add(MaxPooling2D(2, 2))\n",
    "\n",
    "model_3.add(Conv2D(64, (3, 3), activation='relu'))\n",
    "model_3.add(Conv2D(64, (3, 3), activation='relu'))\n",
    "model_3.add(MaxPooling2D((2, 2)))\n",
    "\n",
    "# cut out below\n",
    "# model_3.add(Conv2D(64, (3, 3), activation='relu'))\n",
    "# model_3.add(Conv2D(64, (3, 3), activation='relu'))\n",
    "# model_3.add(MaxPooling2D((2, 2)))\n",
    "\n",
    "#cut out below\n",
    "# model_3.add(Conv2D(128, (3, 3), activation='relu'))\n",
    "# model_3.add(Conv2D(128, (3, 3), activation='relu', data_format='channels_first'))\n",
    "# model_3.add(MaxPooling2D((2, 2)))\n",
    "\n",
    "model_3.add(Flatten())\n",
    "model_3.add(Dense(128, activation='relu'))\n",
    "model_3.add(Dense(64, activation='relu'))\n",
    "model_3.add(Dense(1, activation='sigmoid'))"
   ]
  },
  {
   "cell_type": "code",
   "execution_count": 57,
   "metadata": {},
   "outputs": [],
   "source": [
    "model_3.compile(loss='binary_crossentropy',\n",
    "                optimizer='RMSprop',\n",
    "                metrics=['acc'])"
   ]
  },
  {
   "cell_type": "code",
   "execution_count": 58,
   "metadata": {},
   "outputs": [
    {
     "name": "stdout",
     "output_type": "stream",
     "text": [
      "Epoch 1/50\n",
      "163/163 [==============================] - 202s 1s/step - loss: 0.6729 - acc: 0.7212 - val_loss: 0.5547 - val_acc: 0.7500\n",
      "Epoch 2/50\n",
      "163/163 [==============================] - 199s 1s/step - loss: 0.2509 - acc: 0.9022 - val_loss: 0.4378 - val_acc: 0.8750\n",
      "Epoch 3/50\n",
      "163/163 [==============================] - 203s 1s/step - loss: 0.1831 - acc: 0.9346 - val_loss: 0.3116 - val_acc: 0.8750\n",
      "Epoch 4/50\n",
      "163/163 [==============================] - 200s 1s/step - loss: 0.1589 - acc: 0.9465 - val_loss: 0.2378 - val_acc: 0.9375\n",
      "Epoch 5/50\n",
      "163/163 [==============================] - 198s 1s/step - loss: 0.1137 - acc: 0.9572 - val_loss: 0.0473 - val_acc: 1.0000\n",
      "Epoch 6/50\n",
      "163/163 [==============================] - 199s 1s/step - loss: 0.1084 - acc: 0.9653 - val_loss: 0.1905 - val_acc: 0.9375\n",
      "Epoch 7/50\n",
      "163/163 [==============================] - 213s 1s/step - loss: 0.1081 - acc: 0.9701 - val_loss: 0.1790 - val_acc: 0.9375\n",
      "Epoch 8/50\n",
      "163/163 [==============================] - 208s 1s/step - loss: 0.0909 - acc: 0.9741 - val_loss: 0.0328 - val_acc: 1.0000\n",
      "Epoch 9/50\n",
      "163/163 [==============================] - 205s 1s/step - loss: 0.0732 - acc: 0.9737 - val_loss: 0.4887 - val_acc: 0.7500\n",
      "Epoch 10/50\n",
      "163/163 [==============================] - 202s 1s/step - loss: 0.0792 - acc: 0.9728 - val_loss: 0.1487 - val_acc: 0.9375\n",
      "Epoch 11/50\n",
      "163/163 [==============================] - 205s 1s/step - loss: 0.0761 - acc: 0.9803 - val_loss: 0.0148 - val_acc: 1.0000\n",
      "Epoch 12/50\n",
      "163/163 [==============================] - 205s 1s/step - loss: 0.0603 - acc: 0.9826 - val_loss: 0.2053 - val_acc: 0.9375\n",
      "Epoch 13/50\n",
      "163/163 [==============================] - 205s 1s/step - loss: 0.0673 - acc: 0.9789 - val_loss: 0.0607 - val_acc: 1.0000\n",
      "Epoch 14/50\n",
      "163/163 [==============================] - 209s 1s/step - loss: 0.0531 - acc: 0.9831 - val_loss: 0.0349 - val_acc: 1.0000\n",
      "Epoch 15/50\n",
      "163/163 [==============================] - 205s 1s/step - loss: 0.0713 - acc: 0.9845 - val_loss: 0.0331 - val_acc: 1.0000\n",
      "Epoch 16/50\n",
      "163/163 [==============================] - 218s 1s/step - loss: 0.0710 - acc: 0.9864 - val_loss: 0.0092 - val_acc: 1.0000\n",
      "Epoch 17/50\n",
      "163/163 [==============================] - 204s 1s/step - loss: 0.0922 - acc: 0.9881 - val_loss: 0.3563 - val_acc: 0.8750\n",
      "Epoch 18/50\n",
      "163/163 [==============================] - 201s 1s/step - loss: 0.0634 - acc: 0.9896 - val_loss: 0.0592 - val_acc: 0.9375\n",
      "Epoch 19/50\n",
      "163/163 [==============================] - 202s 1s/step - loss: 0.0463 - acc: 0.9902 - val_loss: 0.1445 - val_acc: 0.9375\n",
      "Epoch 20/50\n",
      "163/163 [==============================] - 204s 1s/step - loss: 0.0968 - acc: 0.9937 - val_loss: 0.3412 - val_acc: 0.8750\n",
      "Epoch 21/50\n",
      "163/163 [==============================] - 208s 1s/step - loss: 0.0512 - acc: 0.9906 - val_loss: 0.8982 - val_acc: 0.7500\n"
     ]
    }
   ],
   "source": [
    "results_3 = model_3.fit(train_images,\n",
    "                   train_labels,\n",
    "                   epochs=50,\n",
    "                   batch_size=32,\n",
    "                   validation_data=(val_images, val_labels),     \n",
    "                   #validation_split=0.2,\n",
    "                    class_weight=weights_dict,\n",
    "                   callbacks=[early_stopping])\n"
   ]
  },
  {
   "cell_type": "code",
   "execution_count": 59,
   "metadata": {},
   "outputs": [
    {
     "data": {
      "image/png": "[encoded data removed]",
      "text/plain": [
       "<Figure size 432x288 with 1 Axes>"
      ]
     },
     "metadata": {
      "needs_background": "light"
     },
     "output_type": "display_data"
    },
    {
     "data": {
      "image/png": "[encoded data removed]",
      "text/plain": [
       "<Figure size 432x288 with 1 Axes>"
      ]
     },
     "metadata": {
      "needs_background": "light"
     },
     "output_type": "display_data"
    },
    {
     "data": {
      "image/png": "[encoded data removed]",
      "text/plain": [
       "<Figure size 432x288 with 2 Axes>"
      ]
     },
     "metadata": {
      "needs_background": "light"
     },
     "output_type": "display_data"
    },
    {
     "name": "stdout",
     "output_type": "stream",
     "text": [
      "\n",
      "\n",
      "              precision    recall  f1-score   support\n",
      "\n",
      "           0       1.00      0.37      0.54       234\n",
      "           1       0.73      1.00      0.84       390\n",
      "\n",
      "    accuracy                           0.76       624\n",
      "   macro avg       0.86      0.69      0.69       624\n",
      "weighted avg       0.83      0.76      0.73       624\n",
      "\n",
      "\n",
      "\n",
      "20/20 [==============================] - 6s 285ms/step - loss: 1.4644 - acc: 0.7644\n",
      "Test Loss: 1.4643977880477905\n",
      "Test Acc: 0.7644230723381042\n"
     ]
    }
   ],
   "source": [
    "eval_results(results_3)"
   ]
  },
  {
   "cell_type": "markdown",
   "metadata": {},
   "source": [
    "### Model 4: deeper model"
   ]
  },
  {
   "cell_type": "code",
   "execution_count": 60,
   "metadata": {},
   "outputs": [],
   "source": [
    "model_4 = models.Sequential()\n",
    "\n",
    "model_4.add(Conv2D(32, (3, 3), activation='relu',\n",
    "                    input_shape=input_shape))\n",
    "model_4.add(Conv2D(32, (3, 3), activation='relu'))\n",
    "model_4.add(MaxPooling2D((2, 2)))\n",
    "\n",
    "model_4.add(Conv2D(32, (3, 3), activation='relu'))\n",
    "model_4.add(Conv2D(32, (3, 3), activation='relu'))\n",
    "model_4.add(MaxPooling2D(2, 2))\n",
    "\n",
    "model_4.add(Conv2D(64, (3, 3), activation='relu'))\n",
    "model_4.add(Conv2D(64, (3, 3), activation='relu'))\n",
    "model_4.add(MaxPooling2D((2, 2)))\n",
    "\n",
    "model_4.add(Conv2D(64, (3, 3), activation='relu'))\n",
    "model_4.add(Conv2D(64, (3, 3), activation='relu'))\n",
    "model_4.add(MaxPooling2D((2, 2)))\n",
    "\n",
    "model_4.add(Flatten())\n",
    "model_4.add(Dense(128, activation='relu'))\n",
    "model_4.add(Dense(64, activation='relu'))\n",
    "model_4.add(Dense(1, activation='sigmoid'))"
   ]
  },
  {
   "cell_type": "code",
   "execution_count": 61,
   "metadata": {},
   "outputs": [],
   "source": [
    "model_4.compile(loss='binary_crossentropy',\n",
    "                optimizer='RMSprop',\n",
    "                metrics=['acc'])"
   ]
  },
  {
   "cell_type": "code",
   "execution_count": 62,
   "metadata": {},
   "outputs": [
    {
     "name": "stdout",
     "output_type": "stream",
     "text": [
      "Model: \"sequential_3\"\n",
      "_________________________________________________________________\n",
      "Layer (type)                 Output Shape              Param #   \n",
      "=================================================================\n",
      "conv2d_12 (Conv2D)           (None, 126, 126, 32)      896       \n",
      "_________________________________________________________________\n",
      "conv2d_13 (Conv2D)           (None, 124, 124, 32)      9248      \n",
      "_________________________________________________________________\n",
      "max_pooling2d_9 (MaxPooling2 (None, 62, 62, 32)        0         \n",
      "_________________________________________________________________\n",
      "conv2d_14 (Conv2D)           (None, 60, 60, 32)        9248      \n",
      "_________________________________________________________________\n",
      "conv2d_15 (Conv2D)           (None, 58, 58, 32)        9248      \n",
      "_________________________________________________________________\n",
      "max_pooling2d_10 (MaxPooling (None, 29, 29, 32)        0         \n",
      "_________________________________________________________________\n",
      "conv2d_16 (Conv2D)           (None, 27, 27, 64)        18496     \n",
      "_________________________________________________________________\n",
      "conv2d_17 (Conv2D)           (None, 25, 25, 64)        36928     \n",
      "_________________________________________________________________\n",
      "max_pooling2d_11 (MaxPooling (None, 12, 12, 64)        0         \n",
      "_________________________________________________________________\n",
      "conv2d_18 (Conv2D)           (None, 10, 10, 64)        36928     \n",
      "_________________________________________________________________\n",
      "conv2d_19 (Conv2D)           (None, 8, 8, 64)          36928     \n",
      "_________________________________________________________________\n",
      "max_pooling2d_12 (MaxPooling (None, 4, 4, 64)          0         \n",
      "_________________________________________________________________\n",
      "flatten_3 (Flatten)          (None, 1024)              0         \n",
      "_________________________________________________________________\n",
      "dense_7 (Dense)              (None, 128)               131200    \n",
      "_________________________________________________________________\n",
      "dense_8 (Dense)              (None, 64)                8256      \n",
      "_________________________________________________________________\n",
      "dense_9 (Dense)              (None, 1)                 65        \n",
      "=================================================================\n",
      "Total params: 297,441\n",
      "Trainable params: 297,441\n",
      "Non-trainable params: 0\n",
      "_________________________________________________________________\n"
     ]
    }
   ],
   "source": [
    "model_4.summary()"
   ]
  },
  {
   "cell_type": "code",
   "execution_count": 63,
   "metadata": {},
   "outputs": [
    {
     "name": "stdout",
     "output_type": "stream",
     "text": [
      "Epoch 1/50\n",
      "163/163 [==============================] - 214s 1s/step - loss: 0.6027 - acc: 0.6952 - val_loss: 0.5036 - val_acc: 0.7520\n",
      "Epoch 2/50\n",
      "163/163 [==============================] - 204s 1s/step - loss: 0.2810 - acc: 0.8804 - val_loss: 0.4921 - val_acc: 0.8160\n",
      "Epoch 3/50\n",
      "163/163 [==============================] - 209s 1s/step - loss: 0.1877 - acc: 0.9247 - val_loss: 0.4254 - val_acc: 0.8160\n",
      "Epoch 4/50\n",
      "163/163 [==============================] - 206s 1s/step - loss: 0.1424 - acc: 0.9440 - val_loss: 0.6236 - val_acc: 0.8160\n",
      "Epoch 5/50\n",
      "163/163 [==============================] - 208s 1s/step - loss: 0.1342 - acc: 0.9492 - val_loss: 1.1973 - val_acc: 0.7520\n",
      "Epoch 6/50\n",
      "163/163 [==============================] - 215s 1s/step - loss: 0.1112 - acc: 0.9584 - val_loss: 0.3990 - val_acc: 0.8640\n",
      "Epoch 7/50\n",
      "163/163 [==============================] - 211s 1s/step - loss: 0.0936 - acc: 0.9622 - val_loss: 2.5804 - val_acc: 0.7520\n",
      "Epoch 8/50\n",
      "163/163 [==============================] - 211s 1s/step - loss: 0.0977 - acc: 0.9661 - val_loss: 0.5011 - val_acc: 0.8560\n",
      "Epoch 9/50\n",
      "163/163 [==============================] - 211s 1s/step - loss: 0.0980 - acc: 0.9661 - val_loss: 1.5900 - val_acc: 0.6960\n",
      "Epoch 10/50\n",
      "163/163 [==============================] - 209s 1s/step - loss: 0.0734 - acc: 0.9747 - val_loss: 1.1677 - val_acc: 0.7680\n",
      "Epoch 11/50\n",
      "163/163 [==============================] - 207s 1s/step - loss: 0.0927 - acc: 0.9739 - val_loss: 0.5980 - val_acc: 0.8000\n"
     ]
    }
   ],
   "source": [
    "results_4 = model_4.fit(train_images,\n",
    "                        train_labels,\n",
    "                   epochs=50,\n",
    "                   batch_size=32,\n",
    "                    validation_data=(X_val_split, y_val_split),\n",
    "                    #validation_data=(val_images, val_labels),\n",
    "                   #validation_split=.2,\n",
    "                   class_weight=weights_dict,\n",
    "                   callbacks=[early_stopping])"
   ]
  },
  {
   "cell_type": "code",
   "execution_count": 64,
   "metadata": {},
   "outputs": [
    {
     "data": {
      "image/png": "[encoded data removed]",
      "text/plain": [
       "<Figure size 432x288 with 1 Axes>"
      ]
     },
     "metadata": {
      "needs_background": "light"
     },
     "output_type": "display_data"
    },
    {
     "data": {
      "image/png": "[encoded data removed]",
      "text/plain": [
       "<Figure size 432x288 with 1 Axes>"
      ]
     },
     "metadata": {
      "needs_background": "light"
     },
     "output_type": "display_data"
    },
    {
     "data": {
      "image/png": "[encoded data removed]",
      "text/plain": [
       "<Figure size 432x288 with 2 Axes>"
      ]
     },
     "metadata": {
      "needs_background": "light"
     },
     "output_type": "display_data"
    },
    {
     "name": "stdout",
     "output_type": "stream",
     "text": [
      "\n",
      "\n",
      "              precision    recall  f1-score   support\n",
      "\n",
      "           0       0.92      0.60      0.73       234\n",
      "           1       0.80      0.97      0.88       390\n",
      "\n",
      "    accuracy                           0.83       624\n",
      "   macro avg       0.86      0.78      0.80       624\n",
      "weighted avg       0.85      0.83      0.82       624\n",
      "\n",
      "\n",
      "\n",
      "20/20 [==============================] - 6s 308ms/step - loss: 0.5841 - acc: 0.8301\n",
      "Test Loss: 0.5840997099876404\n",
      "Test Acc: 0.8301281929016113\n"
     ]
    }
   ],
   "source": [
    "eval_results(results_4)"
   ]
  },
  {
   "cell_type": "markdown",
   "metadata": {},
   "source": [
    "### Model 5: Transfer Learning with VGG19 "
   ]
  },
  {
   "cell_type": "code",
   "execution_count": 65,
   "metadata": {},
   "outputs": [],
   "source": [
    "from tensorflow.keras.applications import VGG16, VGG19\n",
    "\n",
    "pretrained_cnn = VGG19(weights='imagenet', \n",
    "                 include_top=False, \n",
    "                 input_shape=input_shape)\n",
    "\n",
    "#pretrained_cnn.trainable = False\n"
   ]
  },
  {
   "cell_type": "code",
   "execution_count": 66,
   "metadata": {},
   "outputs": [],
   "source": [
    "# Freeze model\n",
    "# you have to do this before you train model\n",
    "pretrained_cnn.trainable = False"
   ]
  },
  {
   "cell_type": "code",
   "execution_count": 67,
   "metadata": {},
   "outputs": [],
   "source": [
    "model_5 = models.Sequential()\n",
    "model_5.add(pretrained_cnn)\n",
    "model_5.add(Flatten())\n",
    "model_5.add(Dense(128, activation='relu'))\n",
    "model_5.add(Dense(1, activation='sigmoid'))"
   ]
  },
  {
   "cell_type": "code",
   "execution_count": 68,
   "metadata": {},
   "outputs": [
    {
     "name": "stdout",
     "output_type": "stream",
     "text": [
      "Model: \"vgg19\"\n",
      "_________________________________________________________________\n",
      "Layer (type)                 Output Shape              Param #   \n",
      "=================================================================\n",
      "input_1 (InputLayer)         [(None, 128, 128, 3)]     0         \n",
      "_________________________________________________________________\n",
      "block1_conv1 (Conv2D)        (None, 128, 128, 64)      1792      \n",
      "_________________________________________________________________\n",
      "block1_conv2 (Conv2D)        (None, 128, 128, 64)      36928     \n",
      "_________________________________________________________________\n",
      "block1_pool (MaxPooling2D)   (None, 64, 64, 64)        0         \n",
      "_________________________________________________________________\n",
      "block2_conv1 (Conv2D)        (None, 64, 64, 128)       73856     \n",
      "_________________________________________________________________\n",
      "block2_conv2 (Conv2D)        (None, 64, 64, 128)       147584    \n",
      "_________________________________________________________________\n",
      "block2_pool (MaxPooling2D)   (None, 32, 32, 128)       0         \n",
      "_________________________________________________________________\n",
      "block3_conv1 (Conv2D)        (None, 32, 32, 256)       295168    \n",
      "_________________________________________________________________\n",
      "block3_conv2 (Conv2D)        (None, 32, 32, 256)       590080    \n",
      "_________________________________________________________________\n",
      "block3_conv3 (Conv2D)        (None, 32, 32, 256)       590080    \n",
      "_________________________________________________________________\n",
      "block3_conv4 (Conv2D)        (None, 32, 32, 256)       590080    \n",
      "_________________________________________________________________\n",
      "block3_pool (MaxPooling2D)   (None, 16, 16, 256)       0         \n",
      "_________________________________________________________________\n",
      "block4_conv1 (Conv2D)        (None, 16, 16, 512)       1180160   \n",
      "_________________________________________________________________\n",
      "block4_conv2 (Conv2D)        (None, 16, 16, 512)       2359808   \n",
      "_________________________________________________________________\n",
      "block4_conv3 (Conv2D)        (None, 16, 16, 512)       2359808   \n",
      "_________________________________________________________________\n",
      "block4_conv4 (Conv2D)        (None, 16, 16, 512)       2359808   \n",
      "_________________________________________________________________\n",
      "block4_pool (MaxPooling2D)   (None, 8, 8, 512)         0         \n",
      "_________________________________________________________________\n",
      "block5_conv1 (Conv2D)        (None, 8, 8, 512)         2359808   \n",
      "_________________________________________________________________\n",
      "block5_conv2 (Conv2D)        (None, 8, 8, 512)         2359808   \n",
      "_________________________________________________________________\n",
      "block5_conv3 (Conv2D)        (None, 8, 8, 512)         2359808   \n",
      "_________________________________________________________________\n",
      "block5_conv4 (Conv2D)        (None, 8, 8, 512)         2359808   \n",
      "_________________________________________________________________\n",
      "block5_pool (MaxPooling2D)   (None, 4, 4, 512)         0         \n",
      "=================================================================\n",
      "Total params: 20,024,384\n",
      "Trainable params: 0\n",
      "Non-trainable params: 20,024,384\n",
      "_________________________________________________________________\n"
     ]
    }
   ],
   "source": [
    "pretrained_cnn.summary()"
   ]
  },
  {
   "cell_type": "code",
   "execution_count": 69,
   "metadata": {},
   "outputs": [],
   "source": [
    "# Check whether the layer is trainable\n",
    "#for layer in model_5.layers:\n",
    "#     print(layer.name, layer.trainable)\n",
    "    \n",
    "# Check trainable weights\n",
    "# print(len(model_5.trainable_weights))"
   ]
  },
  {
   "cell_type": "code",
   "execution_count": 70,
   "metadata": {},
   "outputs": [],
   "source": [
    "# Check that it is frozen\n",
    "# for layer in model_5.layers:\n",
    "#     print(layer.name, layer.trainable)\n",
    "    \n",
    "# Check trainable weights\n",
    "# print(len(model_5.trainable_weights))"
   ]
  },
  {
   "cell_type": "code",
   "execution_count": 71,
   "metadata": {},
   "outputs": [],
   "source": [
    "model_5.compile(loss='binary_crossentropy',\n",
    "                optimizer='RMSprop',\n",
    "                metrics=['acc'])"
   ]
  },
  {
   "cell_type": "code",
   "execution_count": 72,
   "metadata": {},
   "outputs": [
    {
     "name": "stdout",
     "output_type": "stream",
     "text": [
      "Model: \"sequential_4\"\n",
      "_________________________________________________________________\n",
      "Layer (type)                 Output Shape              Param #   \n",
      "=================================================================\n",
      "vgg19 (Functional)           (None, 4, 4, 512)         20024384  \n",
      "_________________________________________________________________\n",
      "flatten_4 (Flatten)          (None, 8192)              0         \n",
      "_________________________________________________________________\n",
      "dense_10 (Dense)             (None, 128)               1048704   \n",
      "_________________________________________________________________\n",
      "dense_11 (Dense)             (None, 1)                 129       \n",
      "=================================================================\n",
      "Total params: 21,073,217\n",
      "Trainable params: 1,048,833\n",
      "Non-trainable params: 20,024,384\n",
      "_________________________________________________________________\n"
     ]
    }
   ],
   "source": [
    "model_5.summary()"
   ]
  },
  {
   "cell_type": "code",
   "execution_count": 73,
   "metadata": {},
   "outputs": [
    {
     "name": "stdout",
     "output_type": "stream",
     "text": [
      "Epoch 1/20\n",
      "163/163 [==============================] - 738s 5s/step - loss: 0.3373 - acc: 0.8762 - val_loss: 0.5928 - val_acc: 0.7840\n",
      "Epoch 2/20\n",
      "163/163 [==============================] - 744s 5s/step - loss: 0.1310 - acc: 0.9484 - val_loss: 1.1335 - val_acc: 0.6880\n",
      "Epoch 3/20\n",
      "163/163 [==============================] - 730s 4s/step - loss: 0.1128 - acc: 0.9572 - val_loss: 0.5747 - val_acc: 0.8320\n",
      "Epoch 4/20\n",
      "163/163 [==============================] - 729s 4s/step - loss: 0.0918 - acc: 0.9615 - val_loss: 0.8070 - val_acc: 0.8080\n",
      "Epoch 5/20\n",
      "163/163 [==============================] - 741s 5s/step - loss: 0.0901 - acc: 0.9636 - val_loss: 0.8531 - val_acc: 0.7840\n",
      "Epoch 6/20\n",
      "163/163 [==============================] - 726s 4s/step - loss: 0.0734 - acc: 0.9707 - val_loss: 0.9904 - val_acc: 0.7760\n",
      "Epoch 7/20\n",
      "163/163 [==============================] - 729s 4s/step - loss: 0.0742 - acc: 0.9718 - val_loss: 1.2388 - val_acc: 0.7440\n",
      "Epoch 8/20\n",
      "163/163 [==============================] - 734s 5s/step - loss: 0.0661 - acc: 0.9753 - val_loss: 1.4374 - val_acc: 0.6880\n"
     ]
    }
   ],
   "source": [
    "results_5 = model_5.fit(train_images,\n",
    "                   train_labels,\n",
    "                   epochs=20,\n",
    "                   batch_size=32,\n",
    "                    validation_data=(X_val_split, y_val_split),\n",
    "                    #validation_data=(val_images, val_labels),\n",
    "                   #validation_split=.2,\n",
    "                   class_weight=weights_dict,\n",
    "                   callbacks=[early_stopping])"
   ]
  },
  {
   "cell_type": "code",
   "execution_count": 74,
   "metadata": {},
   "outputs": [
    {
     "data": {
      "image/png": "[encoded data removed]",
      "text/plain": [
       "<Figure size 432x288 with 1 Axes>"
      ]
     },
     "metadata": {
      "needs_background": "light"
     },
     "output_type": "display_data"
    },
    {
     "data": {
      "image/png": "[encoded data removed]",
      "text/plain": [
       "<Figure size 432x288 with 1 Axes>"
      ]
     },
     "metadata": {
      "needs_background": "light"
     },
     "output_type": "display_data"
    },
    {
     "data": {
      "image/png": "[encoded data removed]",
      "text/plain": [
       "<Figure size 432x288 with 2 Axes>"
      ]
     },
     "metadata": {
      "needs_background": "light"
     },
     "output_type": "display_data"
    },
    {
     "name": "stdout",
     "output_type": "stream",
     "text": [
      "\n",
      "\n",
      "              precision    recall  f1-score   support\n",
      "\n",
      "           0       0.98      0.34      0.51       234\n",
      "           1       0.72      0.99      0.83       390\n",
      "\n",
      "    accuracy                           0.75       624\n",
      "   macro avg       0.85      0.67      0.67       624\n",
      "weighted avg       0.81      0.75      0.71       624\n",
      "\n",
      "\n",
      "\n",
      "20/20 [==============================] - 79s 4s/step - loss: 1.3027 - acc: 0.7500\n",
      "Test Loss: 1.302717685699463\n",
      "Test Acc: 0.75\n"
     ]
    }
   ],
   "source": [
    "eval_results(results_5)"
   ]
  },
  {
   "cell_type": "markdown",
   "metadata": {},
   "source": [
    "## Conclusions and Recommendations\n",
    "***\n",
    "The best model had an accuracy rate of almost 84%, which is not great, but still pretty good. Most of the models I built had an accuracy of 70% and up. The models most likely need some more hyperparameter tuning and general tuning. My best model is struggles with predicting pneumonia images and is more likely to predict false negatives.\n",
    "\n",
    "My recommendations would be to use this model as a first opinion. Then professional doctors would be used as a necessary second opinion to finally determine whether or not a patient has pneumonia. I would also recommend training these models on adult X-Ray images, since these images are only of pedatric patients ranging from ages one to five. I would also recommend to crop out (if possible) any visible organs that can confuse the models when classifying images. "
   ]
  },
  {
   "cell_type": "markdown",
   "metadata": {},
   "source": [
    "## Future Work\n",
    "***\n",
    "The X-Ray images still have some organs visible in the image which can confuse the model. If these organs can be cropped out before being included in the image sets, I think that would help the model perform better.\n",
    "\n",
    "For this image classification, I used 224 X 224 px image sizes initially. This made model training EXTREMELY slow. I lowered the image sizes to 128 X 128 px which improved runtime. With more time, I would have liked to use 64 X 64 px or 32 X 32 px. This would greatly improve runtime and would allow me more time to run other models.\n",
    "\n",
    "I would also like to research other methods of image classification and do some CNN tuning. I believe that some more preprocessing would help improve the models performance too.\n",
    "\n",
    "I also believe it would beneficial to train the model on adult X-Ray images. These X-ray images were obtained from pediatric patients so training it on adult images would be beneficial to improving the model."
   ]
  },
  {
   "cell_type": "code",
   "execution_count": null,
   "metadata": {},
   "outputs": [],
   "source": []
  }
 ],
 "metadata": {
  "kernelspec": {
   "display_name": "learn-env",
   "language": "python",
   "name": "learn-env"
  },
  "language_info": {
   "codemirror_mode": {
    "name": "ipython",
    "version": 3
   },
   "file_extension": ".py",
   "mimetype": "text/x-python",
   "name": "python",
   "nbconvert_exporter": "python",
   "pygments_lexer": "ipython3",
   "version": "3.6.9"
  },
  "toc": {
   "base_numbering": 1,
   "nav_menu": {},
   "number_sections": false,
   "sideBar": true,
   "skip_h1_title": false,
   "title_cell": "Table of Contents",
   "title_sidebar": "Contents",
   "toc_cell": false,
   "toc_position": {},
   "toc_section_display": true,
   "toc_window_display": false
  },
  "varInspector": {
   "cols": {
    "lenName": 16,
    "lenType": 16,
    "lenVar": 40
   },
   "kernels_config": {
    "python": {
     "delete_cmd_postfix": "",
     "delete_cmd_prefix": "del ",
     "library": "var_list.py",
     "varRefreshCmd": "print(var_dic_list())"
    },
    "r": {
     "delete_cmd_postfix": ") ",
     "delete_cmd_prefix": "rm(",
     "library": "var_list.r",
     "varRefreshCmd": "cat(var_dic_list()) "
    }
   },
   "types_to_exclude": [
    "module",
    "function",
    "builtin_function_or_method",
    "instance",
    "_Feature"
   ],
   "window_display": false
  }
 },
 "nbformat": 4,
 "nbformat_minor": 4
}
